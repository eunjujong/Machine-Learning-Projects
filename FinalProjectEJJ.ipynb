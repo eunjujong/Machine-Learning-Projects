{
 "cells": [
  {
   "cell_type": "markdown",
   "metadata": {},
   "source": [
    "## Final Project  - Neural Networks in Economics\n",
    "### Eun Ju Jong"
   ]
  },
  {
   "cell_type": "markdown",
   "metadata": {},
   "source": [
    "*ALL THE VARIABLES ARE LAGGED 1 YEAR\t\n",
    "\n",
    "[Variables\tLabel]\n",
    "\n",
    "FDI Inflows - fdi\n",
    "\n",
    "Market Size (log of GDP) - mktsize\n",
    "\n",
    "GDP Growth - gdpgrwth\n",
    "\n",
    "Development level (GDP Per CapitaGDP Per Capita) - gdpcap\n",
    "\n",
    "Budget Deficit - def\n",
    "\n",
    "General Government Consumption - govcsmp\n",
    "\n",
    "Trade openness - trade\n",
    "\n",
    "Under/Signed 1995-2017 - used\n",
    "\n",
    "Inflation - inf\n",
    "\n",
    "Domestic Investment - dominv\n",
    "\n",
    "Short-term debt - sdebt\n",
    "\n",
    "th\n",
    "\n",
    "**Note that the following data is only part of the data I had used in my thesis.**\n",
    "**Endogenour VAR: "
   ]
  },
  {
   "cell_type": "code",
   "execution_count": 31,
   "metadata": {},
   "outputs": [],
   "source": [
    "%matplotlib inline\n",
    "import numpy as np\n",
    "import matplotlib.pyplot as plt\n",
    "import pandas as pd\n",
    "from IPython.display import display\n",
    "import os\n",
    "import pandas as pd\n",
    "import matplotlib as mpl\n",
    "mpl.rc('axes', labelsize=14)\n",
    "mpl.rc('xtick', labelsize=12)\n",
    "mpl.rc('ytick', labelsize=12)\n",
    "np.random.seed(42)\n",
    "from sklearn.model_selection import train_test_split\n",
    "from sklearn.linear_model import LinearRegression\n",
    "from sklearn.metrics import mean_squared_error, r2_score\n",
    "from sklearn.linear_model import Ridge\n",
    "from sklearn.neural_network import MLPRegressor\n",
    "from pandas import ExcelFile"
   ]
  },
  {
   "cell_type": "code",
   "execution_count": 2,
   "metadata": {},
   "outputs": [
    {
     "name": "stdout",
     "output_type": "stream",
     "text": [
      "['Data Info', 'All', 'FDI', 'GDPCapita', 'Market Size', 'GDP Growth', 'Trade', 'Gov. Cons.', 'Budget Deficit', 'Inflation', 'Dom Invst.', 'Shortterm Debt', 'IMF Arr', 'East Asia and Pacific', 'Europe and Central Asia', 'Latin America and Caribbean', 'Middle East and North Africa', 'South Asia', 'Sub-saharan Africa', 'Soviet Un.', 'Year dummies']\n"
     ]
    },
    {
     "data": {
      "text/html": [
       "<div>\n",
       "<style scoped>\n",
       "    .dataframe tbody tr th:only-of-type {\n",
       "        vertical-align: middle;\n",
       "    }\n",
       "\n",
       "    .dataframe tbody tr th {\n",
       "        vertical-align: top;\n",
       "    }\n",
       "\n",
       "    .dataframe thead th {\n",
       "        text-align: right;\n",
       "    }\n",
       "</style>\n",
       "<table border=\"1\" class=\"dataframe\">\n",
       "  <thead>\n",
       "    <tr style=\"text-align: right;\">\n",
       "      <th></th>\n",
       "      <th>Country</th>\n",
       "      <th>Year</th>\n",
       "      <th>FDI</th>\n",
       "      <th>Lagged GDPcap</th>\n",
       "      <th>Lagged Mktsz</th>\n",
       "      <th>Lagged GDP Growth</th>\n",
       "      <th>Lagged Trade</th>\n",
       "      <th>Lagged Gov Consmp</th>\n",
       "      <th>Lagged Deficit</th>\n",
       "      <th>Lagged Inflation</th>\n",
       "      <th>...</th>\n",
       "      <th>y14</th>\n",
       "      <th>y15</th>\n",
       "      <th>y16</th>\n",
       "      <th>y17</th>\n",
       "      <th>y18</th>\n",
       "      <th>y19</th>\n",
       "      <th>y20</th>\n",
       "      <th>y21</th>\n",
       "      <th>y22</th>\n",
       "      <th>y23</th>\n",
       "    </tr>\n",
       "  </thead>\n",
       "  <tbody>\n",
       "    <tr>\n",
       "      <td>0</td>\n",
       "      <td>Albania</td>\n",
       "      <td>1995</td>\n",
       "      <td>2.927576</td>\n",
       "      <td>6.393236</td>\n",
       "      <td>7.539533</td>\n",
       "      <td>10.608391</td>\n",
       "      <td>48.950450</td>\n",
       "      <td>13.850000</td>\n",
       "      <td>NaN</td>\n",
       "      <td>2.128790</td>\n",
       "      <td>...</td>\n",
       "      <td>0</td>\n",
       "      <td>0</td>\n",
       "      <td>0</td>\n",
       "      <td>0</td>\n",
       "      <td>0</td>\n",
       "      <td>0</td>\n",
       "      <td>0</td>\n",
       "      <td>0</td>\n",
       "      <td>0</td>\n",
       "      <td>0</td>\n",
       "    </tr>\n",
       "    <tr>\n",
       "      <td>1</td>\n",
       "      <td>Albania</td>\n",
       "      <td>1996</td>\n",
       "      <td>2.815627</td>\n",
       "      <td>6.644643</td>\n",
       "      <td>7.780205</td>\n",
       "      <td>27.210385</td>\n",
       "      <td>47.610595</td>\n",
       "      <td>13.646130</td>\n",
       "      <td>-7.80</td>\n",
       "      <td>12.255360</td>\n",
       "      <td>...</td>\n",
       "      <td>0</td>\n",
       "      <td>0</td>\n",
       "      <td>0</td>\n",
       "      <td>0</td>\n",
       "      <td>0</td>\n",
       "      <td>0</td>\n",
       "      <td>0</td>\n",
       "      <td>0</td>\n",
       "      <td>0</td>\n",
       "      <td>0</td>\n",
       "    </tr>\n",
       "    <tr>\n",
       "      <td>2</td>\n",
       "      <td>Albania</td>\n",
       "      <td>1997</td>\n",
       "      <td>2.136961</td>\n",
       "      <td>6.939812</td>\n",
       "      <td>8.070794</td>\n",
       "      <td>33.721531</td>\n",
       "      <td>44.895427</td>\n",
       "      <td>9.357657</td>\n",
       "      <td>-9.85</td>\n",
       "      <td>22.565907</td>\n",
       "      <td>...</td>\n",
       "      <td>0</td>\n",
       "      <td>0</td>\n",
       "      <td>0</td>\n",
       "      <td>0</td>\n",
       "      <td>0</td>\n",
       "      <td>0</td>\n",
       "      <td>0</td>\n",
       "      <td>0</td>\n",
       "      <td>0</td>\n",
       "      <td>0</td>\n",
       "    </tr>\n",
       "    <tr>\n",
       "      <td>3</td>\n",
       "      <td>Albania</td>\n",
       "      <td>1998</td>\n",
       "      <td>1.761765</td>\n",
       "      <td>6.576036</td>\n",
       "      <td>7.707357</td>\n",
       "      <td>-30.471784</td>\n",
       "      <td>45.425523</td>\n",
       "      <td>10.426260</td>\n",
       "      <td>-11.90</td>\n",
       "      <td>-22.020468</td>\n",
       "      <td>...</td>\n",
       "      <td>0</td>\n",
       "      <td>0</td>\n",
       "      <td>0</td>\n",
       "      <td>0</td>\n",
       "      <td>0</td>\n",
       "      <td>0</td>\n",
       "      <td>0</td>\n",
       "      <td>0</td>\n",
       "      <td>0</td>\n",
       "      <td>0</td>\n",
       "    </tr>\n",
       "    <tr>\n",
       "      <td>4</td>\n",
       "      <td>Albania</td>\n",
       "      <td>1999</td>\n",
       "      <td>1.278836</td>\n",
       "      <td>6.710909</td>\n",
       "      <td>7.845756</td>\n",
       "      <td>14.843432</td>\n",
       "      <td>48.137484</td>\n",
       "      <td>10.716920</td>\n",
       "      <td>-9.93</td>\n",
       "      <td>5.526141</td>\n",
       "      <td>...</td>\n",
       "      <td>0</td>\n",
       "      <td>0</td>\n",
       "      <td>0</td>\n",
       "      <td>0</td>\n",
       "      <td>0</td>\n",
       "      <td>0</td>\n",
       "      <td>0</td>\n",
       "      <td>0</td>\n",
       "      <td>0</td>\n",
       "      <td>0</td>\n",
       "    </tr>\n",
       "  </tbody>\n",
       "</table>\n",
       "<p>5 rows × 44 columns</p>\n",
       "</div>"
      ],
      "text/plain": [
       "   Country  Year       FDI  Lagged GDPcap  Lagged Mktsz  Lagged GDP Growth  \\\n",
       "0  Albania  1995  2.927576       6.393236      7.539533          10.608391   \n",
       "1  Albania  1996  2.815627       6.644643      7.780205          27.210385   \n",
       "2  Albania  1997  2.136961       6.939812      8.070794          33.721531   \n",
       "3  Albania  1998  1.761765       6.576036      7.707357         -30.471784   \n",
       "4  Albania  1999  1.278836       6.710909      7.845756          14.843432   \n",
       "\n",
       "   Lagged Trade  Lagged Gov Consmp  Lagged Deficit  Lagged Inflation  ...  \\\n",
       "0     48.950450          13.850000             NaN          2.128790  ...   \n",
       "1     47.610595          13.646130           -7.80         12.255360  ...   \n",
       "2     44.895427           9.357657           -9.85         22.565907  ...   \n",
       "3     45.425523          10.426260          -11.90        -22.020468  ...   \n",
       "4     48.137484          10.716920           -9.93          5.526141  ...   \n",
       "\n",
       "   y14  y15  y16  y17  y18  y19  y20  y21  y22  y23  \n",
       "0    0    0    0    0    0    0    0    0    0    0  \n",
       "1    0    0    0    0    0    0    0    0    0    0  \n",
       "2    0    0    0    0    0    0    0    0    0    0  \n",
       "3    0    0    0    0    0    0    0    0    0    0  \n",
       "4    0    0    0    0    0    0    0    0    0    0  \n",
       "\n",
       "[5 rows x 44 columns]"
      ]
     },
     "execution_count": 2,
     "metadata": {},
     "output_type": "execute_result"
    }
   ],
   "source": [
    "xl = pd.ExcelFile(\"ECNThesisData.xlsx\")\n",
    "print(xl.sheet_names)\n",
    "imf = xl.parse(\"All\")\n",
    "imf.head()"
   ]
  },
  {
   "cell_type": "code",
   "execution_count": 3,
   "metadata": {},
   "outputs": [
    {
     "name": "stdout",
     "output_type": "stream",
     "text": [
      "<class 'pandas.core.frame.DataFrame'>\n",
      "RangeIndex: 2185 entries, 0 to 2184\n",
      "Data columns (total 44 columns):\n",
      "Country                         2185 non-null object\n",
      "Year                            2185 non-null int64\n",
      "FDI                             2178 non-null float64\n",
      "Lagged GDPcap                   2185 non-null float64\n",
      "Lagged Mktsz                    2185 non-null float64\n",
      "Lagged GDP Growth               2185 non-null float64\n",
      "Lagged Trade                    2172 non-null float64\n",
      "Lagged Gov Consmp               2183 non-null float64\n",
      "Lagged Deficit                  2080 non-null float64\n",
      "Lagged Inflation                2170 non-null float64\n",
      "Lagged Dom Inv                  2185 non-null float64\n",
      "Lagged Used                     2185 non-null int64\n",
      "Lagged End                      2185 non-null int64\n",
      "Lagged Have                     2185 non-null int64\n",
      "East Asia and Pacific           2185 non-null int64\n",
      "Europe and Central Asia         2185 non-null int64\n",
      "Latin America and Caribbean     2185 non-null int64\n",
      "Middle East and North Africa    2185 non-null int64\n",
      "South Asia                      2185 non-null int64\n",
      "Sub-saharan Africa              2185 non-null int64\n",
      "Soviet Union                    2185 non-null int64\n",
      "y1                              2185 non-null int64\n",
      "y2                              2185 non-null int64\n",
      "y3                              2185 non-null int64\n",
      "y4                              2185 non-null int64\n",
      "y5                              2185 non-null int64\n",
      "y6                              2185 non-null int64\n",
      "y7                              2185 non-null int64\n",
      "y8                              2185 non-null int64\n",
      "y9                              2185 non-null int64\n",
      "y10                             2185 non-null int64\n",
      "y11                             2185 non-null int64\n",
      "y12                             2185 non-null int64\n",
      "y13                             2185 non-null int64\n",
      "y14                             2185 non-null int64\n",
      "y15                             2185 non-null int64\n",
      "y16                             2185 non-null int64\n",
      "y17                             2185 non-null int64\n",
      "y18                             2185 non-null int64\n",
      "y19                             2185 non-null int64\n",
      "y20                             2185 non-null int64\n",
      "y21                             2185 non-null int64\n",
      "y22                             2185 non-null int64\n",
      "y23                             2185 non-null int64\n",
      "dtypes: float64(9), int64(34), object(1)\n",
      "memory usage: 751.2+ KB\n"
     ]
    }
   ],
   "source": [
    "imf.info()"
   ]
  },
  {
   "cell_type": "code",
   "execution_count": 4,
   "metadata": {},
   "outputs": [
    {
     "data": {
      "text/plain": [
       "Eswatini (Swaziland)    23\n",
       "Cabo Verde              23\n",
       "Peru                    23\n",
       "Bhutan                  23\n",
       "Indonesia               23\n",
       "                        ..\n",
       "Angola                  23\n",
       "Guatemala               23\n",
       "Tonga                   23\n",
       "Bangladesh              23\n",
       "Zimbabwe                23\n",
       "Name: Country, Length: 95, dtype: int64"
      ]
     },
     "execution_count": 4,
     "metadata": {},
     "output_type": "execute_result"
    }
   ],
   "source": [
    "imf[\"Country\"].value_counts()"
   ]
  },
  {
   "cell_type": "code",
   "execution_count": 5,
   "metadata": {},
   "outputs": [
    {
     "data": {
      "text/plain": [
       "2017    95\n",
       "2016    95\n",
       "1998    95\n",
       "2000    95\n",
       "2002    95\n",
       "2004    95\n",
       "2006    95\n",
       "2008    95\n",
       "2010    95\n",
       "2012    95\n",
       "2014    95\n",
       "1995    95\n",
       "2015    95\n",
       "1997    95\n",
       "1999    95\n",
       "2001    95\n",
       "2003    95\n",
       "2005    95\n",
       "2007    95\n",
       "2009    95\n",
       "2011    95\n",
       "2013    95\n",
       "1996    95\n",
       "Name: Year, dtype: int64"
      ]
     },
     "execution_count": 5,
     "metadata": {},
     "output_type": "execute_result"
    }
   ],
   "source": [
    "imf[\"Year\"].value_counts()"
   ]
  },
  {
   "cell_type": "code",
   "execution_count": 6,
   "metadata": {},
   "outputs": [
    {
     "data": {
      "text/plain": [
       "0    1501\n",
       "1     684\n",
       "Name: Lagged Used, dtype: int64"
      ]
     },
     "execution_count": 6,
     "metadata": {},
     "output_type": "execute_result"
    }
   ],
   "source": [
    "imf[\"Lagged Used\"].value_counts()"
   ]
  },
  {
   "cell_type": "code",
   "execution_count": 7,
   "metadata": {},
   "outputs": [
    {
     "data": {
      "text/plain": [
       "1    1633\n",
       "0     552\n",
       "Name: Lagged Have, dtype: int64"
      ]
     },
     "execution_count": 7,
     "metadata": {},
     "output_type": "execute_result"
    }
   ],
   "source": [
    "imf[\"Lagged Have\"].value_counts()"
   ]
  },
  {
   "cell_type": "code",
   "execution_count": 8,
   "metadata": {},
   "outputs": [
    {
     "data": {
      "text/plain": [
       "0    1771\n",
       "1     414\n",
       "Name: East Asia and Pacific, dtype: int64"
      ]
     },
     "execution_count": 8,
     "metadata": {},
     "output_type": "execute_result"
    }
   ],
   "source": [
    "imf[\"East Asia and Pacific\"].value_counts()"
   ]
  },
  {
   "cell_type": "code",
   "execution_count": 9,
   "metadata": {},
   "outputs": [
    {
     "data": {
      "text/plain": [
       "0    1840\n",
       "1     345\n",
       "Name: Europe and Central Asia, dtype: int64"
      ]
     },
     "execution_count": 9,
     "metadata": {},
     "output_type": "execute_result"
    }
   ],
   "source": [
    "imf[\"Europe and Central Asia\"].value_counts()"
   ]
  },
  {
   "cell_type": "code",
   "execution_count": 10,
   "metadata": {},
   "outputs": [
    {
     "data": {
      "text/plain": [
       "0    1679\n",
       "1     506\n",
       "Name: Latin America and Caribbean, dtype: int64"
      ]
     },
     "execution_count": 10,
     "metadata": {},
     "output_type": "execute_result"
    }
   ],
   "source": [
    "imf[\"Latin America and Caribbean\"].value_counts()"
   ]
  },
  {
   "cell_type": "code",
   "execution_count": 11,
   "metadata": {},
   "outputs": [
    {
     "data": {
      "text/plain": [
       "0    1978\n",
       "1     207\n",
       "Name: Middle East and North Africa, dtype: int64"
      ]
     },
     "execution_count": 11,
     "metadata": {},
     "output_type": "execute_result"
    }
   ],
   "source": [
    "imf[\"Middle East and North Africa\"].value_counts()"
   ]
  },
  {
   "cell_type": "code",
   "execution_count": 12,
   "metadata": {},
   "outputs": [
    {
     "data": {
      "text/plain": [
       "0    2047\n",
       "1     138\n",
       "Name: South Asia, dtype: int64"
      ]
     },
     "execution_count": 12,
     "metadata": {},
     "output_type": "execute_result"
    }
   ],
   "source": [
    "imf[\"South Asia\"].value_counts()"
   ]
  },
  {
   "cell_type": "code",
   "execution_count": 13,
   "metadata": {},
   "outputs": [
    {
     "data": {
      "text/plain": [
       "0    1656\n",
       "1     529\n",
       "Name: Sub-saharan Africa, dtype: int64"
      ]
     },
     "execution_count": 13,
     "metadata": {},
     "output_type": "execute_result"
    }
   ],
   "source": [
    "imf[\"Sub-saharan Africa\"].value_counts()"
   ]
  },
  {
   "cell_type": "code",
   "execution_count": 14,
   "metadata": {},
   "outputs": [
    {
     "data": {
      "text/plain": [
       "0    1978\n",
       "1     207\n",
       "Name: Soviet Union, dtype: int64"
      ]
     },
     "execution_count": 14,
     "metadata": {},
     "output_type": "execute_result"
    }
   ],
   "source": [
    "imf[\"Soviet Union\"].value_counts()"
   ]
  },
  {
   "cell_type": "code",
   "execution_count": 15,
   "metadata": {},
   "outputs": [
    {
     "data": {
      "text/html": [
       "<div>\n",
       "<style scoped>\n",
       "    .dataframe tbody tr th:only-of-type {\n",
       "        vertical-align: middle;\n",
       "    }\n",
       "\n",
       "    .dataframe tbody tr th {\n",
       "        vertical-align: top;\n",
       "    }\n",
       "\n",
       "    .dataframe thead th {\n",
       "        text-align: right;\n",
       "    }\n",
       "</style>\n",
       "<table border=\"1\" class=\"dataframe\">\n",
       "  <thead>\n",
       "    <tr style=\"text-align: right;\">\n",
       "      <th></th>\n",
       "      <th>Year</th>\n",
       "      <th>FDI</th>\n",
       "      <th>Lagged GDPcap</th>\n",
       "      <th>Lagged Mktsz</th>\n",
       "      <th>Lagged GDP Growth</th>\n",
       "      <th>Lagged Trade</th>\n",
       "      <th>Lagged Gov Consmp</th>\n",
       "      <th>Lagged Deficit</th>\n",
       "      <th>Lagged Inflation</th>\n",
       "      <th>Lagged Dom Inv</th>\n",
       "      <th>...</th>\n",
       "      <th>y14</th>\n",
       "      <th>y15</th>\n",
       "      <th>y16</th>\n",
       "      <th>y17</th>\n",
       "      <th>y18</th>\n",
       "      <th>y19</th>\n",
       "      <th>y20</th>\n",
       "      <th>y21</th>\n",
       "      <th>y22</th>\n",
       "      <th>y23</th>\n",
       "    </tr>\n",
       "  </thead>\n",
       "  <tbody>\n",
       "    <tr>\n",
       "      <td>count</td>\n",
       "      <td>2185.000000</td>\n",
       "      <td>2178.000000</td>\n",
       "      <td>2185.000000</td>\n",
       "      <td>2185.000000</td>\n",
       "      <td>2185.000000</td>\n",
       "      <td>2172.000000</td>\n",
       "      <td>2183.000000</td>\n",
       "      <td>2080.000000</td>\n",
       "      <td>2170.000000</td>\n",
       "      <td>2185.000000</td>\n",
       "      <td>...</td>\n",
       "      <td>2185.000000</td>\n",
       "      <td>2185.000000</td>\n",
       "      <td>2185.000000</td>\n",
       "      <td>2185.000000</td>\n",
       "      <td>2185.000000</td>\n",
       "      <td>2185.000000</td>\n",
       "      <td>2185.000000</td>\n",
       "      <td>2185.000000</td>\n",
       "      <td>2185.000000</td>\n",
       "      <td>2185.000000</td>\n",
       "    </tr>\n",
       "    <tr>\n",
       "      <td>mean</td>\n",
       "      <td>2006.000000</td>\n",
       "      <td>4.161262</td>\n",
       "      <td>7.655757</td>\n",
       "      <td>9.528832</td>\n",
       "      <td>7.703871</td>\n",
       "      <td>81.967949</td>\n",
       "      <td>15.619948</td>\n",
       "      <td>-2.414323</td>\n",
       "      <td>3.229645</td>\n",
       "      <td>25.116855</td>\n",
       "      <td>...</td>\n",
       "      <td>0.043478</td>\n",
       "      <td>0.043478</td>\n",
       "      <td>0.043478</td>\n",
       "      <td>0.043478</td>\n",
       "      <td>0.043478</td>\n",
       "      <td>0.043478</td>\n",
       "      <td>0.043478</td>\n",
       "      <td>0.043478</td>\n",
       "      <td>0.043478</td>\n",
       "      <td>0.043478</td>\n",
       "    </tr>\n",
       "    <tr>\n",
       "      <td>std</td>\n",
       "      <td>6.634768</td>\n",
       "      <td>5.376648</td>\n",
       "      <td>0.920223</td>\n",
       "      <td>2.292225</td>\n",
       "      <td>14.203199</td>\n",
       "      <td>35.233033</td>\n",
       "      <td>7.515293</td>\n",
       "      <td>12.534282</td>\n",
       "      <td>11.269153</td>\n",
       "      <td>9.352164</td>\n",
       "      <td>...</td>\n",
       "      <td>0.203978</td>\n",
       "      <td>0.203978</td>\n",
       "      <td>0.203978</td>\n",
       "      <td>0.203978</td>\n",
       "      <td>0.203978</td>\n",
       "      <td>0.203978</td>\n",
       "      <td>0.203978</td>\n",
       "      <td>0.203978</td>\n",
       "      <td>0.203978</td>\n",
       "      <td>0.203978</td>\n",
       "    </tr>\n",
       "    <tr>\n",
       "      <td>min</td>\n",
       "      <td>1995.000000</td>\n",
       "      <td>-37.154800</td>\n",
       "      <td>4.866927</td>\n",
       "      <td>4.003887</td>\n",
       "      <td>-99.952383</td>\n",
       "      <td>0.020999</td>\n",
       "      <td>2.047121</td>\n",
       "      <td>-487.310000</td>\n",
       "      <td>-58.329342</td>\n",
       "      <td>0.272178</td>\n",
       "      <td>...</td>\n",
       "      <td>0.000000</td>\n",
       "      <td>0.000000</td>\n",
       "      <td>0.000000</td>\n",
       "      <td>0.000000</td>\n",
       "      <td>0.000000</td>\n",
       "      <td>0.000000</td>\n",
       "      <td>0.000000</td>\n",
       "      <td>0.000000</td>\n",
       "      <td>0.000000</td>\n",
       "      <td>0.000000</td>\n",
       "    </tr>\n",
       "    <tr>\n",
       "      <td>25%</td>\n",
       "      <td>2000.000000</td>\n",
       "      <td>1.158795</td>\n",
       "      <td>6.994872</td>\n",
       "      <td>7.959210</td>\n",
       "      <td>0.646715</td>\n",
       "      <td>55.593310</td>\n",
       "      <td>11.120205</td>\n",
       "      <td>-4.592500</td>\n",
       "      <td>-1.834955</td>\n",
       "      <td>19.166652</td>\n",
       "      <td>...</td>\n",
       "      <td>0.000000</td>\n",
       "      <td>0.000000</td>\n",
       "      <td>0.000000</td>\n",
       "      <td>0.000000</td>\n",
       "      <td>0.000000</td>\n",
       "      <td>0.000000</td>\n",
       "      <td>0.000000</td>\n",
       "      <td>0.000000</td>\n",
       "      <td>0.000000</td>\n",
       "      <td>0.000000</td>\n",
       "    </tr>\n",
       "    <tr>\n",
       "      <td>50%</td>\n",
       "      <td>2006.000000</td>\n",
       "      <td>2.737902</td>\n",
       "      <td>7.683451</td>\n",
       "      <td>9.550564</td>\n",
       "      <td>7.229923</td>\n",
       "      <td>78.904304</td>\n",
       "      <td>14.422390</td>\n",
       "      <td>-2.360000</td>\n",
       "      <td>2.613945</td>\n",
       "      <td>23.287498</td>\n",
       "      <td>...</td>\n",
       "      <td>0.000000</td>\n",
       "      <td>0.000000</td>\n",
       "      <td>0.000000</td>\n",
       "      <td>0.000000</td>\n",
       "      <td>0.000000</td>\n",
       "      <td>0.000000</td>\n",
       "      <td>0.000000</td>\n",
       "      <td>0.000000</td>\n",
       "      <td>0.000000</td>\n",
       "      <td>0.000000</td>\n",
       "    </tr>\n",
       "    <tr>\n",
       "      <td>75%</td>\n",
       "      <td>2012.000000</td>\n",
       "      <td>5.739440</td>\n",
       "      <td>8.342625</td>\n",
       "      <td>11.115694</td>\n",
       "      <td>14.761283</td>\n",
       "      <td>103.550856</td>\n",
       "      <td>18.131065</td>\n",
       "      <td>-0.030000</td>\n",
       "      <td>8.480523</td>\n",
       "      <td>28.886689</td>\n",
       "      <td>...</td>\n",
       "      <td>0.000000</td>\n",
       "      <td>0.000000</td>\n",
       "      <td>0.000000</td>\n",
       "      <td>0.000000</td>\n",
       "      <td>0.000000</td>\n",
       "      <td>0.000000</td>\n",
       "      <td>0.000000</td>\n",
       "      <td>0.000000</td>\n",
       "      <td>0.000000</td>\n",
       "      <td>0.000000</td>\n",
       "    </tr>\n",
       "    <tr>\n",
       "      <td>max</td>\n",
       "      <td>2017.000000</td>\n",
       "      <td>72.792530</td>\n",
       "      <td>10.040751</td>\n",
       "      <td>16.230623</td>\n",
       "      <td>92.131813</td>\n",
       "      <td>225.412181</td>\n",
       "      <td>63.631940</td>\n",
       "      <td>125.140000</td>\n",
       "      <td>71.443123</td>\n",
       "      <td>95.168750</td>\n",
       "      <td>...</td>\n",
       "      <td>1.000000</td>\n",
       "      <td>1.000000</td>\n",
       "      <td>1.000000</td>\n",
       "      <td>1.000000</td>\n",
       "      <td>1.000000</td>\n",
       "      <td>1.000000</td>\n",
       "      <td>1.000000</td>\n",
       "      <td>1.000000</td>\n",
       "      <td>1.000000</td>\n",
       "      <td>1.000000</td>\n",
       "    </tr>\n",
       "  </tbody>\n",
       "</table>\n",
       "<p>8 rows × 43 columns</p>\n",
       "</div>"
      ],
      "text/plain": [
       "              Year          FDI  Lagged GDPcap  Lagged Mktsz  \\\n",
       "count  2185.000000  2178.000000    2185.000000   2185.000000   \n",
       "mean   2006.000000     4.161262       7.655757      9.528832   \n",
       "std       6.634768     5.376648       0.920223      2.292225   \n",
       "min    1995.000000   -37.154800       4.866927      4.003887   \n",
       "25%    2000.000000     1.158795       6.994872      7.959210   \n",
       "50%    2006.000000     2.737902       7.683451      9.550564   \n",
       "75%    2012.000000     5.739440       8.342625     11.115694   \n",
       "max    2017.000000    72.792530      10.040751     16.230623   \n",
       "\n",
       "       Lagged GDP Growth  Lagged Trade  Lagged Gov Consmp  Lagged Deficit  \\\n",
       "count        2185.000000   2172.000000        2183.000000     2080.000000   \n",
       "mean            7.703871     81.967949          15.619948       -2.414323   \n",
       "std            14.203199     35.233033           7.515293       12.534282   \n",
       "min           -99.952383      0.020999           2.047121     -487.310000   \n",
       "25%             0.646715     55.593310          11.120205       -4.592500   \n",
       "50%             7.229923     78.904304          14.422390       -2.360000   \n",
       "75%            14.761283    103.550856          18.131065       -0.030000   \n",
       "max            92.131813    225.412181          63.631940      125.140000   \n",
       "\n",
       "       Lagged Inflation  Lagged Dom Inv  ...          y14          y15  \\\n",
       "count       2170.000000     2185.000000  ...  2185.000000  2185.000000   \n",
       "mean           3.229645       25.116855  ...     0.043478     0.043478   \n",
       "std           11.269153        9.352164  ...     0.203978     0.203978   \n",
       "min          -58.329342        0.272178  ...     0.000000     0.000000   \n",
       "25%           -1.834955       19.166652  ...     0.000000     0.000000   \n",
       "50%            2.613945       23.287498  ...     0.000000     0.000000   \n",
       "75%            8.480523       28.886689  ...     0.000000     0.000000   \n",
       "max           71.443123       95.168750  ...     1.000000     1.000000   \n",
       "\n",
       "               y16          y17          y18          y19          y20  \\\n",
       "count  2185.000000  2185.000000  2185.000000  2185.000000  2185.000000   \n",
       "mean      0.043478     0.043478     0.043478     0.043478     0.043478   \n",
       "std       0.203978     0.203978     0.203978     0.203978     0.203978   \n",
       "min       0.000000     0.000000     0.000000     0.000000     0.000000   \n",
       "25%       0.000000     0.000000     0.000000     0.000000     0.000000   \n",
       "50%       0.000000     0.000000     0.000000     0.000000     0.000000   \n",
       "75%       0.000000     0.000000     0.000000     0.000000     0.000000   \n",
       "max       1.000000     1.000000     1.000000     1.000000     1.000000   \n",
       "\n",
       "               y21          y22          y23  \n",
       "count  2185.000000  2185.000000  2185.000000  \n",
       "mean      0.043478     0.043478     0.043478  \n",
       "std       0.203978     0.203978     0.203978  \n",
       "min       0.000000     0.000000     0.000000  \n",
       "25%       0.000000     0.000000     0.000000  \n",
       "50%       0.000000     0.000000     0.000000  \n",
       "75%       0.000000     0.000000     0.000000  \n",
       "max       1.000000     1.000000     1.000000  \n",
       "\n",
       "[8 rows x 43 columns]"
      ]
     },
     "execution_count": 15,
     "metadata": {},
     "output_type": "execute_result"
    }
   ],
   "source": [
    "imf.describe()"
   ]
  },
  {
   "cell_type": "code",
   "execution_count": 16,
   "metadata": {},
   "outputs": [
    {
     "data": {
      "text/plain": [
       "FDI                             1.000000\n",
       "Lagged Trade                    0.275899\n",
       "Lagged Dom Inv                  0.164985\n",
       "Lagged GDP Growth               0.100251\n",
       "y14                             0.079855\n",
       "y13                             0.075218\n",
       "Soviet Union                    0.056743\n",
       "Year                            0.056430\n",
       "Europe and Central Asia         0.054241\n",
       "Lagged Inflation                0.051315\n",
       "y12                             0.050176\n",
       "Latin America and Caribbean     0.045837\n",
       "Lagged GDPcap                   0.041251\n",
       "Lagged End                      0.033817\n",
       "y15                             0.032691\n",
       "Lagged Gov Consmp               0.030154\n",
       "y17                             0.023736\n",
       "y16                             0.016746\n",
       "Lagged Used                     0.015729\n",
       "y18                             0.013316\n",
       "y4                              0.010629\n",
       "y10                             0.007344\n",
       "y19                             0.004561\n",
       "y11                             0.004362\n",
       "Sub-saharan Africa             -0.003390\n",
       "y9                             -0.004814\n",
       "y21                            -0.004946\n",
       "y23                            -0.006668\n",
       "East Asia and Pacific          -0.007341\n",
       "Lagged Have                    -0.010405\n",
       "y5                             -0.016230\n",
       "y20                            -0.022119\n",
       "y3                             -0.025280\n",
       "y7                             -0.029143\n",
       "y22                            -0.032259\n",
       "Middle East and North Africa   -0.033076\n",
       "y8                             -0.036431\n",
       "y2                             -0.038432\n",
       "y6                             -0.047410\n",
       "y1                             -0.056012\n",
       "Lagged Deficit                 -0.103112\n",
       "South Asia                     -0.107258\n",
       "Lagged Mktsz                   -0.235334\n",
       "Name: FDI, dtype: float64"
      ]
     },
     "execution_count": 16,
     "metadata": {},
     "output_type": "execute_result"
    }
   ],
   "source": [
    "corr_matrix = imf.corr()\n",
    "corr_matrix[\"FDI\"].sort_values(ascending=False)"
   ]
  },
  {
   "cell_type": "code",
   "execution_count": 17,
   "metadata": {},
   "outputs": [
    {
     "name": "stderr",
     "output_type": "stream",
     "text": [
      "/opt/anaconda3/lib/python3.7/site-packages/pandas/core/series.py:853: RuntimeWarning: invalid value encountered in log\n",
      "  result = getattr(ufunc, method)(*inputs, **kwargs)\n"
     ]
    },
    {
     "data": {
      "text/html": [
       "<div>\n",
       "<style scoped>\n",
       "    .dataframe tbody tr th:only-of-type {\n",
       "        vertical-align: middle;\n",
       "    }\n",
       "\n",
       "    .dataframe tbody tr th {\n",
       "        vertical-align: top;\n",
       "    }\n",
       "\n",
       "    .dataframe thead th {\n",
       "        text-align: right;\n",
       "    }\n",
       "</style>\n",
       "<table border=\"1\" class=\"dataframe\">\n",
       "  <thead>\n",
       "    <tr style=\"text-align: right;\">\n",
       "      <th></th>\n",
       "      <th>Country</th>\n",
       "      <th>Year</th>\n",
       "      <th>ln(FDI)</th>\n",
       "      <th>Lagged GDPcap</th>\n",
       "      <th>Lagged Mktsz</th>\n",
       "      <th>Lagged GDP Growth</th>\n",
       "      <th>Lagged Trade</th>\n",
       "      <th>Lagged Gov Consmp</th>\n",
       "      <th>Lagged Deficit</th>\n",
       "      <th>Lagged Inflation</th>\n",
       "      <th>...</th>\n",
       "      <th>y14</th>\n",
       "      <th>y15</th>\n",
       "      <th>y16</th>\n",
       "      <th>y17</th>\n",
       "      <th>y18</th>\n",
       "      <th>y19</th>\n",
       "      <th>y20</th>\n",
       "      <th>y21</th>\n",
       "      <th>y22</th>\n",
       "      <th>y23</th>\n",
       "    </tr>\n",
       "  </thead>\n",
       "  <tbody>\n",
       "    <tr>\n",
       "      <td>0</td>\n",
       "      <td>Albania</td>\n",
       "      <td>1995</td>\n",
       "      <td>1.074175</td>\n",
       "      <td>6.393236</td>\n",
       "      <td>7.539533</td>\n",
       "      <td>10.608391</td>\n",
       "      <td>48.950450</td>\n",
       "      <td>13.850000</td>\n",
       "      <td>-2.414323</td>\n",
       "      <td>2.128790</td>\n",
       "      <td>...</td>\n",
       "      <td>0</td>\n",
       "      <td>0</td>\n",
       "      <td>0</td>\n",
       "      <td>0</td>\n",
       "      <td>0</td>\n",
       "      <td>0</td>\n",
       "      <td>0</td>\n",
       "      <td>0</td>\n",
       "      <td>0</td>\n",
       "      <td>0</td>\n",
       "    </tr>\n",
       "    <tr>\n",
       "      <td>1</td>\n",
       "      <td>Albania</td>\n",
       "      <td>1996</td>\n",
       "      <td>1.035185</td>\n",
       "      <td>6.644643</td>\n",
       "      <td>7.780205</td>\n",
       "      <td>27.210385</td>\n",
       "      <td>47.610595</td>\n",
       "      <td>13.646130</td>\n",
       "      <td>-7.800000</td>\n",
       "      <td>12.255360</td>\n",
       "      <td>...</td>\n",
       "      <td>0</td>\n",
       "      <td>0</td>\n",
       "      <td>0</td>\n",
       "      <td>0</td>\n",
       "      <td>0</td>\n",
       "      <td>0</td>\n",
       "      <td>0</td>\n",
       "      <td>0</td>\n",
       "      <td>0</td>\n",
       "      <td>0</td>\n",
       "    </tr>\n",
       "    <tr>\n",
       "      <td>2</td>\n",
       "      <td>Albania</td>\n",
       "      <td>1997</td>\n",
       "      <td>0.759385</td>\n",
       "      <td>6.939812</td>\n",
       "      <td>8.070794</td>\n",
       "      <td>33.721531</td>\n",
       "      <td>44.895427</td>\n",
       "      <td>9.357657</td>\n",
       "      <td>-9.850000</td>\n",
       "      <td>22.565907</td>\n",
       "      <td>...</td>\n",
       "      <td>0</td>\n",
       "      <td>0</td>\n",
       "      <td>0</td>\n",
       "      <td>0</td>\n",
       "      <td>0</td>\n",
       "      <td>0</td>\n",
       "      <td>0</td>\n",
       "      <td>0</td>\n",
       "      <td>0</td>\n",
       "      <td>0</td>\n",
       "    </tr>\n",
       "    <tr>\n",
       "      <td>3</td>\n",
       "      <td>Albania</td>\n",
       "      <td>1998</td>\n",
       "      <td>0.566316</td>\n",
       "      <td>6.576036</td>\n",
       "      <td>7.707357</td>\n",
       "      <td>-30.471784</td>\n",
       "      <td>45.425523</td>\n",
       "      <td>10.426260</td>\n",
       "      <td>-11.900000</td>\n",
       "      <td>-22.020468</td>\n",
       "      <td>...</td>\n",
       "      <td>0</td>\n",
       "      <td>0</td>\n",
       "      <td>0</td>\n",
       "      <td>0</td>\n",
       "      <td>0</td>\n",
       "      <td>0</td>\n",
       "      <td>0</td>\n",
       "      <td>0</td>\n",
       "      <td>0</td>\n",
       "      <td>0</td>\n",
       "    </tr>\n",
       "    <tr>\n",
       "      <td>4</td>\n",
       "      <td>Albania</td>\n",
       "      <td>1999</td>\n",
       "      <td>0.245950</td>\n",
       "      <td>6.710909</td>\n",
       "      <td>7.845756</td>\n",
       "      <td>14.843432</td>\n",
       "      <td>48.137484</td>\n",
       "      <td>10.716920</td>\n",
       "      <td>-9.930000</td>\n",
       "      <td>5.526141</td>\n",
       "      <td>...</td>\n",
       "      <td>0</td>\n",
       "      <td>0</td>\n",
       "      <td>0</td>\n",
       "      <td>0</td>\n",
       "      <td>0</td>\n",
       "      <td>0</td>\n",
       "      <td>0</td>\n",
       "      <td>0</td>\n",
       "      <td>0</td>\n",
       "      <td>0</td>\n",
       "    </tr>\n",
       "  </tbody>\n",
       "</table>\n",
       "<p>5 rows × 43 columns</p>\n",
       "</div>"
      ],
      "text/plain": [
       "   Country  Year   ln(FDI)  Lagged GDPcap  Lagged Mktsz  Lagged GDP Growth  \\\n",
       "0  Albania  1995  1.074175       6.393236      7.539533          10.608391   \n",
       "1  Albania  1996  1.035185       6.644643      7.780205          27.210385   \n",
       "2  Albania  1997  0.759385       6.939812      8.070794          33.721531   \n",
       "3  Albania  1998  0.566316       6.576036      7.707357         -30.471784   \n",
       "4  Albania  1999  0.245950       6.710909      7.845756          14.843432   \n",
       "\n",
       "   Lagged Trade  Lagged Gov Consmp  Lagged Deficit  Lagged Inflation  ...  \\\n",
       "0     48.950450          13.850000       -2.414323          2.128790  ...   \n",
       "1     47.610595          13.646130       -7.800000         12.255360  ...   \n",
       "2     44.895427           9.357657       -9.850000         22.565907  ...   \n",
       "3     45.425523          10.426260      -11.900000        -22.020468  ...   \n",
       "4     48.137484          10.716920       -9.930000          5.526141  ...   \n",
       "\n",
       "   y14  y15  y16  y17  y18  y19  y20  y21  y22  y23  \n",
       "0    0    0    0    0    0    0    0    0    0    0  \n",
       "1    0    0    0    0    0    0    0    0    0    0  \n",
       "2    0    0    0    0    0    0    0    0    0    0  \n",
       "3    0    0    0    0    0    0    0    0    0    0  \n",
       "4    0    0    0    0    0    0    0    0    0    0  \n",
       "\n",
       "[5 rows x 43 columns]"
      ]
     },
     "execution_count": 17,
     "metadata": {},
     "output_type": "execute_result"
    }
   ],
   "source": [
    "# I applied natural log on FDI to eliminate any country specific characteristics\n",
    "\n",
    "imf_input = imf\n",
    "imf_input.insert(2, \"ln(FDI)\", np.log(imf.FDI))\n",
    "del imf_input['FDI']\n",
    "del imf_input['Lagged End']\n",
    "\n",
    "# There are a lot of NaN because some data values had been left blank due to data unavailability.\n",
    "# For my previous STATA analysis, I inputed (x_(n-1)+x_(n+1))/2 to NaN x_n.\n",
    "# I will input the mean value of each var. to all of the NaN values in the currentn models.\n",
    "imf_input = imf_input.fillna(imf_input.mean())\n",
    "\n",
    "imf_input.head()"
   ]
  },
  {
   "cell_type": "code",
   "execution_count": 18,
   "metadata": {},
   "outputs": [
    {
     "data": {
      "text/html": [
       "<div>\n",
       "<style scoped>\n",
       "    .dataframe tbody tr th:only-of-type {\n",
       "        vertical-align: middle;\n",
       "    }\n",
       "\n",
       "    .dataframe tbody tr th {\n",
       "        vertical-align: top;\n",
       "    }\n",
       "\n",
       "    .dataframe thead th {\n",
       "        text-align: right;\n",
       "    }\n",
       "</style>\n",
       "<table border=\"1\" class=\"dataframe\">\n",
       "  <thead>\n",
       "    <tr style=\"text-align: right;\">\n",
       "      <th></th>\n",
       "    </tr>\n",
       "  </thead>\n",
       "  <tbody>\n",
       "  </tbody>\n",
       "</table>\n",
       "</div>"
      ],
      "text/plain": [
       "Empty DataFrame\n",
       "Columns: []\n",
       "Index: []"
      ]
     },
     "execution_count": 18,
     "metadata": {},
     "output_type": "execute_result"
    }
   ],
   "source": [
    "col_mask=imf_input.isnull().any(axis=0) \n",
    "row_mask=imf_input.isnull().any(axis=1)\n",
    "imf_input.loc[row_mask,col_mask]"
   ]
  },
  {
   "cell_type": "code",
   "execution_count": 19,
   "metadata": {},
   "outputs": [
    {
     "name": "stdout",
     "output_type": "stream",
     "text": [
      "(2185, 43)\n",
      "(2185,)\n"
     ]
    }
   ],
   "source": [
    "print(imf_input.shape)\n",
    "print(imf_input[\"ln(FDI)\"].shape)"
   ]
  },
  {
   "cell_type": "code",
   "execution_count": 36,
   "metadata": {},
   "outputs": [
    {
     "name": "stdout",
     "output_type": "stream",
     "text": [
      "Training set score: 1.000\n",
      "Test set score: 1.000\n",
      "mean squared error: 0.000\n",
      "r^2: 1.000\n"
     ]
    }
   ],
   "source": [
    "# The first two columns are not needed for learning\n",
    "# training linear regression\n",
    "# learning includes the dependent var.\n",
    "X_train, X_test, y_train, y_test = train_test_split(imf_input.iloc[:, 2:], imf_input[\"ln(FDI)\"], random_state=42)\n",
    "lr = LinearRegression()\n",
    "lr.fit(X_train, y_train)\n",
    "y_pred = lr.predict(X_test)\n",
    "print(\"Training set score: {:.3f}\".format(lr.score(X_train, y_train)))\n",
    "print(\"Test set score: {:.3f}\".format(lr.score(X_test, y_test)))\n",
    "print(\"mean squared error: {:.3f}\".format(mean_squared_error(y_test, y_pred)))\n",
    "print(\"r^2: {:.3f}\".format(r2_score(y_test, y_pred)))\n",
    "#print(\"Disbursement: \", round(lr.score(X_train, y_train) - lr.score(X_test, y_test), 4))"
   ]
  },
  {
   "cell_type": "code",
   "execution_count": 73,
   "metadata": {},
   "outputs": [
    {
     "name": "stdout",
     "output_type": "stream",
     "text": [
      "Training set score: 0.251\n",
      "Test set score: 0.208\n",
      "mean squared error: 1.780\n",
      "r^2: 0.208\n"
     ]
    }
   ],
   "source": [
    "# learning without the dependent var.\n",
    "X_train, X_test, y_train, y_test = train_test_split(imf_input.iloc[:, 3:], imf_input[\"ln(FDI)\"], random_state=42)\n",
    "lr = LinearRegression()\n",
    "lr.fit(X_train, y_train)\n",
    "y_pred = lr.predict(X_test)\n",
    "print(\"Training set score: {:.3f}\".format(lr.score(X_train, y_train)))\n",
    "print(\"Test set score: {:.3f}\".format(lr.score(X_test, y_test)))\n",
    "print(\"mean squared error: {:.3f}\".format(mean_squared_error(y_test, y_pred)))\n",
    "print(\"r^2: {:.3f}\".format(r2_score(y_test, y_pred)))\n",
    "#print(\"Disbursement: \", round(lr.score(X_train, y_train) - lr.score(X_test, y_test), 4))"
   ]
  },
  {
   "cell_type": "code",
   "execution_count": 101,
   "metadata": {},
   "outputs": [
    {
     "data": {
      "text/plain": [
       "<matplotlib.collections.PathCollection at 0x1a1ed7a790>"
      ]
     },
     "execution_count": 101,
     "metadata": {},
     "output_type": "execute_result"
    },
    {
     "data": {
      "image/png": "[encoded data removed]",
      "text/plain": [
       "<Figure size 432x288 with 1 Axes>"
      ]
     },
     "metadata": {
      "needs_background": "light"
     },
     "output_type": "display_data"
    }
   ],
   "source": [
    "plt.plot(y_pred, y_pred, color='black')\n",
    "plt.scatter(y_pred, y_test, color='blue', linewidth=2)"
   ]
  },
  {
   "cell_type": "code",
   "execution_count": 42,
   "metadata": {},
   "outputs": [
    {
     "name": "stdout",
     "output_type": "stream",
     "text": [
      "Lagged GDPcap  coeff:  0.05102932301538816\n",
      "Lagged Mktsz  coeff:  -0.0874639451279258\n",
      "Lagged GDP Growth  coeff:  0.0006165861987318831\n",
      "Lagged Trade  coeff:  0.007727547269668598\n",
      "Lagged Gov Consmp  coeff:  -0.011273484127575647\n",
      "Lagged Deficit  coeff:  -0.006042450277868797\n",
      "Lagged Inflation  coeff:  -0.0008952526132405324\n",
      "Lagged Dom Inv  coeff:  0.007573220997459146\n",
      "Lagged Used  coeff:  0.07379887262475657\n",
      "Lagged Have  coeff:  0.0001285042185742772\n",
      "East Asia and Pacific  coeff:  -0.5761620966191064\n",
      "Europe and Central Asia  coeff:  -0.4027698798103797\n",
      "Latin America and Caribbean  coeff:  -0.3252311596427622\n",
      "Middle East and North Africa  coeff:  -0.7137929738790831\n",
      "South Asia  coeff:  -1.1947434190365602\n",
      "Sub-saharan Africa  coeff:  -0.7356039324685523\n",
      "Soviet Union  coeff:  0.08491353513461565\n",
      "y1  coeff:  -0.6588855898275364\n",
      "y2  coeff:  -0.5228795760618937\n",
      "y3  coeff:  -0.37094394488654436\n",
      "y4  coeff:  -0.1853917497259971\n",
      "y5  coeff:  -0.2363404833904239\n",
      "y6  coeff:  -0.22331094099031476\n",
      "y7  coeff:  0.006172870057983139\n",
      "y8  coeff:  -0.27447283140264267\n",
      "y9  coeff:  -0.0334125337580974\n",
      "y10  coeff:  -0.09504107878004417\n",
      "y11  coeff:  0.10959660868207635\n",
      "y12  coeff:  0.17276167393021058\n",
      "y13  coeff:  0.34785137074987715\n",
      "y14  coeff:  0.57229427984931\n",
      "y15  coeff:  0.23628032354454684\n",
      "y16  coeff:  0.2501565739205368\n",
      "y17  coeff:  0.24664701072221\n",
      "y18  coeff:  0.19305615693327038\n",
      "y19  coeff:  0.07448638117696123\n",
      "y20  coeff:  0.014916140698657356\n",
      "y21  coeff:  0.06573382652469432\n",
      "y22  coeff:  0.12458633332122583\n",
      "y23  coeff:  0.18613917871192057\n"
     ]
    }
   ],
   "source": [
    "j = 0\n",
    "for i in list(imf_input.head())[3:]:\n",
    "    print(i, \" coeff: \", lr.coef_[j])\n",
    "    j += 1"
   ]
  },
  {
   "cell_type": "code",
   "execution_count": 45,
   "metadata": {},
   "outputs": [
    {
     "name": "stdout",
     "output_type": "stream",
     "text": [
      "Training set score: 0.251\n",
      "Test set score: 0.208\n",
      "mean squared error: 1.780\n",
      "r^2: 0.208\n"
     ]
    }
   ],
   "source": [
    "# uses ridge regression\n",
    "ridge = Ridge();\n",
    "ridge.fit(X_train, y_train)\n",
    "y_pred = ridge.predict(X_test)\n",
    "print(\"Training set score: {:.3f}\".format(ridge.score(X_train, y_train)))\n",
    "print(\"Test set score: {:.3f}\".format(ridge.score(X_test, y_test)))\n",
    "print(\"mean squared error: {:.3f}\".format(mean_squared_error(y_test, y_pred)))\n",
    "print(\"r^2: {:.3f}\".format(r2_score(y_test, y_pred)))\n",
    "#print(\"Disbursement: \", round(ridge.score(X_train, y_train) - ridge.score(X_test, y_test), 4))"
   ]
  },
  {
   "cell_type": "code",
   "execution_count": 102,
   "metadata": {},
   "outputs": [
    {
     "name": "stdout",
     "output_type": "stream",
     "text": [
      "Training set score: 0.245\n",
      "Test set score: 0.202\n",
      "mean squared error: 1.792\n",
      "r^2: 0.202\n"
     ]
    }
   ],
   "source": [
    "# uses the conjugate gradient solver\n",
    "ridge = Ridge(solver=\"sparse_cg\");\n",
    "ridge.fit(X_train, y_train)\n",
    "y_pred = ridge.predict(X_test)\n",
    "print(\"Training set score: {:.3f}\".format(ridge.score(X_train, y_train)))\n",
    "print(\"Test set score: {:.3f}\".format(ridge.score(X_test, y_test)))\n",
    "print(\"mean squared error: {:.3f}\".format(mean_squared_error(y_test, y_pred)))\n",
    "print(\"r^2: {:.3f}\".format(r2_score(y_test, y_pred)))\n",
    "#print(\"Disbursement: \", round(ridge.score(X_train, y_train) - ridge.score(X_test, y_test), 4))"
   ]
  },
  {
   "cell_type": "code",
   "execution_count": 109,
   "metadata": {},
   "outputs": [
    {
     "data": {
      "text/plain": [
       "<matplotlib.collections.PathCollection at 0x1a1ee7bc50>"
      ]
     },
     "execution_count": 109,
     "metadata": {},
     "output_type": "execute_result"
    },
    {
     "data": {
      "image/png": "[encoded data removed]",
      "text/plain": [
       "<Figure size 432x288 with 1 Axes>"
      ]
     },
     "metadata": {
      "needs_background": "light"
     },
     "output_type": "display_data"
    }
   ],
   "source": [
    "plt.plot(y_pred, y_pred, color='black')\n",
    "plt.scatter(y_pred, y_test, color='blue')"
   ]
  },
  {
   "cell_type": "code",
   "execution_count": 48,
   "metadata": {},
   "outputs": [
    {
     "name": "stderr",
     "output_type": "stream",
     "text": [
      "/opt/anaconda3/lib/python3.7/site-packages/ipykernel_launcher.py:2: FutureWarning: Series.flags is deprecated and will be removed in a future version\n",
      "  \n"
     ]
    },
    {
     "data": {
      "text/plain": [
       "  C_CONTIGUOUS : True\n",
       "  F_CONTIGUOUS : True\n",
       "  OWNDATA : False\n",
       "  WRITEABLE : True\n",
       "  ALIGNED : True\n",
       "  WRITEBACKIFCOPY : False\n",
       "  UPDATEIFCOPY : False"
      ]
     },
     "execution_count": 48,
     "metadata": {},
     "output_type": "execute_result"
    }
   ],
   "source": [
    "# check for C-contiguous attributes\n",
    "X_train.iloc[:,30].flags"
   ]
  },
  {
   "cell_type": "code",
   "execution_count": 49,
   "metadata": {},
   "outputs": [],
   "source": [
    "# force the training datasets to be C-contiguous\n",
    "X_train = np.asarray(X_train, order='C')\n",
    "y_train = np.asarray(y_train, order='C')"
   ]
  },
  {
   "cell_type": "code",
   "execution_count": 50,
   "metadata": {},
   "outputs": [
    {
     "name": "stdout",
     "output_type": "stream",
     "text": [
      "Training set score: 0.193\n",
      "Test set score: 0.173\n",
      "mean squared error: 1.857\n",
      "r^2: 0.173\n"
     ]
    }
   ],
   "source": [
    "# uses a Stochastic Average Gradient descent\n",
    "ridge = Ridge(solver=\"sag\");\n",
    "ridge.fit(X_train, y_train)\n",
    "y_pred = ridge.predict(X_test)\n",
    "print(\"Training set score: {:.3f}\".format(ridge.score(X_train, y_train)))\n",
    "print(\"Test set score: {:.3f}\".format(ridge.score(X_test, y_test)))\n",
    "print(\"mean squared error: {:.3f}\".format(mean_squared_error(y_test, y_pred)))\n",
    "print(\"r^2: {:.3f}\".format(r2_score(y_test, y_pred)))\n",
    "#print(\"Disbursement: \", round(ridge.score(X_train, y_train) - ridge.score(X_test, y_test), 4))"
   ]
  },
  {
   "cell_type": "code",
   "execution_count": 51,
   "metadata": {},
   "outputs": [
    {
     "name": "stderr",
     "output_type": "stream",
     "text": [
      "/opt/anaconda3/lib/python3.7/site-packages/sklearn/linear_model/ridge.py:147: LinAlgWarning: Ill-conditioned matrix (rcond=1.22541e-20): result may not be accurate.\n",
      "  overwrite_a=True).T\n"
     ]
    },
    {
     "name": "stdout",
     "output_type": "stream",
     "text": [
      "a:  0.0\n",
      "Training set score: 0.251  Test set score: 0.208\n",
      "a:  0.20202020202020202\n",
      "Training set score: 0.251  Test set score: 0.208\n",
      "a:  0.40404040404040403\n",
      "Training set score: 0.251  Test set score: 0.208\n",
      "a:  0.6060606060606061\n",
      "Training set score: 0.251  Test set score: 0.208\n",
      "a:  0.8080808080808081\n",
      "Training set score: 0.251  Test set score: 0.208\n",
      "a:  1.0101010101010102\n",
      "Training set score: 0.251  Test set score: 0.208\n",
      "a:  1.2121212121212122\n",
      "Training set score: 0.251  Test set score: 0.208\n",
      "a:  1.4141414141414141\n",
      "Training set score: 0.251  Test set score: 0.207\n",
      "a:  1.6161616161616161\n",
      "Training set score: 0.251  Test set score: 0.207\n",
      "a:  1.8181818181818181\n",
      "Training set score: 0.251  Test set score: 0.207\n",
      "a:  2.0202020202020203\n",
      "Training set score: 0.251  Test set score: 0.207\n",
      "a:  2.2222222222222223\n",
      "Training set score: 0.250  Test set score: 0.207\n",
      "a:  2.4242424242424243\n",
      "Training set score: 0.250  Test set score: 0.207\n",
      "a:  2.6262626262626263\n",
      "Training set score: 0.250  Test set score: 0.207\n",
      "a:  2.8282828282828283\n",
      "Training set score: 0.250  Test set score: 0.207\n",
      "a:  3.0303030303030303\n",
      "Training set score: 0.250  Test set score: 0.207\n",
      "a:  3.2323232323232323\n",
      "Training set score: 0.250  Test set score: 0.207\n",
      "a:  3.4343434343434343\n",
      "Training set score: 0.250  Test set score: 0.207\n",
      "a:  3.6363636363636362\n",
      "Training set score: 0.250  Test set score: 0.207\n",
      "a:  3.8383838383838382\n",
      "Training set score: 0.250  Test set score: 0.207\n",
      "a:  4.040404040404041\n",
      "Training set score: 0.250  Test set score: 0.207\n",
      "a:  4.242424242424242\n",
      "Training set score: 0.249  Test set score: 0.206\n",
      "a:  4.444444444444445\n",
      "Training set score: 0.249  Test set score: 0.206\n",
      "a:  4.646464646464646\n",
      "Training set score: 0.249  Test set score: 0.206\n",
      "a:  4.848484848484849\n",
      "Training set score: 0.249  Test set score: 0.206\n",
      "a:  5.05050505050505\n",
      "Training set score: 0.249  Test set score: 0.206\n",
      "a:  5.252525252525253\n",
      "Training set score: 0.249  Test set score: 0.206\n",
      "a:  5.454545454545454\n",
      "Training set score: 0.249  Test set score: 0.206\n",
      "a:  5.656565656565657\n",
      "Training set score: 0.249  Test set score: 0.206\n",
      "a:  5.858585858585858\n",
      "Training set score: 0.249  Test set score: 0.206\n",
      "a:  6.0606060606060606\n",
      "Training set score: 0.249  Test set score: 0.206\n",
      "a:  6.262626262626262\n",
      "Training set score: 0.248  Test set score: 0.206\n",
      "a:  6.4646464646464645\n",
      "Training set score: 0.248  Test set score: 0.206\n",
      "a:  6.666666666666667\n",
      "Training set score: 0.248  Test set score: 0.206\n",
      "a:  6.8686868686868685\n",
      "Training set score: 0.248  Test set score: 0.206\n",
      "a:  7.070707070707071\n",
      "Training set score: 0.248  Test set score: 0.206\n",
      "a:  7.2727272727272725\n",
      "Training set score: 0.248  Test set score: 0.206\n",
      "a:  7.474747474747475\n",
      "Training set score: 0.248  Test set score: 0.205\n",
      "a:  7.6767676767676765\n",
      "Training set score: 0.248  Test set score: 0.205\n",
      "a:  7.878787878787879\n",
      "Training set score: 0.248  Test set score: 0.205\n",
      "a:  8.080808080808081\n",
      "Training set score: 0.248  Test set score: 0.205\n",
      "a:  8.282828282828282\n",
      "Training set score: 0.247  Test set score: 0.205\n",
      "a:  8.484848484848484\n",
      "Training set score: 0.247  Test set score: 0.205\n",
      "a:  8.686868686868687\n",
      "Training set score: 0.247  Test set score: 0.205\n",
      "a:  8.88888888888889\n",
      "Training set score: 0.247  Test set score: 0.205\n",
      "a:  9.09090909090909\n",
      "Training set score: 0.247  Test set score: 0.205\n",
      "a:  9.292929292929292\n",
      "Training set score: 0.247  Test set score: 0.205\n",
      "a:  9.494949494949495\n",
      "Training set score: 0.247  Test set score: 0.205\n",
      "a:  9.696969696969697\n",
      "Training set score: 0.247  Test set score: 0.205\n",
      "a:  9.8989898989899\n",
      "Training set score: 0.247  Test set score: 0.205\n",
      "a:  10.1010101010101\n",
      "Training set score: 0.247  Test set score: 0.205\n",
      "a:  10.303030303030303\n",
      "Training set score: 0.247  Test set score: 0.205\n",
      "a:  10.505050505050505\n",
      "Training set score: 0.246  Test set score: 0.205\n",
      "a:  10.707070707070708\n",
      "Training set score: 0.246  Test set score: 0.205\n",
      "a:  10.909090909090908\n",
      "Training set score: 0.246  Test set score: 0.205\n",
      "a:  11.11111111111111\n",
      "Training set score: 0.246  Test set score: 0.205\n",
      "a:  11.313131313131313\n",
      "Training set score: 0.246  Test set score: 0.205\n",
      "a:  11.515151515151516\n",
      "Training set score: 0.246  Test set score: 0.205\n",
      "a:  11.717171717171716\n",
      "Training set score: 0.246  Test set score: 0.204\n",
      "a:  11.919191919191919\n",
      "Training set score: 0.246  Test set score: 0.204\n",
      "a:  12.121212121212121\n",
      "Training set score: 0.246  Test set score: 0.204\n",
      "a:  12.323232323232324\n",
      "Training set score: 0.246  Test set score: 0.204\n",
      "a:  12.525252525252524\n",
      "Training set score: 0.246  Test set score: 0.204\n",
      "a:  12.727272727272727\n",
      "Training set score: 0.245  Test set score: 0.204\n",
      "a:  12.929292929292929\n",
      "Training set score: 0.245  Test set score: 0.204\n",
      "a:  13.131313131313131\n",
      "Training set score: 0.245  Test set score: 0.204\n",
      "a:  13.333333333333334\n",
      "Training set score: 0.245  Test set score: 0.204\n",
      "a:  13.535353535353535\n",
      "Training set score: 0.245  Test set score: 0.204\n",
      "a:  13.737373737373737\n",
      "Training set score: 0.245  Test set score: 0.204\n",
      "a:  13.93939393939394\n",
      "Training set score: 0.245  Test set score: 0.204\n",
      "a:  14.141414141414142\n",
      "Training set score: 0.245  Test set score: 0.204\n",
      "a:  14.343434343434343\n",
      "Training set score: 0.245  Test set score: 0.204\n",
      "a:  14.545454545454545\n",
      "Training set score: 0.245  Test set score: 0.204\n",
      "a:  14.747474747474747\n",
      "Training set score: 0.245  Test set score: 0.204\n",
      "a:  14.94949494949495\n",
      "Training set score: 0.245  Test set score: 0.204\n",
      "a:  15.15151515151515\n",
      "Training set score: 0.244  Test set score: 0.204\n",
      "a:  15.353535353535353\n",
      "Training set score: 0.244  Test set score: 0.204\n",
      "a:  15.555555555555555\n",
      "Training set score: 0.244  Test set score: 0.204\n",
      "a:  15.757575757575758\n",
      "Training set score: 0.244  Test set score: 0.204\n",
      "a:  15.959595959595958\n",
      "Training set score: 0.244  Test set score: 0.204\n",
      "a:  16.161616161616163\n",
      "Training set score: 0.244  Test set score: 0.203\n",
      "a:  16.363636363636363\n",
      "Training set score: 0.244  Test set score: 0.203\n",
      "a:  16.565656565656564\n",
      "Training set score: 0.244  Test set score: 0.203\n",
      "a:  16.767676767676768\n",
      "Training set score: 0.244  Test set score: 0.203\n",
      "a:  16.96969696969697\n",
      "Training set score: 0.244  Test set score: 0.203\n",
      "a:  17.171717171717173\n",
      "Training set score: 0.244  Test set score: 0.203\n",
      "a:  17.373737373737374\n",
      "Training set score: 0.244  Test set score: 0.203\n",
      "a:  17.575757575757574\n",
      "Training set score: 0.243  Test set score: 0.203\n",
      "a:  17.77777777777778\n",
      "Training set score: 0.243  Test set score: 0.203\n",
      "a:  17.97979797979798\n",
      "Training set score: 0.243  Test set score: 0.203\n",
      "a:  18.18181818181818\n",
      "Training set score: 0.243  Test set score: 0.203\n",
      "a:  18.383838383838384\n",
      "Training set score: 0.243  Test set score: 0.203\n",
      "a:  18.585858585858585\n",
      "Training set score: 0.243  Test set score: 0.203\n",
      "a:  18.78787878787879\n",
      "Training set score: 0.243  Test set score: 0.203\n",
      "a:  18.98989898989899\n",
      "Training set score: 0.243  Test set score: 0.203\n",
      "a:  19.19191919191919\n",
      "Training set score: 0.243  Test set score: 0.203\n",
      "a:  19.393939393939394\n",
      "Training set score: 0.243  Test set score: 0.203\n",
      "a:  19.595959595959595\n",
      "Training set score: 0.243  Test set score: 0.203\n",
      "a:  19.7979797979798\n",
      "Training set score: 0.243  Test set score: 0.203\n",
      "a:  20.0\n",
      "Training set score: 0.242  Test set score: 0.203\n"
     ]
    }
   ],
   "source": [
    "# linear regression can be improved by applying ridge regression\n",
    "# does not seem to produce any improvement from the regular linear regression model \n",
    "# score: the coefficient of determination R^2 of the prediction.\n",
    "alp = np.linspace(0,20,100)\n",
    "for i in alp: \n",
    "    ridge = Ridge(alpha=i);\n",
    "    ridge.fit(X_train, y_train)\n",
    "    print(\"a: \", i)\n",
    "    print(\"Training set score: {:.3f}\".format(ridge.score(X_train, y_train)), \" Test set score: {:.3f}\".format(ridge.score(X_test, y_test)))\n",
    "    #print(\"Disbursement: \", round(ridge.score(X_train, y_train) - ridge.score(X_test, y_test), 4))"
   ]
  },
  {
   "cell_type": "code",
   "execution_count": 52,
   "metadata": {},
   "outputs": [
    {
     "name": "stdout",
     "output_type": "stream",
     "text": [
      "a:  0.0\n",
      "Training set score: 0.193  Test set score: 0.173\n",
      "a:  0.20202020202020202\n",
      "Training set score: 0.193  Test set score: 0.173\n",
      "a:  0.40404040404040403\n",
      "Training set score: 0.193  Test set score: 0.173\n",
      "a:  0.6060606060606061\n",
      "Training set score: 0.193  Test set score: 0.173\n",
      "a:  0.8080808080808081\n",
      "Training set score: 0.193  Test set score: 0.173\n",
      "a:  1.0101010101010102\n",
      "Training set score: 0.193  Test set score: 0.173\n",
      "a:  1.2121212121212122\n",
      "Training set score: 0.193  Test set score: 0.173\n",
      "a:  1.4141414141414141\n",
      "Training set score: 0.192  Test set score: 0.173\n",
      "a:  1.6161616161616161\n",
      "Training set score: 0.192  Test set score: 0.173\n",
      "a:  1.8181818181818181\n",
      "Training set score: 0.192  Test set score: 0.173\n",
      "a:  2.0202020202020203\n",
      "Training set score: 0.192  Test set score: 0.173\n",
      "a:  2.2222222222222223\n",
      "Training set score: 0.192  Test set score: 0.173\n",
      "a:  2.4242424242424243\n",
      "Training set score: 0.192  Test set score: 0.173\n",
      "a:  2.6262626262626263\n",
      "Training set score: 0.192  Test set score: 0.173\n",
      "a:  2.8282828282828283\n",
      "Training set score: 0.192  Test set score: 0.173\n",
      "a:  3.0303030303030303\n",
      "Training set score: 0.192  Test set score: 0.173\n",
      "a:  3.2323232323232323\n",
      "Training set score: 0.192  Test set score: 0.173\n",
      "a:  3.4343434343434343\n",
      "Training set score: 0.192  Test set score: 0.173\n",
      "a:  3.6363636363636362\n",
      "Training set score: 0.192  Test set score: 0.173\n",
      "a:  3.8383838383838382\n",
      "Training set score: 0.192  Test set score: 0.173\n",
      "a:  4.040404040404041\n",
      "Training set score: 0.192  Test set score: 0.173\n",
      "a:  4.242424242424242\n",
      "Training set score: 0.192  Test set score: 0.173\n",
      "a:  4.444444444444445\n",
      "Training set score: 0.192  Test set score: 0.173\n",
      "a:  4.646464646464646\n",
      "Training set score: 0.192  Test set score: 0.173\n",
      "a:  4.848484848484849\n",
      "Training set score: 0.192  Test set score: 0.173\n",
      "a:  5.05050505050505\n",
      "Training set score: 0.192  Test set score: 0.173\n",
      "a:  5.252525252525253\n",
      "Training set score: 0.192  Test set score: 0.173\n",
      "a:  5.454545454545454\n",
      "Training set score: 0.192  Test set score: 0.173\n",
      "a:  5.656565656565657\n",
      "Training set score: 0.192  Test set score: 0.173\n",
      "a:  5.858585858585858\n",
      "Training set score: 0.192  Test set score: 0.173\n",
      "a:  6.0606060606060606\n",
      "Training set score: 0.192  Test set score: 0.173\n",
      "a:  6.262626262626262\n",
      "Training set score: 0.192  Test set score: 0.173\n",
      "a:  6.4646464646464645\n",
      "Training set score: 0.192  Test set score: 0.173\n",
      "a:  6.666666666666667\n",
      "Training set score: 0.192  Test set score: 0.173\n",
      "a:  6.8686868686868685\n",
      "Training set score: 0.192  Test set score: 0.173\n",
      "a:  7.070707070707071\n",
      "Training set score: 0.192  Test set score: 0.173\n",
      "a:  7.2727272727272725\n",
      "Training set score: 0.192  Test set score: 0.173\n",
      "a:  7.474747474747475\n",
      "Training set score: 0.192  Test set score: 0.173\n",
      "a:  7.6767676767676765\n",
      "Training set score: 0.192  Test set score: 0.173\n",
      "a:  7.878787878787879\n",
      "Training set score: 0.192  Test set score: 0.173\n",
      "a:  8.080808080808081\n",
      "Training set score: 0.192  Test set score: 0.173\n",
      "a:  8.282828282828282\n",
      "Training set score: 0.192  Test set score: 0.173\n",
      "a:  8.484848484848484\n",
      "Training set score: 0.192  Test set score: 0.173\n",
      "a:  8.686868686868687\n",
      "Training set score: 0.192  Test set score: 0.173\n",
      "a:  8.88888888888889\n",
      "Training set score: 0.192  Test set score: 0.173\n",
      "a:  9.09090909090909\n",
      "Training set score: 0.192  Test set score: 0.173\n",
      "a:  9.292929292929292\n",
      "Training set score: 0.192  Test set score: 0.173\n",
      "a:  9.494949494949495\n",
      "Training set score: 0.192  Test set score: 0.173\n",
      "a:  9.696969696969697\n",
      "Training set score: 0.192  Test set score: 0.173\n",
      "a:  9.8989898989899\n",
      "Training set score: 0.192  Test set score: 0.173\n",
      "a:  10.1010101010101\n",
      "Training set score: 0.192  Test set score: 0.173\n",
      "a:  10.303030303030303\n",
      "Training set score: 0.192  Test set score: 0.173\n",
      "a:  10.505050505050505\n",
      "Training set score: 0.192  Test set score: 0.173\n",
      "a:  10.707070707070708\n",
      "Training set score: 0.192  Test set score: 0.173\n",
      "a:  10.909090909090908\n",
      "Training set score: 0.192  Test set score: 0.173\n",
      "a:  11.11111111111111\n",
      "Training set score: 0.192  Test set score: 0.173\n",
      "a:  11.313131313131313\n",
      "Training set score: 0.192  Test set score: 0.173\n",
      "a:  11.515151515151516\n",
      "Training set score: 0.192  Test set score: 0.173\n",
      "a:  11.717171717171716\n",
      "Training set score: 0.192  Test set score: 0.172\n",
      "a:  11.919191919191919\n",
      "Training set score: 0.192  Test set score: 0.172\n",
      "a:  12.121212121212121\n",
      "Training set score: 0.192  Test set score: 0.172\n",
      "a:  12.323232323232324\n",
      "Training set score: 0.192  Test set score: 0.172\n",
      "a:  12.525252525252524\n",
      "Training set score: 0.192  Test set score: 0.172\n",
      "a:  12.727272727272727\n",
      "Training set score: 0.192  Test set score: 0.172\n",
      "a:  12.929292929292929\n",
      "Training set score: 0.192  Test set score: 0.172\n",
      "a:  13.131313131313131\n",
      "Training set score: 0.192  Test set score: 0.172\n",
      "a:  13.333333333333334\n",
      "Training set score: 0.192  Test set score: 0.172\n",
      "a:  13.535353535353535\n",
      "Training set score: 0.192  Test set score: 0.172\n",
      "a:  13.737373737373737\n",
      "Training set score: 0.192  Test set score: 0.172\n",
      "a:  13.93939393939394\n",
      "Training set score: 0.192  Test set score: 0.172\n",
      "a:  14.141414141414142\n",
      "Training set score: 0.192  Test set score: 0.172\n",
      "a:  14.343434343434343\n",
      "Training set score: 0.191  Test set score: 0.172\n",
      "a:  14.545454545454545\n",
      "Training set score: 0.191  Test set score: 0.172\n",
      "a:  14.747474747474747\n",
      "Training set score: 0.191  Test set score: 0.172\n",
      "a:  14.94949494949495\n",
      "Training set score: 0.191  Test set score: 0.172\n",
      "a:  15.15151515151515\n",
      "Training set score: 0.191  Test set score: 0.172\n",
      "a:  15.353535353535353\n",
      "Training set score: 0.191  Test set score: 0.172\n",
      "a:  15.555555555555555\n",
      "Training set score: 0.191  Test set score: 0.172\n",
      "a:  15.757575757575758\n",
      "Training set score: 0.191  Test set score: 0.172\n",
      "a:  15.959595959595958\n",
      "Training set score: 0.191  Test set score: 0.172\n",
      "a:  16.161616161616163\n",
      "Training set score: 0.191  Test set score: 0.172\n",
      "a:  16.363636363636363\n",
      "Training set score: 0.191  Test set score: 0.172\n",
      "a:  16.565656565656564\n",
      "Training set score: 0.191  Test set score: 0.172\n",
      "a:  16.767676767676768\n",
      "Training set score: 0.191  Test set score: 0.172\n",
      "a:  16.96969696969697\n",
      "Training set score: 0.191  Test set score: 0.172\n",
      "a:  17.171717171717173\n",
      "Training set score: 0.191  Test set score: 0.172\n",
      "a:  17.373737373737374\n",
      "Training set score: 0.191  Test set score: 0.172\n",
      "a:  17.575757575757574\n",
      "Training set score: 0.191  Test set score: 0.172\n",
      "a:  17.77777777777778\n",
      "Training set score: 0.191  Test set score: 0.172\n",
      "a:  17.97979797979798\n",
      "Training set score: 0.191  Test set score: 0.172\n",
      "a:  18.18181818181818\n",
      "Training set score: 0.191  Test set score: 0.172\n",
      "a:  18.383838383838384\n",
      "Training set score: 0.191  Test set score: 0.172\n",
      "a:  18.585858585858585\n",
      "Training set score: 0.191  Test set score: 0.172\n",
      "a:  18.78787878787879\n",
      "Training set score: 0.191  Test set score: 0.172\n",
      "a:  18.98989898989899\n",
      "Training set score: 0.191  Test set score: 0.172\n",
      "a:  19.19191919191919\n",
      "Training set score: 0.191  Test set score: 0.172\n",
      "a:  19.393939393939394\n",
      "Training set score: 0.191  Test set score: 0.172\n",
      "a:  19.595959595959595\n",
      "Training set score: 0.191  Test set score: 0.172\n",
      "a:  19.7979797979798\n",
      "Training set score: 0.191  Test set score: 0.172\n",
      "a:  20.0\n",
      "Training set score: 0.191  Test set score: 0.172\n"
     ]
    }
   ],
   "source": [
    "alp = np.linspace(0,20,100)\n",
    "for i in alp: \n",
    "    ridge = Ridge(solver=\"sag\", alpha=i);\n",
    "    ridge.fit(X_train, y_train)\n",
    "    print(\"a: \", i)\n",
    "    print(\"Training set score: {:.3f}\".format(ridge.score(X_train, y_train)), \" Test set score: {:.3f}\".format(ridge.score(X_test, y_test)))\n",
    "    #print(\"Disbursement: \", round(ridge.score(X_train, y_train) - ridge.score(X_test, y_test), 4))"
   ]
  },
  {
   "cell_type": "code",
   "execution_count": 104,
   "metadata": {},
   "outputs": [
    {
     "name": "stdout",
     "output_type": "stream",
     "text": [
      "Accuracy on training set: 0.446\n",
      "Accuracy on test set: 0.249\n",
      "mean squared error: 1.688\n",
      "r^2: 0.249\n"
     ]
    }
   ],
   "source": [
    "mlp = MLPRegressor(random_state=42)\n",
    "mlp.fit(X_train, y_train)\n",
    "y_pred= mlp.predict(X_test)\n",
    "print(\"Accuracy on training set: {:.3f}\".format(mlp.score(X_train, y_train)))\n",
    "print(\"Accuracy on test set: {:.3f}\".format(mlp.score(X_test, y_test)))\n",
    "print(\"mean squared error: {:.3f}\".format(mean_squared_error(y_test, y_pred)))\n",
    "print(\"r^2: {:.3f}\".format(r2_score(y_test, y_pred)))\n",
    "#print(\"Disbursement: \", round(mlp.score(X_train, y_train) - mlp.score(X_test, y_test), 4))"
   ]
  },
  {
   "cell_type": "code",
   "execution_count": 54,
   "metadata": {},
   "outputs": [
    {
     "name": "stdout",
     "output_type": "stream",
     "text": [
      "Accuracy on training set: 0.182\n",
      "Accuracy on test set: 0.119\n",
      "mean squared error: 1.980\n",
      "r^2: 0.119\n"
     ]
    }
   ],
   "source": [
    "# uses stochastic gradient descent\n",
    "mlp = MLPRegressor(solver=\"sgd\", random_state=42)\n",
    "mlp.fit(X_train, y_train)\n",
    "y_pred= mlp.predict(X_test)\n",
    "print(\"Accuracy on training set: {:.3f}\".format(mlp.score(X_train, y_train)))\n",
    "print(\"Accuracy on test set: {:.3f}\".format(mlp.score(X_test, y_test)))\n",
    "print(\"mean squared error: {:.3f}\".format(mean_squared_error(y_test, y_pred)))\n",
    "print(\"r^2: {:.3f}\".format(r2_score(y_test, y_pred)))\n",
    "#print(\"Disbursement: \", round(mlp.score(X_train, y_train) - mlp.score(X_test, y_test), 4))"
   ]
  },
  {
   "cell_type": "code",
   "execution_count": 106,
   "metadata": {},
   "outputs": [
    {
     "name": "stdout",
     "output_type": "stream",
     "text": [
      "Accuracy on training set: 0.446\n",
      "Accuracy on test set: 0.249\n",
      "mean squared error: 1.688\n",
      "r^2: 0.249\n"
     ]
    }
   ],
   "source": [
    "# uses a stochastic gradient-based optimizer\n",
    "mlp = MLPRegressor(solver=\"adam\", random_state=42)\n",
    "mlp.fit(X_train, y_train)\n",
    "y_pred= mlp.predict(X_test)\n",
    "print(\"Accuracy on training set: {:.3f}\".format(mlp.score(X_train, y_train)))\n",
    "print(\"Accuracy on test set: {:.3f}\".format(mlp.score(X_test, y_test)))\n",
    "print(\"mean squared error: {:.3f}\".format(mean_squared_error(y_test, y_pred)))\n",
    "print(\"r^2: {:.3f}\".format(r2_score(y_test, y_pred)))\n",
    "#print(\"Disbursement: \", round(mlp.score(X_train, y_train) - mlp.score(X_test, y_test), 4))"
   ]
  },
  {
   "cell_type": "code",
   "execution_count": 108,
   "metadata": {},
   "outputs": [
    {
     "data": {
      "text/plain": [
       "<matplotlib.collections.PathCollection at 0x118e23090>"
      ]
     },
     "execution_count": 108,
     "metadata": {},
     "output_type": "execute_result"
    },
    {
     "data": {
      "image/png": "[encoded data removed]",
      "text/plain": [
       "<Figure size 432x288 with 1 Axes>"
      ]
     },
     "metadata": {
      "needs_background": "light"
     },
     "output_type": "display_data"
    }
   ],
   "source": [
    "plt.plot(y_pred, y_pred, color='black')\n",
    "plt.scatter(y_pred, y_test, color='blue')"
   ]
  },
  {
   "cell_type": "code",
   "execution_count": 33,
   "metadata": {},
   "outputs": [
    {
     "name": "stdout",
     "output_type": "stream",
     "text": [
      "max_iter:  1.0  Accuracy on training set: -3.077  Accuracy on test set: -2.032\n"
     ]
    },
    {
     "name": "stderr",
     "output_type": "stream",
     "text": [
      "/opt/anaconda3/lib/python3.7/site-packages/sklearn/neural_network/multilayer_perceptron.py:566: ConvergenceWarning: Stochastic Optimizer: Maximum iterations (1) reached and the optimization hasn't converged yet.\n",
      "  % self.max_iter, ConvergenceWarning)\n",
      "/opt/anaconda3/lib/python3.7/site-packages/sklearn/neural_network/multilayer_perceptron.py:566: ConvergenceWarning: Stochastic Optimizer: Maximum iterations (15) reached and the optimization hasn't converged yet.\n",
      "  % self.max_iter, ConvergenceWarning)\n"
     ]
    },
    {
     "name": "stdout",
     "output_type": "stream",
     "text": [
      "max_iter:  15.26530612244898  Accuracy on training set: 0.105  Accuracy on test set: 0.118\n"
     ]
    },
    {
     "name": "stderr",
     "output_type": "stream",
     "text": [
      "/opt/anaconda3/lib/python3.7/site-packages/sklearn/neural_network/multilayer_perceptron.py:566: ConvergenceWarning: Stochastic Optimizer: Maximum iterations (29) reached and the optimization hasn't converged yet.\n",
      "  % self.max_iter, ConvergenceWarning)\n"
     ]
    },
    {
     "name": "stdout",
     "output_type": "stream",
     "text": [
      "max_iter:  29.53061224489796  Accuracy on training set: 0.247  Accuracy on test set: 0.184\n"
     ]
    },
    {
     "name": "stderr",
     "output_type": "stream",
     "text": [
      "/opt/anaconda3/lib/python3.7/site-packages/sklearn/neural_network/multilayer_perceptron.py:566: ConvergenceWarning: Stochastic Optimizer: Maximum iterations (43) reached and the optimization hasn't converged yet.\n",
      "  % self.max_iter, ConvergenceWarning)\n"
     ]
    },
    {
     "name": "stdout",
     "output_type": "stream",
     "text": [
      "max_iter:  43.79591836734694  Accuracy on training set: 0.307  Accuracy on test set: 0.213\n"
     ]
    },
    {
     "name": "stderr",
     "output_type": "stream",
     "text": [
      "/opt/anaconda3/lib/python3.7/site-packages/sklearn/neural_network/multilayer_perceptron.py:566: ConvergenceWarning: Stochastic Optimizer: Maximum iterations (58) reached and the optimization hasn't converged yet.\n",
      "  % self.max_iter, ConvergenceWarning)\n"
     ]
    },
    {
     "name": "stdout",
     "output_type": "stream",
     "text": [
      "max_iter:  58.06122448979592  Accuracy on training set: 0.340  Accuracy on test set: 0.225\n"
     ]
    },
    {
     "name": "stderr",
     "output_type": "stream",
     "text": [
      "/opt/anaconda3/lib/python3.7/site-packages/sklearn/neural_network/multilayer_perceptron.py:566: ConvergenceWarning: Stochastic Optimizer: Maximum iterations (72) reached and the optimization hasn't converged yet.\n",
      "  % self.max_iter, ConvergenceWarning)\n"
     ]
    },
    {
     "name": "stdout",
     "output_type": "stream",
     "text": [
      "max_iter:  72.3265306122449  Accuracy on training set: 0.366  Accuracy on test set: 0.238\n"
     ]
    },
    {
     "name": "stderr",
     "output_type": "stream",
     "text": [
      "/opt/anaconda3/lib/python3.7/site-packages/sklearn/neural_network/multilayer_perceptron.py:566: ConvergenceWarning: Stochastic Optimizer: Maximum iterations (86) reached and the optimization hasn't converged yet.\n",
      "  % self.max_iter, ConvergenceWarning)\n"
     ]
    },
    {
     "name": "stdout",
     "output_type": "stream",
     "text": [
      "max_iter:  86.59183673469389  Accuracy on training set: 0.366  Accuracy on test set: 0.218\n"
     ]
    },
    {
     "name": "stderr",
     "output_type": "stream",
     "text": [
      "/opt/anaconda3/lib/python3.7/site-packages/sklearn/neural_network/multilayer_perceptron.py:566: ConvergenceWarning: Stochastic Optimizer: Maximum iterations (100) reached and the optimization hasn't converged yet.\n",
      "  % self.max_iter, ConvergenceWarning)\n"
     ]
    },
    {
     "name": "stdout",
     "output_type": "stream",
     "text": [
      "max_iter:  100.85714285714286  Accuracy on training set: 0.396  Accuracy on test set: 0.238\n"
     ]
    },
    {
     "name": "stderr",
     "output_type": "stream",
     "text": [
      "/opt/anaconda3/lib/python3.7/site-packages/sklearn/neural_network/multilayer_perceptron.py:566: ConvergenceWarning: Stochastic Optimizer: Maximum iterations (115) reached and the optimization hasn't converged yet.\n",
      "  % self.max_iter, ConvergenceWarning)\n"
     ]
    },
    {
     "name": "stdout",
     "output_type": "stream",
     "text": [
      "max_iter:  115.12244897959184  Accuracy on training set: 0.408  Accuracy on test set: 0.227\n"
     ]
    },
    {
     "name": "stderr",
     "output_type": "stream",
     "text": [
      "/opt/anaconda3/lib/python3.7/site-packages/sklearn/neural_network/multilayer_perceptron.py:566: ConvergenceWarning: Stochastic Optimizer: Maximum iterations (129) reached and the optimization hasn't converged yet.\n",
      "  % self.max_iter, ConvergenceWarning)\n"
     ]
    },
    {
     "name": "stdout",
     "output_type": "stream",
     "text": [
      "max_iter:  129.3877551020408  Accuracy on training set: 0.406  Accuracy on test set: 0.250\n"
     ]
    },
    {
     "name": "stderr",
     "output_type": "stream",
     "text": [
      "/opt/anaconda3/lib/python3.7/site-packages/sklearn/neural_network/multilayer_perceptron.py:566: ConvergenceWarning: Stochastic Optimizer: Maximum iterations (143) reached and the optimization hasn't converged yet.\n",
      "  % self.max_iter, ConvergenceWarning)\n"
     ]
    },
    {
     "name": "stdout",
     "output_type": "stream",
     "text": [
      "max_iter:  143.6530612244898  Accuracy on training set: 0.419  Accuracy on test set: 0.240\n",
      "max_iter:  157.91836734693877  Accuracy on training set: 0.446  Accuracy on test set: 0.249\n",
      "max_iter:  172.18367346938777  Accuracy on training set: 0.446  Accuracy on test set: 0.249\n",
      "max_iter:  186.44897959183675  Accuracy on training set: 0.446  Accuracy on test set: 0.249\n",
      "max_iter:  200.71428571428572  Accuracy on training set: 0.446  Accuracy on test set: 0.249\n",
      "max_iter:  214.9795918367347  Accuracy on training set: 0.446  Accuracy on test set: 0.249\n",
      "max_iter:  229.24489795918367  Accuracy on training set: 0.446  Accuracy on test set: 0.249\n",
      "max_iter:  243.51020408163265  Accuracy on training set: 0.446  Accuracy on test set: 0.249\n",
      "max_iter:  257.7755102040816  Accuracy on training set: 0.446  Accuracy on test set: 0.249\n",
      "max_iter:  272.0408163265306  Accuracy on training set: 0.446  Accuracy on test set: 0.249\n",
      "max_iter:  286.3061224489796  Accuracy on training set: 0.446  Accuracy on test set: 0.249\n",
      "max_iter:  300.57142857142856  Accuracy on training set: 0.446  Accuracy on test set: 0.249\n",
      "max_iter:  314.83673469387753  Accuracy on training set: 0.446  Accuracy on test set: 0.249\n",
      "max_iter:  329.1020408163265  Accuracy on training set: 0.446  Accuracy on test set: 0.249\n",
      "max_iter:  343.36734693877554  Accuracy on training set: 0.446  Accuracy on test set: 0.249\n",
      "max_iter:  357.6326530612245  Accuracy on training set: 0.446  Accuracy on test set: 0.249\n",
      "max_iter:  371.8979591836735  Accuracy on training set: 0.446  Accuracy on test set: 0.249\n",
      "max_iter:  386.16326530612247  Accuracy on training set: 0.446  Accuracy on test set: 0.249\n",
      "max_iter:  400.42857142857144  Accuracy on training set: 0.446  Accuracy on test set: 0.249\n",
      "max_iter:  414.6938775510204  Accuracy on training set: 0.446  Accuracy on test set: 0.249\n",
      "max_iter:  428.9591836734694  Accuracy on training set: 0.446  Accuracy on test set: 0.249\n",
      "max_iter:  443.2244897959184  Accuracy on training set: 0.446  Accuracy on test set: 0.249\n",
      "max_iter:  457.48979591836735  Accuracy on training set: 0.446  Accuracy on test set: 0.249\n",
      "max_iter:  471.7551020408163  Accuracy on training set: 0.446  Accuracy on test set: 0.249\n",
      "max_iter:  486.0204081632653  Accuracy on training set: 0.446  Accuracy on test set: 0.249\n",
      "max_iter:  500.2857142857143  Accuracy on training set: 0.446  Accuracy on test set: 0.249\n",
      "max_iter:  514.5510204081633  Accuracy on training set: 0.446  Accuracy on test set: 0.249\n",
      "max_iter:  528.8163265306123  Accuracy on training set: 0.446  Accuracy on test set: 0.249\n",
      "max_iter:  543.0816326530612  Accuracy on training set: 0.446  Accuracy on test set: 0.249\n",
      "max_iter:  557.3469387755102  Accuracy on training set: 0.446  Accuracy on test set: 0.249\n",
      "max_iter:  571.6122448979592  Accuracy on training set: 0.446  Accuracy on test set: 0.249\n",
      "max_iter:  585.8775510204082  Accuracy on training set: 0.446  Accuracy on test set: 0.249\n",
      "max_iter:  600.1428571428571  Accuracy on training set: 0.446  Accuracy on test set: 0.249\n",
      "max_iter:  614.4081632653061  Accuracy on training set: 0.446  Accuracy on test set: 0.249\n",
      "max_iter:  628.6734693877551  Accuracy on training set: 0.446  Accuracy on test set: 0.249\n",
      "max_iter:  642.9387755102041  Accuracy on training set: 0.446  Accuracy on test set: 0.249\n",
      "max_iter:  657.204081632653  Accuracy on training set: 0.446  Accuracy on test set: 0.249\n",
      "max_iter:  671.469387755102  Accuracy on training set: 0.446  Accuracy on test set: 0.249\n",
      "max_iter:  685.7346938775511  Accuracy on training set: 0.446  Accuracy on test set: 0.249\n",
      "max_iter:  700.0  Accuracy on training set: 0.446  Accuracy on test set: 0.249\n"
     ]
    }
   ],
   "source": [
    "for i in np.linspace(1, 700, 50):\n",
    "    mlp = MLPRegressor(solver=\"adam\", max_iter=int(i), random_state=42)\n",
    "    mlp.fit(X_train, y_train)\n",
    "    print(\"max_iter: \", i, \" Accuracy on training set: {:.3f}\".format(mlp.score(X_train, y_train)), \" Accuracy on test set: {:.3f}\".format(mlp.score(X_test, y_test)))"
   ]
  },
  {
   "cell_type": "code",
   "execution_count": 57,
   "metadata": {},
   "outputs": [],
   "source": [
    "# rescaling training data\n",
    "mean_on_train = X_train.mean(axis=0)\n",
    "std_on_train = X_train.std(axis=0)\n",
    "\n",
    "X_train_scaled = (X_train - mean_on_train)/std_on_train\n",
    "X_test_scaled = (X_test - mean_on_train)/std_on_train\n",
    "\n",
    "#print(\"Training set per-feature maxima:\\n{}\".format(X_train_scaled.max(axis=0)))\n",
    "#print(\"Test set per-feature maxima:\\n{}\".format(X_test_scaled.max(axis=0)))"
   ]
  },
  {
   "cell_type": "code",
   "execution_count": 59,
   "metadata": {},
   "outputs": [
    {
     "name": "stdout",
     "output_type": "stream",
     "text": [
      "Accuracy on training set: 0.938\n",
      "Accuracy on test set: 0.088\n",
      "mean squared error: 2.049\n",
      "r^2: 0.088\n"
     ]
    },
    {
     "name": "stderr",
     "output_type": "stream",
     "text": [
      "/opt/anaconda3/lib/python3.7/site-packages/sklearn/neural_network/multilayer_perceptron.py:566: ConvergenceWarning: Stochastic Optimizer: Maximum iterations (400) reached and the optimization hasn't converged yet.\n",
      "  % self.max_iter, ConvergenceWarning)\n"
     ]
    }
   ],
   "source": [
    "mlp = MLPRegressor(max_iter=400, random_state=42)\n",
    "mlp.fit(X_train_scaled, y_train)\n",
    "y_pred= mlp.predict(X_test_scaled)\n",
    "print(\"Accuracy on training set: {:.3f}\".format(mlp.score(X_train_scaled, y_train)))\n",
    "print(\"Accuracy on test set: {:.3f}\".format(mlp.score(X_test_scaled, y_test)))\n",
    "print(\"mean squared error: {:.3f}\".format(mean_squared_error(y_test, y_pred)))\n",
    "print(\"r^2: {:.3f}\".format(r2_score(y_test, y_pred)))\n",
    "#print(\"Disbursement: \", round(mlp.score(X_train_scaled, y_train) - mlp.score(X_test_scaled, y_test), 4))"
   ]
  },
  {
   "cell_type": "code",
   "execution_count": 60,
   "metadata": {},
   "outputs": [
    {
     "name": "stdout",
     "output_type": "stream",
     "text": [
      "Accuracy on training set: 0.938\n",
      "Accuracy on test set: 0.088\n",
      "mean squared error: 2.049\n",
      "r^2: 0.088\n"
     ]
    },
    {
     "name": "stderr",
     "output_type": "stream",
     "text": [
      "/opt/anaconda3/lib/python3.7/site-packages/sklearn/neural_network/multilayer_perceptron.py:566: ConvergenceWarning: Stochastic Optimizer: Maximum iterations (400) reached and the optimization hasn't converged yet.\n",
      "  % self.max_iter, ConvergenceWarning)\n"
     ]
    }
   ],
   "source": [
    "mlp = MLPRegressor(solver=\"adam\", max_iter=400, random_state=42)\n",
    "mlp.fit(X_train_scaled, y_train)\n",
    "y_pred=mlp.predict(X_test_scaled)\n",
    "print(\"Accuracy on training set: {:.3f}\".format(mlp.score(X_train_scaled, y_train)))\n",
    "print(\"Accuracy on test set: {:.3f}\".format(mlp.score(X_test_scaled, y_test)))\n",
    "print(\"mean squared error: {:.3f}\".format(mean_squared_error(y_test, y_pred)))\n",
    "print(\"r^2: {:.3f}\".format(r2_score(y_test, y_pred)))\n",
    "#print(\"Disbursement: \", round(mlp.score(X_train_scaled, y_train) - mlp.score(X_test_scaled, y_test), 4))"
   ]
  },
  {
   "cell_type": "code",
   "execution_count": 111,
   "metadata": {},
   "outputs": [
    {
     "data": {
      "text/plain": [
       "<matplotlib.collections.PathCollection at 0x1a1ed86990>"
      ]
     },
     "execution_count": 111,
     "metadata": {},
     "output_type": "execute_result"
    },
    {
     "data": {
      "image/png": "[encoded data removed]",
      "text/plain": [
       "<Figure size 432x288 with 1 Axes>"
      ]
     },
     "metadata": {
      "needs_background": "light"
     },
     "output_type": "display_data"
    }
   ],
   "source": [
    "plt.plot(y_pred, y_pred, color='black')\n",
    "plt.scatter(y_pred, y_test, color='blue')"
   ]
  },
  {
   "cell_type": "markdown",
   "metadata": {},
   "source": [
    "Though rescaling the data improved the training accuracy, the performance for its prediction is so much worsened. "
   ]
  },
  {
   "cell_type": "code",
   "execution_count": 37,
   "metadata": {},
   "outputs": [
    {
     "name": "stdout",
     "output_type": "stream",
     "text": [
      "Accuracy on training set: 0.515\n",
      "Accuracy on test set: 0.239\n",
      "R^2:  0.2758\n"
     ]
    },
    {
     "name": "stderr",
     "output_type": "stream",
     "text": [
      "/opt/anaconda3/lib/python3.7/site-packages/sklearn/neural_network/multilayer_perceptron.py:566: ConvergenceWarning: Stochastic Optimizer: Maximum iterations (400) reached and the optimization hasn't converged yet.\n",
      "  % self.max_iter, ConvergenceWarning)\n"
     ]
    }
   ],
   "source": [
    "mlp = MLPRegressor(solver=\"adam\", learning_rate_init=0.0001, max_iter=400, random_state=42)\n",
    "mlp.fit(X_train_scaled, y_train)\n",
    "y_pred=mlp.predict(X_test_scaled)\n",
    "print(\"Accuracy on training set: {:.3f}\".format(mlp.score(X_train_scaled, y_train)))\n",
    "print(\"Accuracy on test set: {:.3f}\".format(mlp.score(X_test_scaled, y_test)))\n",
    "print(\"mean squared error: {:.3f}\".format(mean_squared_error(y_test, y_pred)))\n",
    "print(\"r^2: {:.3f}\".format(r2_score(y_test, y_pred)))\n",
    "#print(\"Disbursement: \", round(mlp.score(X_train_scaled, y_train) - mlp.score(X_test_scaled, y_test), 4))"
   ]
  },
  {
   "cell_type": "code",
   "execution_count": 61,
   "metadata": {},
   "outputs": [
    {
     "name": "stdout",
     "output_type": "stream",
     "text": [
      "Accuracy on training set: 0.976\n",
      "Accuracy on test set: -0.033\n",
      "mean squared error: 2.321\n",
      "r^2: -0.033\n"
     ]
    }
   ],
   "source": [
    "mlp = MLPRegressor(solver=\"adam\", hidden_layer_sizes=[100, 100], max_iter=400, random_state=42)\n",
    "mlp.fit(X_train_scaled, y_train)\n",
    "y_pred=mlp.predict(X_test_scaled)\n",
    "print(\"Accuracy on training set: {:.3f}\".format(mlp.score(X_train_scaled, y_train)))\n",
    "print(\"Accuracy on test set: {:.3f}\".format(mlp.score(X_test_scaled, y_test)))\n",
    "print(\"mean squared error: {:.3f}\".format(mean_squared_error(y_test, y_pred)))\n",
    "print(\"r^2: {:.3f}\".format(r2_score(y_test, y_pred)))\n",
    "#print(\"Disbursement: \", round(mlp.score(X_train_scaled, y_train) - mlp.score(X_test_scaled, y_test), 4))"
   ]
  },
  {
   "cell_type": "code",
   "execution_count": 62,
   "metadata": {},
   "outputs": [
    {
     "name": "stdout",
     "output_type": "stream",
     "text": [
      "Accuracy on training set: 0.954\n",
      "Accuracy on test set: 0.047\n",
      "mean squared error: 2.141\n",
      "r^2: 0.047\n"
     ]
    }
   ],
   "source": [
    "mlp = MLPRegressor(solver=\"adam\", hidden_layer_sizes=[100, 70], max_iter=400, random_state=42)\n",
    "mlp.fit(X_train_scaled, y_train)\n",
    "y_pred=mlp.predict(X_test_scaled)\n",
    "print(\"Accuracy on training set: {:.3f}\".format(mlp.score(X_train_scaled, y_train)))\n",
    "print(\"Accuracy on test set: {:.3f}\".format(mlp.score(X_test_scaled, y_test)))\n",
    "print(\"mean squared error: {:.3f}\".format(mean_squared_error(y_test, y_pred)))\n",
    "print(\"r^2: {:.3f}\".format(r2_score(y_test, y_pred)))\n",
    "#print(\"Disbursement: \", round(mlp.score(X_train_scaled, y_train) - mlp.score(X_test_scaled, y_test), 4))"
   ]
  },
  {
   "cell_type": "code",
   "execution_count": 63,
   "metadata": {},
   "outputs": [
    {
     "name": "stdout",
     "output_type": "stream",
     "text": [
      "Accuracy on training set: 0.989\n",
      "Accuracy on test set: -0.054\n",
      "mean squared error: 2.141\n",
      "r^2: 0.047\n"
     ]
    }
   ],
   "source": [
    "mlp = MLPRegressor(solver=\"adam\", hidden_layer_sizes=[100, 100, 100], max_iter=400, random_state=42)\n",
    "mlp.fit(X_train_scaled, y_train)\n",
    "y_predict=mlp.predict(X_test_scaled)\n",
    "print(\"Accuracy on training set: {:.3f}\".format(mlp.score(X_train_scaled, y_train)))\n",
    "print(\"Accuracy on test set: {:.3f}\".format(mlp.score(X_test_scaled, y_test)))\n",
    "print(\"mean squared error: {:.3f}\".format(mean_squared_error(y_test, y_pred)))\n",
    "print(\"r^2: {:.3f}\".format(r2_score(y_test, y_pred)))\n",
    "#print(\"Disbursement: \", round(mlp.score(X_train_scaled, y_train) - mlp.score(X_test_scaled, y_test), 4))"
   ]
  },
  {
   "cell_type": "code",
   "execution_count": 64,
   "metadata": {},
   "outputs": [
    {
     "name": "stdout",
     "output_type": "stream",
     "text": [
      "Accuracy on training set: 0.993\n",
      "Accuracy on test set: 0.145\n",
      "mean squared error: 1.922\n",
      "r^2: 0.145\n"
     ]
    }
   ],
   "source": [
    "mlp = MLPRegressor(solver=\"adam\", hidden_layer_sizes=[400, 400, 400], max_iter=400, random_state=42)\n",
    "mlp.fit(X_train_scaled, y_train)\n",
    "y_pred=mlp.predict(X_test_scaled)\n",
    "print(\"Accuracy on training set: {:.3f}\".format(mlp.score(X_train_scaled, y_train)))\n",
    "print(\"Accuracy on test set: {:.3f}\".format(mlp.score(X_test_scaled, y_test)))\n",
    "print(\"mean squared error: {:.3f}\".format(mean_squared_error(y_test, y_pred)))\n",
    "print(\"r^2: {:.3f}\".format(r2_score(y_test, y_pred)))\n",
    "#print(\"Disbursement: \", round(mlp.score(X_train_scaled, y_train) - mlp.score(X_test_scaled, y_test), 4))"
   ]
  },
  {
   "cell_type": "code",
   "execution_count": 65,
   "metadata": {},
   "outputs": [
    {
     "name": "stdout",
     "output_type": "stream",
     "text": [
      "Accuracy on training set: 0.980\n",
      "Accuracy on test set: 0.175\n",
      "mean squared error: 1.853\n",
      "r^2: 0.175\n"
     ]
    }
   ],
   "source": [
    "mlp = MLPRegressor(alpha= 0.1, solver=\"adam\", hidden_layer_sizes=[400, 400, 400], max_iter=400, random_state=42)\n",
    "mlp.fit(X_train_scaled, y_train)\n",
    "y_pred=mlp.predict(X_test_scaled)\n",
    "print(\"Accuracy on training set: {:.3f}\".format(mlp.score(X_train_scaled, y_train)))\n",
    "print(\"Accuracy on test set: {:.3f}\".format(mlp.score(X_test_scaled, y_test)))\n",
    "print(\"mean squared error: {:.3f}\".format(mean_squared_error(y_test, y_pred)))\n",
    "print(\"r^2: {:.3f}\".format(r2_score(y_test, y_pred)))\n",
    "#print(\"Disbursement: \", round(mlp.score(X_train_scaled, y_train) - mlp.score(X_test_scaled, y_test), 4))"
   ]
  },
  {
   "cell_type": "code",
   "execution_count": 112,
   "metadata": {},
   "outputs": [
    {
     "data": {
      "text/plain": [
       "<matplotlib.collections.PathCollection at 0x1a207c0050>"
      ]
     },
     "execution_count": 112,
     "metadata": {},
     "output_type": "execute_result"
    },
    {
     "data": {
      "image/png": "[encoded data removed]",
      "text/plain": [
       "<Figure size 432x288 with 1 Axes>"
      ]
     },
     "metadata": {
      "needs_background": "light"
     },
     "output_type": "display_data"
    }
   ],
   "source": [
    "plt.plot(y_pred, y_pred, color='black')\n",
    "plt.scatter(y_pred, y_test, color='blue')"
   ]
  },
  {
   "cell_type": "code",
   "execution_count": 110,
   "metadata": {},
   "outputs": [
    {
     "name": "stdout",
     "output_type": "stream",
     "text": [
      "Accuracy on training set: 0.982\n",
      "Accuracy on test set: 0.131\n",
      "mean squared error: 1.952\n",
      "r^2: 0.131\n"
     ]
    }
   ],
   "source": [
    "mlp = MLPRegressor(solver=\"adam\", hidden_layer_sizes=[400, 400, 400, 400], max_iter=400, random_state=42)\n",
    "mlp.fit(X_train_scaled, y_train)\n",
    "y_pred=mlp.predict(X_test_scaled)\n",
    "print(\"Accuracy on training set: {:.3f}\".format(mlp.score(X_train_scaled, y_train)))\n",
    "print(\"Accuracy on test set: {:.3f}\".format(mlp.score(X_test_scaled, y_test)))\n",
    "print(\"mean squared error: {:.3f}\".format(mean_squared_error(y_test, y_pred)))\n",
    "print(\"r^2: {:.3f}\".format(r2_score(y_test, y_pred)))\n",
    "#print(\"Disbursement: \", round(mlp.score(X_train_scaled, y_train) - mlp.score(X_test_scaled, y_test), 4))"
   ]
  },
  {
   "cell_type": "code",
   "execution_count": null,
   "metadata": {},
   "outputs": [],
   "source": []
  }
 ],
 "metadata": {
  "kernelspec": {
   "display_name": "Python 3",
   "language": "python",
   "name": "python3"
  },
  "language_info": {
   "codemirror_mode": {
    "name": "ipython",
    "version": 3
   },
   "file_extension": ".py",
   "mimetype": "text/x-python",
   "name": "python",
   "nbconvert_exporter": "python",
   "pygments_lexer": "ipython3",
   "version": "3.7.4"
  }
 },
 "nbformat": 4,
 "nbformat_minor": 2
}
