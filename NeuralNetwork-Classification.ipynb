{
 "cells": [
  {
   "cell_type": "code",
   "execution_count": 1,
   "metadata": {},
   "outputs": [],
   "source": [
    "%matplotlib inline\n",
    "import numpy as np\n",
    "import matplotlib.pyplot as plt\n",
    "import pandas as pd\n",
    "from IPython.display import display"
   ]
  },
  {
   "cell_type": "code",
   "execution_count": 2,
   "metadata": {},
   "outputs": [],
   "source": [
    "# Demonstrate classificaiton with a Neural Network - specifically a\n",
    "# Multilayer Perceptron Network - to the Wisconsin Breast Cancer dataset"
   ]
  },
  {
   "cell_type": "code",
   "execution_count": 3,
   "metadata": {},
   "outputs": [],
   "source": [
    "# import the Multilayer Perceptron Classification package\n",
    "from sklearn.neural_network import MLPClassifier"
   ]
  },
  {
   "cell_type": "code",
   "execution_count": 4,
   "metadata": {},
   "outputs": [],
   "source": [
    "# import the dataset and create training and test sets\n",
    "from sklearn.datasets import load_breast_cancer\n",
    "from sklearn.model_selection import train_test_split\n",
    "cancer = load_breast_cancer()\n",
    "X_train, X_test, y_train, y_test = train_test_split(cancer.data, cancer.target, stratify=cancer.target, random_state=42)"
   ]
  },
  {
   "cell_type": "code",
   "execution_count": 5,
   "metadata": {},
   "outputs": [
    {
     "name": "stdout",
     "output_type": "stream",
     "text": [
      "Accuracy on training set: 0.939\n",
      "Accuracy on test set: 0.916\n"
     ]
    }
   ],
   "source": [
    "# use our familiar pattern to train and then evaluate a machine learning model\n",
    "\n",
    "# create a multilayer perceptron classifier\n",
    "mlp = MLPClassifier(random_state=42)\n",
    "# fit the classifier to the training data\n",
    "mlp.fit(X_train, y_train)\n",
    "# print its accuracy on the training set\n",
    "print(\"Accuracy on training set: {:.3f}\".format(mlp.score(X_train, y_train)))\n",
    "# print its accuracy on the test set\n",
    "print(\"Accuracy on test set: {:.3f}\".format(mlp.score(X_test, y_test)))"
   ]
  },
  {
   "cell_type": "markdown",
   "metadata": {},
   "source": [
    "#### QUESTION: How does our multilayer perceptron model compare to our kNN model? Our linear model?\n",
    "Q1: With the training accuracy of about 94%, the multilayer perceptron model seems to learn well and its training accuracy is similar to the kNN model. But its training accuracy is slightly lower than the training accuracy of the the linear model. For the kNN model, the training score is 0.93427 and the testing score is 0.92308 for k = 28. For the linear mode, the training score is 0.977 and the testing score is 0.972 with c =197.57977. We can see that there is a larger discrepancy between the training set and the testing set for the multilayer perceptron model compared to kNN and linear. This means that there is a greater risk of overfitting in the multilayer perceptron model. \n",
    "# test set performance"
   ]
  },
  {
   "cell_type": "code",
   "execution_count": 6,
   "metadata": {},
   "outputs": [],
   "source": [
    "# OBSERVATION: Neural networks expect all input features to vary over similar domains and\n",
    "# ideally to have a mean of 0 and a variance of 1. Rescaling your input features to ensure\n",
    "# this can improve the performance of a neural network. It is important to scale the\n",
    "# input features of the training set and the test set using the same factors. Output\n",
    "# values do not need to be scaled."
   ]
  },
  {
   "cell_type": "code",
   "execution_count": 6,
   "metadata": {},
   "outputs": [
    {
     "name": "stdout",
     "output_type": "stream",
     "text": [
      "Cancer.data.shape:(569, 30)\n",
      "Cancer data per-feature maxima:\n",
      "[2.811e+01 3.928e+01 1.885e+02 2.501e+03 1.634e-01 3.454e-01 4.268e-01\n",
      " 2.012e-01 3.040e-01 9.744e-02 2.873e+00 4.885e+00 2.198e+01 5.422e+02\n",
      " 3.113e-02 1.354e-01 3.960e-01 5.279e-02 7.895e-02 2.984e-02 3.604e+01\n",
      " 4.954e+01 2.512e+02 4.254e+03 2.226e-01 1.058e+00 1.252e+00 2.910e-01\n",
      " 6.638e-01 2.075e-01]\n"
     ]
    }
   ],
   "source": [
    "# first, observe that the input features for the dataset cover very different\n",
    "# ranges of values by printing out the maximum value for each feature\n",
    "# Note: recall taht cancer.data is a two-dimension array of examples versus feature values\n",
    "# having \"axis=0\" as the argument to max indicates to apply \"max\" across the first dimension\n",
    "# this finds the max value for a feature across all examples \n",
    "print(\"Cancer.data.shape:{}\".format(cancer.data.shape))\n",
    "print(\"Cancer data per-feature maxima:\\n{}\".format(cancer.data.max(axis=0)))"
   ]
  },
  {
   "cell_type": "code",
   "execution_count": 7,
   "metadata": {},
   "outputs": [],
   "source": [
    "# create scaled versions of X_train and X_test\n",
    "\n",
    "# compute the mean value for each feature of the training set\n",
    "mean_on_train = X_train.mean(axis=0)\n",
    "# compute the standard deviation for each feature of the training set\n",
    "std_on_train = X_train.std(axis=0)\n",
    "\n",
    "# for each individual feature value, if you subtract the mean for that\n",
    "# feature and then divide by the standard deviation, the resulting\n",
    "# set of feature values will have a mean of 0 and a standard deviation\n",
    "# of 1\n",
    "X_train_scaled = (X_train - mean_on_train)/std_on_train\n",
    "# apply the same transformation to the test set\n",
    "X_test_scaled = (X_test - mean_on_train)/std_on_train"
   ]
  },
  {
   "cell_type": "code",
   "execution_count": 8,
   "metadata": {},
   "outputs": [
    {
     "name": "stdout",
     "output_type": "stream",
     "text": [
      "Training set per-feature maxima:\n",
      "[ 4.00445109  4.49849937  4.01162075  5.35222811  3.48706735  4.59929699\n",
      "  4.17444132  3.72084068  4.4834192   4.79559816  9.40604527  6.44742857\n",
      "  9.82527409 11.78432972  7.79635041  5.94089805 11.08404608  6.49347423\n",
      "  6.56453224  9.16596134  3.52452623  3.7810191   3.66652714  4.58294179\n",
      "  3.80303832  4.94538374  4.44669544  2.63268402  5.7062447   6.59065532]\n",
      "Test set per-feature maxima:\n",
      "[ 3.80757821  2.25881091  3.94538624  5.35801627  5.05497445  3.95295565\n",
      "  4.17938925  3.97827701  3.08911193  4.46077093  8.16664526  3.34776831\n",
      "  8.11718975 12.18648512  5.26796104  3.92088238  2.90601364  3.66469283\n",
      "  2.78563286  2.63645351  4.13042769  2.56096381  4.32203237  6.05479726\n",
      "  3.9886931   3.77434119  3.01678784  2.30219171  2.81935551  3.15169611]\n"
     ]
    }
   ],
   "source": [
    "# observe the new maximum values for the training and test sets\n",
    "print(\"Training set per-feature maxima:\\n{}\".format(X_train_scaled.max(axis=0)))\n",
    "print(\"Test set per-feature maxima:\\n{}\".format(X_test_scaled.max(axis=0)))"
   ]
  },
  {
   "cell_type": "code",
   "execution_count": 9,
   "metadata": {},
   "outputs": [
    {
     "name": "stdout",
     "output_type": "stream",
     "text": [
      "Accuracy on training set: 0.995\n",
      "Accuracy on test set: 0.965\n"
     ]
    },
    {
     "name": "stderr",
     "output_type": "stream",
     "text": [
      "/opt/anaconda3/lib/python3.7/site-packages/sklearn/neural_network/multilayer_perceptron.py:566: ConvergenceWarning: Stochastic Optimizer: Maximum iterations (200) reached and the optimization hasn't converged yet.\n",
      "  % self.max_iter, ConvergenceWarning)\n"
     ]
    }
   ],
   "source": [
    "# train a new multilayer perceptron network using scaled versions of the\n",
    "# input features for the training and test sets\n",
    "mlp = MLPClassifier(random_state=42)\n",
    "mlp.fit(X_train_scaled, y_train)\n",
    "\n",
    "# print out the accuracy on the training and test sets, remembering to\n",
    "# use the scaled versions here as well\n",
    "print(\"Accuracy on training set: {:.3f}\".format(mlp.score(X_train_scaled, y_train)))\n",
    "print(\"Accuracy on test set: {:.3f}\".format(mlp.score(X_test_scaled, y_test)))\n",
    "\n",
    "# Note: you will get a warning that learning does not converge; a classifier\n",
    "# is still produced that can be analyzed and used"
   ]
  },
  {
   "cell_type": "markdown",
   "metadata": {},
   "source": [
    "#### QUESTION: Does rescaling the data improve the behavior of the multilayer perceptron model? By how much? How does it now compare to kNN and linear models?\n",
    "Q2: After rescaling the data, we can see that the performance of the training set improved by 0.056 and the performance of the testing set improved by 0.049. Compared to both kNN and linear models, the multilayer perceptron model is training better. Though it is performing the prediction better than the kNN model, its prediction performance is slightly lower than the linear model. Considering the discrepancy between the training set and the tresting set, it has not been reduced from rescaling the data. "
   ]
  },
  {
   "cell_type": "code",
   "execution_count": 11,
   "metadata": {},
   "outputs": [],
   "source": [
    "# eliminate the warning by providing the number of iterations that the MLP classifier\n",
    "# is allowed to run while trying to learn good weights for its network"
   ]
  },
  {
   "cell_type": "code",
   "execution_count": 10,
   "metadata": {},
   "outputs": [
    {
     "name": "stdout",
     "output_type": "stream",
     "text": [
      "Accuracy on training set: 0.995\n",
      "Accuracy on test set: 0.965\n"
     ]
    },
    {
     "name": "stderr",
     "output_type": "stream",
     "text": [
      "/opt/anaconda3/lib/python3.7/site-packages/sklearn/neural_network/multilayer_perceptron.py:566: ConvergenceWarning: Stochastic Optimizer: Maximum iterations (200) reached and the optimization hasn't converged yet.\n",
      "  % self.max_iter, ConvergenceWarning)\n"
     ]
    }
   ],
   "source": [
    "mlp = MLPClassifier(max_iter=200, random_state=42)\n",
    "mlp.fit(X_train_scaled, y_train)\n",
    "\n",
    "# print out the accuracy on the training and test sets, remembering to\n",
    "# use the scaled versions here as well\n",
    "print(\"Accuracy on training set: {:.3f}\".format(mlp.score(X_train_scaled, y_train)))\n",
    "print(\"Accuracy on test set: {:.3f}\".format(mlp.score(X_test_scaled, y_test)))"
   ]
  },
  {
   "cell_type": "code",
   "execution_count": 13,
   "metadata": {},
   "outputs": [],
   "source": [
    "# TODO: 200 iterations will not be enough to eliminate the warning, experiment to find a\n",
    "# maximum number of iterations that eliminates the warning"
   ]
  },
  {
   "cell_type": "code",
   "execution_count": 14,
   "metadata": {},
   "outputs": [
    {
     "name": "stderr",
     "output_type": "stream",
     "text": [
      "/opt/anaconda3/lib/python3.7/site-packages/sklearn/neural_network/multilayer_perceptron.py:566: ConvergenceWarning: Stochastic Optimizer: Maximum iterations (200) reached and the optimization hasn't converged yet.\n",
      "  % self.max_iter, ConvergenceWarning)\n"
     ]
    },
    {
     "name": "stdout",
     "output_type": "stream",
     "text": [
      "Accuracy on training set: 0.995  Accuracy on test set: 0.965\n"
     ]
    },
    {
     "name": "stderr",
     "output_type": "stream",
     "text": [
      "/opt/anaconda3/lib/python3.7/site-packages/sklearn/neural_network/multilayer_perceptron.py:566: ConvergenceWarning: Stochastic Optimizer: Maximum iterations (201) reached and the optimization hasn't converged yet.\n",
      "  % self.max_iter, ConvergenceWarning)\n"
     ]
    },
    {
     "name": "stdout",
     "output_type": "stream",
     "text": [
      "Accuracy on training set: 0.995  Accuracy on test set: 0.965\n"
     ]
    },
    {
     "name": "stderr",
     "output_type": "stream",
     "text": [
      "/opt/anaconda3/lib/python3.7/site-packages/sklearn/neural_network/multilayer_perceptron.py:566: ConvergenceWarning: Stochastic Optimizer: Maximum iterations (202) reached and the optimization hasn't converged yet.\n",
      "  % self.max_iter, ConvergenceWarning)\n"
     ]
    },
    {
     "name": "stdout",
     "output_type": "stream",
     "text": [
      "Accuracy on training set: 0.995  Accuracy on test set: 0.965\n"
     ]
    },
    {
     "name": "stderr",
     "output_type": "stream",
     "text": [
      "/opt/anaconda3/lib/python3.7/site-packages/sklearn/neural_network/multilayer_perceptron.py:566: ConvergenceWarning: Stochastic Optimizer: Maximum iterations (203) reached and the optimization hasn't converged yet.\n",
      "  % self.max_iter, ConvergenceWarning)\n"
     ]
    },
    {
     "name": "stdout",
     "output_type": "stream",
     "text": [
      "Accuracy on training set: 0.995  Accuracy on test set: 0.965\n"
     ]
    },
    {
     "name": "stderr",
     "output_type": "stream",
     "text": [
      "/opt/anaconda3/lib/python3.7/site-packages/sklearn/neural_network/multilayer_perceptron.py:566: ConvergenceWarning: Stochastic Optimizer: Maximum iterations (204) reached and the optimization hasn't converged yet.\n",
      "  % self.max_iter, ConvergenceWarning)\n"
     ]
    },
    {
     "name": "stdout",
     "output_type": "stream",
     "text": [
      "Accuracy on training set: 0.995  Accuracy on test set: 0.965\n"
     ]
    },
    {
     "name": "stderr",
     "output_type": "stream",
     "text": [
      "/opt/anaconda3/lib/python3.7/site-packages/sklearn/neural_network/multilayer_perceptron.py:566: ConvergenceWarning: Stochastic Optimizer: Maximum iterations (205) reached and the optimization hasn't converged yet.\n",
      "  % self.max_iter, ConvergenceWarning)\n"
     ]
    },
    {
     "name": "stdout",
     "output_type": "stream",
     "text": [
      "Accuracy on training set: 0.995  Accuracy on test set: 0.965\n"
     ]
    },
    {
     "name": "stderr",
     "output_type": "stream",
     "text": [
      "/opt/anaconda3/lib/python3.7/site-packages/sklearn/neural_network/multilayer_perceptron.py:566: ConvergenceWarning: Stochastic Optimizer: Maximum iterations (206) reached and the optimization hasn't converged yet.\n",
      "  % self.max_iter, ConvergenceWarning)\n"
     ]
    },
    {
     "name": "stdout",
     "output_type": "stream",
     "text": [
      "Accuracy on training set: 0.995  Accuracy on test set: 0.965\n"
     ]
    },
    {
     "name": "stderr",
     "output_type": "stream",
     "text": [
      "/opt/anaconda3/lib/python3.7/site-packages/sklearn/neural_network/multilayer_perceptron.py:566: ConvergenceWarning: Stochastic Optimizer: Maximum iterations (207) reached and the optimization hasn't converged yet.\n",
      "  % self.max_iter, ConvergenceWarning)\n"
     ]
    },
    {
     "name": "stdout",
     "output_type": "stream",
     "text": [
      "Accuracy on training set: 0.995  Accuracy on test set: 0.965\n"
     ]
    },
    {
     "name": "stderr",
     "output_type": "stream",
     "text": [
      "/opt/anaconda3/lib/python3.7/site-packages/sklearn/neural_network/multilayer_perceptron.py:566: ConvergenceWarning: Stochastic Optimizer: Maximum iterations (208) reached and the optimization hasn't converged yet.\n",
      "  % self.max_iter, ConvergenceWarning)\n"
     ]
    },
    {
     "name": "stdout",
     "output_type": "stream",
     "text": [
      "Accuracy on training set: 0.995  Accuracy on test set: 0.965\n"
     ]
    },
    {
     "name": "stderr",
     "output_type": "stream",
     "text": [
      "/opt/anaconda3/lib/python3.7/site-packages/sklearn/neural_network/multilayer_perceptron.py:566: ConvergenceWarning: Stochastic Optimizer: Maximum iterations (209) reached and the optimization hasn't converged yet.\n",
      "  % self.max_iter, ConvergenceWarning)\n"
     ]
    },
    {
     "name": "stdout",
     "output_type": "stream",
     "text": [
      "Accuracy on training set: 0.995  Accuracy on test set: 0.965\n"
     ]
    },
    {
     "name": "stderr",
     "output_type": "stream",
     "text": [
      "/opt/anaconda3/lib/python3.7/site-packages/sklearn/neural_network/multilayer_perceptron.py:566: ConvergenceWarning: Stochastic Optimizer: Maximum iterations (210) reached and the optimization hasn't converged yet.\n",
      "  % self.max_iter, ConvergenceWarning)\n"
     ]
    },
    {
     "name": "stdout",
     "output_type": "stream",
     "text": [
      "Accuracy on training set: 0.995  Accuracy on test set: 0.965\n"
     ]
    },
    {
     "name": "stderr",
     "output_type": "stream",
     "text": [
      "/opt/anaconda3/lib/python3.7/site-packages/sklearn/neural_network/multilayer_perceptron.py:566: ConvergenceWarning: Stochastic Optimizer: Maximum iterations (211) reached and the optimization hasn't converged yet.\n",
      "  % self.max_iter, ConvergenceWarning)\n"
     ]
    },
    {
     "name": "stdout",
     "output_type": "stream",
     "text": [
      "Accuracy on training set: 0.995  Accuracy on test set: 0.965\n"
     ]
    },
    {
     "name": "stderr",
     "output_type": "stream",
     "text": [
      "/opt/anaconda3/lib/python3.7/site-packages/sklearn/neural_network/multilayer_perceptron.py:566: ConvergenceWarning: Stochastic Optimizer: Maximum iterations (212) reached and the optimization hasn't converged yet.\n",
      "  % self.max_iter, ConvergenceWarning)\n"
     ]
    },
    {
     "name": "stdout",
     "output_type": "stream",
     "text": [
      "Accuracy on training set: 0.995  Accuracy on test set: 0.965\n"
     ]
    },
    {
     "name": "stderr",
     "output_type": "stream",
     "text": [
      "/opt/anaconda3/lib/python3.7/site-packages/sklearn/neural_network/multilayer_perceptron.py:566: ConvergenceWarning: Stochastic Optimizer: Maximum iterations (213) reached and the optimization hasn't converged yet.\n",
      "  % self.max_iter, ConvergenceWarning)\n"
     ]
    },
    {
     "name": "stdout",
     "output_type": "stream",
     "text": [
      "Accuracy on training set: 0.995  Accuracy on test set: 0.965\n"
     ]
    },
    {
     "name": "stderr",
     "output_type": "stream",
     "text": [
      "/opt/anaconda3/lib/python3.7/site-packages/sklearn/neural_network/multilayer_perceptron.py:566: ConvergenceWarning: Stochastic Optimizer: Maximum iterations (214) reached and the optimization hasn't converged yet.\n",
      "  % self.max_iter, ConvergenceWarning)\n"
     ]
    },
    {
     "name": "stdout",
     "output_type": "stream",
     "text": [
      "Accuracy on training set: 0.995  Accuracy on test set: 0.965\n"
     ]
    },
    {
     "name": "stderr",
     "output_type": "stream",
     "text": [
      "/opt/anaconda3/lib/python3.7/site-packages/sklearn/neural_network/multilayer_perceptron.py:566: ConvergenceWarning: Stochastic Optimizer: Maximum iterations (215) reached and the optimization hasn't converged yet.\n",
      "  % self.max_iter, ConvergenceWarning)\n"
     ]
    },
    {
     "name": "stdout",
     "output_type": "stream",
     "text": [
      "Accuracy on training set: 0.995  Accuracy on test set: 0.965\n"
     ]
    },
    {
     "name": "stderr",
     "output_type": "stream",
     "text": [
      "/opt/anaconda3/lib/python3.7/site-packages/sklearn/neural_network/multilayer_perceptron.py:566: ConvergenceWarning: Stochastic Optimizer: Maximum iterations (216) reached and the optimization hasn't converged yet.\n",
      "  % self.max_iter, ConvergenceWarning)\n"
     ]
    },
    {
     "name": "stdout",
     "output_type": "stream",
     "text": [
      "Accuracy on training set: 0.995  Accuracy on test set: 0.965\n"
     ]
    },
    {
     "name": "stderr",
     "output_type": "stream",
     "text": [
      "/opt/anaconda3/lib/python3.7/site-packages/sklearn/neural_network/multilayer_perceptron.py:566: ConvergenceWarning: Stochastic Optimizer: Maximum iterations (217) reached and the optimization hasn't converged yet.\n",
      "  % self.max_iter, ConvergenceWarning)\n"
     ]
    },
    {
     "name": "stdout",
     "output_type": "stream",
     "text": [
      "Accuracy on training set: 0.995  Accuracy on test set: 0.965\n"
     ]
    },
    {
     "name": "stderr",
     "output_type": "stream",
     "text": [
      "/opt/anaconda3/lib/python3.7/site-packages/sklearn/neural_network/multilayer_perceptron.py:566: ConvergenceWarning: Stochastic Optimizer: Maximum iterations (218) reached and the optimization hasn't converged yet.\n",
      "  % self.max_iter, ConvergenceWarning)\n"
     ]
    },
    {
     "name": "stdout",
     "output_type": "stream",
     "text": [
      "Accuracy on training set: 0.995  Accuracy on test set: 0.965\n"
     ]
    },
    {
     "name": "stderr",
     "output_type": "stream",
     "text": [
      "/opt/anaconda3/lib/python3.7/site-packages/sklearn/neural_network/multilayer_perceptron.py:566: ConvergenceWarning: Stochastic Optimizer: Maximum iterations (219) reached and the optimization hasn't converged yet.\n",
      "  % self.max_iter, ConvergenceWarning)\n"
     ]
    },
    {
     "name": "stdout",
     "output_type": "stream",
     "text": [
      "Accuracy on training set: 0.995  Accuracy on test set: 0.965\n"
     ]
    },
    {
     "name": "stderr",
     "output_type": "stream",
     "text": [
      "/opt/anaconda3/lib/python3.7/site-packages/sklearn/neural_network/multilayer_perceptron.py:566: ConvergenceWarning: Stochastic Optimizer: Maximum iterations (220) reached and the optimization hasn't converged yet.\n",
      "  % self.max_iter, ConvergenceWarning)\n"
     ]
    },
    {
     "name": "stdout",
     "output_type": "stream",
     "text": [
      "Accuracy on training set: 0.995  Accuracy on test set: 0.965\n"
     ]
    },
    {
     "name": "stderr",
     "output_type": "stream",
     "text": [
      "/opt/anaconda3/lib/python3.7/site-packages/sklearn/neural_network/multilayer_perceptron.py:566: ConvergenceWarning: Stochastic Optimizer: Maximum iterations (221) reached and the optimization hasn't converged yet.\n",
      "  % self.max_iter, ConvergenceWarning)\n"
     ]
    },
    {
     "name": "stdout",
     "output_type": "stream",
     "text": [
      "Accuracy on training set: 0.995  Accuracy on test set: 0.965\n"
     ]
    },
    {
     "name": "stderr",
     "output_type": "stream",
     "text": [
      "/opt/anaconda3/lib/python3.7/site-packages/sklearn/neural_network/multilayer_perceptron.py:566: ConvergenceWarning: Stochastic Optimizer: Maximum iterations (222) reached and the optimization hasn't converged yet.\n",
      "  % self.max_iter, ConvergenceWarning)\n"
     ]
    },
    {
     "name": "stdout",
     "output_type": "stream",
     "text": [
      "Accuracy on training set: 0.995  Accuracy on test set: 0.965\n"
     ]
    },
    {
     "name": "stderr",
     "output_type": "stream",
     "text": [
      "/opt/anaconda3/lib/python3.7/site-packages/sklearn/neural_network/multilayer_perceptron.py:566: ConvergenceWarning: Stochastic Optimizer: Maximum iterations (223) reached and the optimization hasn't converged yet.\n",
      "  % self.max_iter, ConvergenceWarning)\n"
     ]
    },
    {
     "name": "stdout",
     "output_type": "stream",
     "text": [
      "Accuracy on training set: 0.998  Accuracy on test set: 0.965\n"
     ]
    },
    {
     "name": "stderr",
     "output_type": "stream",
     "text": [
      "/opt/anaconda3/lib/python3.7/site-packages/sklearn/neural_network/multilayer_perceptron.py:566: ConvergenceWarning: Stochastic Optimizer: Maximum iterations (224) reached and the optimization hasn't converged yet.\n",
      "  % self.max_iter, ConvergenceWarning)\n"
     ]
    },
    {
     "name": "stdout",
     "output_type": "stream",
     "text": [
      "Accuracy on training set: 0.998  Accuracy on test set: 0.965\n"
     ]
    },
    {
     "name": "stderr",
     "output_type": "stream",
     "text": [
      "/opt/anaconda3/lib/python3.7/site-packages/sklearn/neural_network/multilayer_perceptron.py:566: ConvergenceWarning: Stochastic Optimizer: Maximum iterations (225) reached and the optimization hasn't converged yet.\n",
      "  % self.max_iter, ConvergenceWarning)\n"
     ]
    },
    {
     "name": "stdout",
     "output_type": "stream",
     "text": [
      "Accuracy on training set: 0.998  Accuracy on test set: 0.965\n"
     ]
    },
    {
     "name": "stderr",
     "output_type": "stream",
     "text": [
      "/opt/anaconda3/lib/python3.7/site-packages/sklearn/neural_network/multilayer_perceptron.py:566: ConvergenceWarning: Stochastic Optimizer: Maximum iterations (226) reached and the optimization hasn't converged yet.\n",
      "  % self.max_iter, ConvergenceWarning)\n"
     ]
    },
    {
     "name": "stdout",
     "output_type": "stream",
     "text": [
      "Accuracy on training set: 0.998  Accuracy on test set: 0.965\n"
     ]
    },
    {
     "name": "stderr",
     "output_type": "stream",
     "text": [
      "/opt/anaconda3/lib/python3.7/site-packages/sklearn/neural_network/multilayer_perceptron.py:566: ConvergenceWarning: Stochastic Optimizer: Maximum iterations (227) reached and the optimization hasn't converged yet.\n",
      "  % self.max_iter, ConvergenceWarning)\n"
     ]
    },
    {
     "name": "stdout",
     "output_type": "stream",
     "text": [
      "Accuracy on training set: 0.998  Accuracy on test set: 0.965\n"
     ]
    },
    {
     "name": "stderr",
     "output_type": "stream",
     "text": [
      "/opt/anaconda3/lib/python3.7/site-packages/sklearn/neural_network/multilayer_perceptron.py:566: ConvergenceWarning: Stochastic Optimizer: Maximum iterations (228) reached and the optimization hasn't converged yet.\n",
      "  % self.max_iter, ConvergenceWarning)\n"
     ]
    },
    {
     "name": "stdout",
     "output_type": "stream",
     "text": [
      "Accuracy on training set: 0.998  Accuracy on test set: 0.965\n"
     ]
    },
    {
     "name": "stderr",
     "output_type": "stream",
     "text": [
      "/opt/anaconda3/lib/python3.7/site-packages/sklearn/neural_network/multilayer_perceptron.py:566: ConvergenceWarning: Stochastic Optimizer: Maximum iterations (229) reached and the optimization hasn't converged yet.\n",
      "  % self.max_iter, ConvergenceWarning)\n"
     ]
    },
    {
     "name": "stdout",
     "output_type": "stream",
     "text": [
      "Accuracy on training set: 0.998  Accuracy on test set: 0.965\n"
     ]
    },
    {
     "name": "stderr",
     "output_type": "stream",
     "text": [
      "/opt/anaconda3/lib/python3.7/site-packages/sklearn/neural_network/multilayer_perceptron.py:566: ConvergenceWarning: Stochastic Optimizer: Maximum iterations (230) reached and the optimization hasn't converged yet.\n",
      "  % self.max_iter, ConvergenceWarning)\n"
     ]
    },
    {
     "name": "stdout",
     "output_type": "stream",
     "text": [
      "Accuracy on training set: 0.998  Accuracy on test set: 0.965\n"
     ]
    },
    {
     "name": "stderr",
     "output_type": "stream",
     "text": [
      "/opt/anaconda3/lib/python3.7/site-packages/sklearn/neural_network/multilayer_perceptron.py:566: ConvergenceWarning: Stochastic Optimizer: Maximum iterations (231) reached and the optimization hasn't converged yet.\n",
      "  % self.max_iter, ConvergenceWarning)\n"
     ]
    },
    {
     "name": "stdout",
     "output_type": "stream",
     "text": [
      "Accuracy on training set: 0.998  Accuracy on test set: 0.965\n"
     ]
    },
    {
     "name": "stderr",
     "output_type": "stream",
     "text": [
      "/opt/anaconda3/lib/python3.7/site-packages/sklearn/neural_network/multilayer_perceptron.py:566: ConvergenceWarning: Stochastic Optimizer: Maximum iterations (232) reached and the optimization hasn't converged yet.\n",
      "  % self.max_iter, ConvergenceWarning)\n"
     ]
    },
    {
     "name": "stdout",
     "output_type": "stream",
     "text": [
      "Accuracy on training set: 0.998  Accuracy on test set: 0.965\n"
     ]
    },
    {
     "name": "stderr",
     "output_type": "stream",
     "text": [
      "/opt/anaconda3/lib/python3.7/site-packages/sklearn/neural_network/multilayer_perceptron.py:566: ConvergenceWarning: Stochastic Optimizer: Maximum iterations (233) reached and the optimization hasn't converged yet.\n",
      "  % self.max_iter, ConvergenceWarning)\n"
     ]
    },
    {
     "name": "stdout",
     "output_type": "stream",
     "text": [
      "Accuracy on training set: 0.998  Accuracy on test set: 0.965\n"
     ]
    },
    {
     "name": "stderr",
     "output_type": "stream",
     "text": [
      "/opt/anaconda3/lib/python3.7/site-packages/sklearn/neural_network/multilayer_perceptron.py:566: ConvergenceWarning: Stochastic Optimizer: Maximum iterations (234) reached and the optimization hasn't converged yet.\n",
      "  % self.max_iter, ConvergenceWarning)\n"
     ]
    },
    {
     "name": "stdout",
     "output_type": "stream",
     "text": [
      "Accuracy on training set: 0.998  Accuracy on test set: 0.972\n"
     ]
    },
    {
     "name": "stderr",
     "output_type": "stream",
     "text": [
      "/opt/anaconda3/lib/python3.7/site-packages/sklearn/neural_network/multilayer_perceptron.py:566: ConvergenceWarning: Stochastic Optimizer: Maximum iterations (235) reached and the optimization hasn't converged yet.\n",
      "  % self.max_iter, ConvergenceWarning)\n"
     ]
    },
    {
     "name": "stdout",
     "output_type": "stream",
     "text": [
      "Accuracy on training set: 0.998  Accuracy on test set: 0.972\n"
     ]
    },
    {
     "name": "stderr",
     "output_type": "stream",
     "text": [
      "/opt/anaconda3/lib/python3.7/site-packages/sklearn/neural_network/multilayer_perceptron.py:568: UserWarning: Training interrupted by user.\n",
      "  warnings.warn(\"Training interrupted by user.\")\n"
     ]
    },
    {
     "name": "stdout",
     "output_type": "stream",
     "text": [
      "Accuracy on training set: 0.993  Accuracy on test set: 0.965\n"
     ]
    },
    {
     "name": "stderr",
     "output_type": "stream",
     "text": [
      "/opt/anaconda3/lib/python3.7/site-packages/sklearn/neural_network/multilayer_perceptron.py:566: ConvergenceWarning: Stochastic Optimizer: Maximum iterations (237) reached and the optimization hasn't converged yet.\n",
      "  % self.max_iter, ConvergenceWarning)\n"
     ]
    },
    {
     "name": "stdout",
     "output_type": "stream",
     "text": [
      "Accuracy on training set: 0.998  Accuracy on test set: 0.972\n"
     ]
    },
    {
     "name": "stderr",
     "output_type": "stream",
     "text": [
      "/opt/anaconda3/lib/python3.7/site-packages/sklearn/neural_network/multilayer_perceptron.py:566: ConvergenceWarning: Stochastic Optimizer: Maximum iterations (238) reached and the optimization hasn't converged yet.\n",
      "  % self.max_iter, ConvergenceWarning)\n"
     ]
    },
    {
     "name": "stdout",
     "output_type": "stream",
     "text": [
      "Accuracy on training set: 0.998  Accuracy on test set: 0.972\n"
     ]
    },
    {
     "name": "stderr",
     "output_type": "stream",
     "text": [
      "/opt/anaconda3/lib/python3.7/site-packages/sklearn/neural_network/multilayer_perceptron.py:566: ConvergenceWarning: Stochastic Optimizer: Maximum iterations (239) reached and the optimization hasn't converged yet.\n",
      "  % self.max_iter, ConvergenceWarning)\n",
      "/opt/anaconda3/lib/python3.7/site-packages/sklearn/neural_network/multilayer_perceptron.py:568: UserWarning: Training interrupted by user.\n",
      "  warnings.warn(\"Training interrupted by user.\")\n"
     ]
    },
    {
     "name": "stdout",
     "output_type": "stream",
     "text": [
      "Accuracy on training set: 0.998  Accuracy on test set: 0.972\n",
      "Accuracy on training set: 0.979  Accuracy on test set: 0.951\n"
     ]
    },
    {
     "name": "stderr",
     "output_type": "stream",
     "text": [
      "/opt/anaconda3/lib/python3.7/site-packages/sklearn/neural_network/multilayer_perceptron.py:566: ConvergenceWarning: Stochastic Optimizer: Maximum iterations (241) reached and the optimization hasn't converged yet.\n",
      "  % self.max_iter, ConvergenceWarning)\n",
      "/opt/anaconda3/lib/python3.7/site-packages/sklearn/neural_network/multilayer_perceptron.py:568: UserWarning: Training interrupted by user.\n",
      "  warnings.warn(\"Training interrupted by user.\")\n"
     ]
    },
    {
     "name": "stdout",
     "output_type": "stream",
     "text": [
      "Accuracy on training set: 0.998  Accuracy on test set: 0.972\n",
      "Accuracy on training set: 0.986  Accuracy on test set: 0.972\n"
     ]
    },
    {
     "name": "stderr",
     "output_type": "stream",
     "text": [
      "/opt/anaconda3/lib/python3.7/site-packages/sklearn/neural_network/multilayer_perceptron.py:566: ConvergenceWarning: Stochastic Optimizer: Maximum iterations (243) reached and the optimization hasn't converged yet.\n",
      "  % self.max_iter, ConvergenceWarning)\n"
     ]
    },
    {
     "name": "stdout",
     "output_type": "stream",
     "text": [
      "Accuracy on training set: 0.998  Accuracy on test set: 0.965\n"
     ]
    },
    {
     "name": "stderr",
     "output_type": "stream",
     "text": [
      "/opt/anaconda3/lib/python3.7/site-packages/sklearn/neural_network/multilayer_perceptron.py:566: ConvergenceWarning: Stochastic Optimizer: Maximum iterations (244) reached and the optimization hasn't converged yet.\n",
      "  % self.max_iter, ConvergenceWarning)\n"
     ]
    },
    {
     "name": "stdout",
     "output_type": "stream",
     "text": [
      "Accuracy on training set: 0.998  Accuracy on test set: 0.965\n"
     ]
    },
    {
     "name": "stderr",
     "output_type": "stream",
     "text": [
      "/opt/anaconda3/lib/python3.7/site-packages/sklearn/neural_network/multilayer_perceptron.py:568: UserWarning: Training interrupted by user.\n",
      "  warnings.warn(\"Training interrupted by user.\")\n"
     ]
    },
    {
     "name": "stdout",
     "output_type": "stream",
     "text": [
      "Accuracy on training set: 0.993  Accuracy on test set: 0.972\n"
     ]
    },
    {
     "name": "stderr",
     "output_type": "stream",
     "text": [
      "/opt/anaconda3/lib/python3.7/site-packages/sklearn/neural_network/multilayer_perceptron.py:566: ConvergenceWarning: Stochastic Optimizer: Maximum iterations (246) reached and the optimization hasn't converged yet.\n",
      "  % self.max_iter, ConvergenceWarning)\n"
     ]
    },
    {
     "name": "stdout",
     "output_type": "stream",
     "text": [
      "Accuracy on training set: 0.998  Accuracy on test set: 0.965\n",
      "Accuracy on training set: 0.998  Accuracy on test set: 0.965\n",
      "Accuracy on training set: 0.981  Accuracy on test set: 0.972\n"
     ]
    },
    {
     "name": "stderr",
     "output_type": "stream",
     "text": [
      "/opt/anaconda3/lib/python3.7/site-packages/sklearn/neural_network/multilayer_perceptron.py:568: UserWarning: Training interrupted by user.\n",
      "  warnings.warn(\"Training interrupted by user.\")\n"
     ]
    },
    {
     "name": "stdout",
     "output_type": "stream",
     "text": [
      "Accuracy on training set: 0.998  Accuracy on test set: 0.965\n"
     ]
    }
   ],
   "source": [
    "for i in range(200, 250):\n",
    "    mlp = MLPClassifier(max_iter=i, random_state=42)\n",
    "    mlp.fit(X_train_scaled, y_train)\n",
    "    print(\"Accuracy on training set: {:.3f}\".format(mlp.score(X_train_scaled, y_train)), \" Accuracy on test set: {:.3f}\".format(mlp.score(X_test_scaled, y_test)))"
   ]
  },
  {
   "cell_type": "markdown",
   "metadata": {},
   "source": [
    "#### QUESTION: Does allowing the MLP Classifier to run through learning iterations until it converges improve its performance? What evidence is there we might be overfitting?\n",
    "Q3: The MLP classifier begins to converge with max_iter >= 247. When the max iterations are at 200, the training accuracy is 99.5% and the testing accuracy is 96.5%. When the max iterations are at 247, the training accuracy is 99.8% and the testing accuracy is 96.5%. Only the training accuracy improved by 0.3%. On the other hand, the max iterations of 247 increased the discrepancy between the training set and the testing set by 0.003. Therefore, the risk of overfitting of the model increased as well."
   ]
  },
  {
   "cell_type": "code",
   "execution_count": 15,
   "metadata": {},
   "outputs": [],
   "source": [
    "# OBSERVATION: Recall that we use regularization to address problems of overfitting.\n",
    "# A regularization parameter alpha can be used to decrease the model's complexity,\n",
    "# thus having it less exactly fit the training data and hopefully better generalize\n",
    "# to the test data. Larger alpha values produce more regularization or less complexity.\n",
    "# The default alpha value for a MLPClassifier is 0.0001"
   ]
  },
  {
   "cell_type": "code",
   "execution_count": 16,
   "metadata": {},
   "outputs": [
    {
     "name": "stdout",
     "output_type": "stream",
     "text": [
      "Accuracy on training set: 0.995\n",
      "Accuracy on test set: 0.965\n"
     ]
    },
    {
     "name": "stderr",
     "output_type": "stream",
     "text": [
      "/opt/anaconda3/lib/python3.7/site-packages/sklearn/neural_network/multilayer_perceptron.py:566: ConvergenceWarning: Stochastic Optimizer: Maximum iterations (200) reached and the optimization hasn't converged yet.\n",
      "  % self.max_iter, ConvergenceWarning)\n"
     ]
    }
   ],
   "source": [
    "mlp = MLPClassifier(max_iter=200, alpha=0.0001, random_state=42)\n",
    "mlp.fit(X_train_scaled, y_train)\n",
    "\n",
    "# print out the accuracy on the training and test sets, remembering to\n",
    "# use the scaled versions here as well\n",
    "print(\"Accuracy on training set: {:.3f}\".format(mlp.score(X_train_scaled, y_train)))\n",
    "print(\"Accuracy on test set: {:.3f}\".format(mlp.score(X_test_scaled, y_test)))"
   ]
  },
  {
   "cell_type": "code",
   "execution_count": 17,
   "metadata": {},
   "outputs": [],
   "source": [
    "# TODO: Set the max_iter value for this MLP classifier to the value discovered above that\n",
    "# permits the classifier to iterate until it converges. Then, experiment with increasing the\n",
    "# alpha value by factors of 10 until you seem to have eliminated overfitting and produced\n",
    "# a model that learns and generalizes well."
   ]
  },
  {
   "cell_type": "code",
   "execution_count": 63,
   "metadata": {},
   "outputs": [
    {
     "name": "stdout",
     "output_type": "stream",
     "text": [
      "0.0001  Accuracy on training set: 0.998  Accuracy on test set: 0.965\n",
      "0.01010990990990991  Accuracy on training set: 0.998  Accuracy on test set: 0.965\n",
      "0.02011981981981982  Accuracy on training set: 0.998  Accuracy on test set: 0.965\n",
      "0.030129729729729732  Accuracy on training set: 0.995  Accuracy on test set: 0.965\n"
     ]
    },
    {
     "name": "stderr",
     "output_type": "stream",
     "text": [
      "/opt/anaconda3/lib/python3.7/site-packages/sklearn/neural_network/multilayer_perceptron.py:566: ConvergenceWarning: Stochastic Optimizer: Maximum iterations (247) reached and the optimization hasn't converged yet.\n",
      "  % self.max_iter, ConvergenceWarning)\n"
     ]
    },
    {
     "name": "stdout",
     "output_type": "stream",
     "text": [
      "0.040139639639639645  Accuracy on training set: 0.995  Accuracy on test set: 0.965\n"
     ]
    },
    {
     "name": "stderr",
     "output_type": "stream",
     "text": [
      "/opt/anaconda3/lib/python3.7/site-packages/sklearn/neural_network/multilayer_perceptron.py:566: ConvergenceWarning: Stochastic Optimizer: Maximum iterations (247) reached and the optimization hasn't converged yet.\n",
      "  % self.max_iter, ConvergenceWarning)\n"
     ]
    },
    {
     "name": "stdout",
     "output_type": "stream",
     "text": [
      "0.05014954954954955  Accuracy on training set: 0.995  Accuracy on test set: 0.972\n"
     ]
    },
    {
     "name": "stderr",
     "output_type": "stream",
     "text": [
      "/opt/anaconda3/lib/python3.7/site-packages/sklearn/neural_network/multilayer_perceptron.py:566: ConvergenceWarning: Stochastic Optimizer: Maximum iterations (247) reached and the optimization hasn't converged yet.\n",
      "  % self.max_iter, ConvergenceWarning)\n"
     ]
    },
    {
     "name": "stdout",
     "output_type": "stream",
     "text": [
      "0.06015945945945947  Accuracy on training set: 0.995  Accuracy on test set: 0.972\n"
     ]
    },
    {
     "name": "stderr",
     "output_type": "stream",
     "text": [
      "/opt/anaconda3/lib/python3.7/site-packages/sklearn/neural_network/multilayer_perceptron.py:566: ConvergenceWarning: Stochastic Optimizer: Maximum iterations (247) reached and the optimization hasn't converged yet.\n",
      "  % self.max_iter, ConvergenceWarning)\n"
     ]
    },
    {
     "name": "stdout",
     "output_type": "stream",
     "text": [
      "0.07016936936936938  Accuracy on training set: 0.995  Accuracy on test set: 0.972\n"
     ]
    },
    {
     "name": "stderr",
     "output_type": "stream",
     "text": [
      "/opt/anaconda3/lib/python3.7/site-packages/sklearn/neural_network/multilayer_perceptron.py:566: ConvergenceWarning: Stochastic Optimizer: Maximum iterations (247) reached and the optimization hasn't converged yet.\n",
      "  % self.max_iter, ConvergenceWarning)\n"
     ]
    },
    {
     "name": "stdout",
     "output_type": "stream",
     "text": [
      "0.08017927927927929  Accuracy on training set: 0.995  Accuracy on test set: 0.972\n"
     ]
    },
    {
     "name": "stderr",
     "output_type": "stream",
     "text": [
      "/opt/anaconda3/lib/python3.7/site-packages/sklearn/neural_network/multilayer_perceptron.py:566: ConvergenceWarning: Stochastic Optimizer: Maximum iterations (247) reached and the optimization hasn't converged yet.\n",
      "  % self.max_iter, ConvergenceWarning)\n"
     ]
    },
    {
     "name": "stdout",
     "output_type": "stream",
     "text": [
      "0.0901891891891892  Accuracy on training set: 0.995  Accuracy on test set: 0.972\n"
     ]
    },
    {
     "name": "stderr",
     "output_type": "stream",
     "text": [
      "/opt/anaconda3/lib/python3.7/site-packages/sklearn/neural_network/multilayer_perceptron.py:566: ConvergenceWarning: Stochastic Optimizer: Maximum iterations (247) reached and the optimization hasn't converged yet.\n",
      "  % self.max_iter, ConvergenceWarning)\n"
     ]
    },
    {
     "name": "stdout",
     "output_type": "stream",
     "text": [
      "0.1001990990990991  Accuracy on training set: 0.995  Accuracy on test set: 0.972\n"
     ]
    },
    {
     "name": "stderr",
     "output_type": "stream",
     "text": [
      "/opt/anaconda3/lib/python3.7/site-packages/sklearn/neural_network/multilayer_perceptron.py:566: ConvergenceWarning: Stochastic Optimizer: Maximum iterations (247) reached and the optimization hasn't converged yet.\n",
      "  % self.max_iter, ConvergenceWarning)\n"
     ]
    },
    {
     "name": "stdout",
     "output_type": "stream",
     "text": [
      "0.11020900900900901  Accuracy on training set: 0.993  Accuracy on test set: 0.972\n"
     ]
    },
    {
     "name": "stderr",
     "output_type": "stream",
     "text": [
      "/opt/anaconda3/lib/python3.7/site-packages/sklearn/neural_network/multilayer_perceptron.py:566: ConvergenceWarning: Stochastic Optimizer: Maximum iterations (247) reached and the optimization hasn't converged yet.\n",
      "  % self.max_iter, ConvergenceWarning)\n"
     ]
    },
    {
     "name": "stdout",
     "output_type": "stream",
     "text": [
      "0.12021891891891894  Accuracy on training set: 0.993  Accuracy on test set: 0.972\n"
     ]
    },
    {
     "name": "stderr",
     "output_type": "stream",
     "text": [
      "/opt/anaconda3/lib/python3.7/site-packages/sklearn/neural_network/multilayer_perceptron.py:566: ConvergenceWarning: Stochastic Optimizer: Maximum iterations (247) reached and the optimization hasn't converged yet.\n",
      "  % self.max_iter, ConvergenceWarning)\n"
     ]
    },
    {
     "name": "stdout",
     "output_type": "stream",
     "text": [
      "0.13022882882882883  Accuracy on training set: 0.993  Accuracy on test set: 0.972\n"
     ]
    },
    {
     "name": "stderr",
     "output_type": "stream",
     "text": [
      "/opt/anaconda3/lib/python3.7/site-packages/sklearn/neural_network/multilayer_perceptron.py:566: ConvergenceWarning: Stochastic Optimizer: Maximum iterations (247) reached and the optimization hasn't converged yet.\n",
      "  % self.max_iter, ConvergenceWarning)\n"
     ]
    },
    {
     "name": "stdout",
     "output_type": "stream",
     "text": [
      "0.14023873873873874  Accuracy on training set: 0.993  Accuracy on test set: 0.972\n"
     ]
    },
    {
     "name": "stderr",
     "output_type": "stream",
     "text": [
      "/opt/anaconda3/lib/python3.7/site-packages/sklearn/neural_network/multilayer_perceptron.py:566: ConvergenceWarning: Stochastic Optimizer: Maximum iterations (247) reached and the optimization hasn't converged yet.\n",
      "  % self.max_iter, ConvergenceWarning)\n"
     ]
    },
    {
     "name": "stdout",
     "output_type": "stream",
     "text": [
      "0.15024864864864865  Accuracy on training set: 0.993  Accuracy on test set: 0.972\n"
     ]
    },
    {
     "name": "stderr",
     "output_type": "stream",
     "text": [
      "/opt/anaconda3/lib/python3.7/site-packages/sklearn/neural_network/multilayer_perceptron.py:566: ConvergenceWarning: Stochastic Optimizer: Maximum iterations (247) reached and the optimization hasn't converged yet.\n",
      "  % self.max_iter, ConvergenceWarning)\n"
     ]
    },
    {
     "name": "stdout",
     "output_type": "stream",
     "text": [
      "0.16025855855855856  Accuracy on training set: 0.993  Accuracy on test set: 0.972\n"
     ]
    },
    {
     "name": "stderr",
     "output_type": "stream",
     "text": [
      "/opt/anaconda3/lib/python3.7/site-packages/sklearn/neural_network/multilayer_perceptron.py:566: ConvergenceWarning: Stochastic Optimizer: Maximum iterations (247) reached and the optimization hasn't converged yet.\n",
      "  % self.max_iter, ConvergenceWarning)\n"
     ]
    },
    {
     "name": "stdout",
     "output_type": "stream",
     "text": [
      "0.17026846846846846  Accuracy on training set: 0.993  Accuracy on test set: 0.972\n"
     ]
    },
    {
     "name": "stderr",
     "output_type": "stream",
     "text": [
      "/opt/anaconda3/lib/python3.7/site-packages/sklearn/neural_network/multilayer_perceptron.py:566: ConvergenceWarning: Stochastic Optimizer: Maximum iterations (247) reached and the optimization hasn't converged yet.\n",
      "  % self.max_iter, ConvergenceWarning)\n"
     ]
    },
    {
     "name": "stdout",
     "output_type": "stream",
     "text": [
      "0.18027837837837837  Accuracy on training set: 0.993  Accuracy on test set: 0.972\n"
     ]
    },
    {
     "name": "stderr",
     "output_type": "stream",
     "text": [
      "/opt/anaconda3/lib/python3.7/site-packages/sklearn/neural_network/multilayer_perceptron.py:566: ConvergenceWarning: Stochastic Optimizer: Maximum iterations (247) reached and the optimization hasn't converged yet.\n",
      "  % self.max_iter, ConvergenceWarning)\n"
     ]
    },
    {
     "name": "stdout",
     "output_type": "stream",
     "text": [
      "0.19028828828828828  Accuracy on training set: 0.993  Accuracy on test set: 0.972\n"
     ]
    },
    {
     "name": "stderr",
     "output_type": "stream",
     "text": [
      "/opt/anaconda3/lib/python3.7/site-packages/sklearn/neural_network/multilayer_perceptron.py:566: ConvergenceWarning: Stochastic Optimizer: Maximum iterations (247) reached and the optimization hasn't converged yet.\n",
      "  % self.max_iter, ConvergenceWarning)\n"
     ]
    },
    {
     "name": "stdout",
     "output_type": "stream",
     "text": [
      "0.2002981981981982  Accuracy on training set: 0.993  Accuracy on test set: 0.972\n"
     ]
    },
    {
     "name": "stderr",
     "output_type": "stream",
     "text": [
      "/opt/anaconda3/lib/python3.7/site-packages/sklearn/neural_network/multilayer_perceptron.py:566: ConvergenceWarning: Stochastic Optimizer: Maximum iterations (247) reached and the optimization hasn't converged yet.\n",
      "  % self.max_iter, ConvergenceWarning)\n"
     ]
    },
    {
     "name": "stdout",
     "output_type": "stream",
     "text": [
      "0.2103081081081081  Accuracy on training set: 0.993  Accuracy on test set: 0.972\n"
     ]
    },
    {
     "name": "stderr",
     "output_type": "stream",
     "text": [
      "/opt/anaconda3/lib/python3.7/site-packages/sklearn/neural_network/multilayer_perceptron.py:566: ConvergenceWarning: Stochastic Optimizer: Maximum iterations (247) reached and the optimization hasn't converged yet.\n",
      "  % self.max_iter, ConvergenceWarning)\n"
     ]
    },
    {
     "name": "stdout",
     "output_type": "stream",
     "text": [
      "0.220318018018018  Accuracy on training set: 0.993  Accuracy on test set: 0.972\n"
     ]
    },
    {
     "name": "stderr",
     "output_type": "stream",
     "text": [
      "/opt/anaconda3/lib/python3.7/site-packages/sklearn/neural_network/multilayer_perceptron.py:566: ConvergenceWarning: Stochastic Optimizer: Maximum iterations (247) reached and the optimization hasn't converged yet.\n",
      "  % self.max_iter, ConvergenceWarning)\n"
     ]
    },
    {
     "name": "stdout",
     "output_type": "stream",
     "text": [
      "0.23032792792792792  Accuracy on training set: 0.993  Accuracy on test set: 0.972\n"
     ]
    },
    {
     "name": "stderr",
     "output_type": "stream",
     "text": [
      "/opt/anaconda3/lib/python3.7/site-packages/sklearn/neural_network/multilayer_perceptron.py:566: ConvergenceWarning: Stochastic Optimizer: Maximum iterations (247) reached and the optimization hasn't converged yet.\n",
      "  % self.max_iter, ConvergenceWarning)\n"
     ]
    },
    {
     "name": "stdout",
     "output_type": "stream",
     "text": [
      "0.24033783783783785  Accuracy on training set: 0.993  Accuracy on test set: 0.972\n"
     ]
    },
    {
     "name": "stderr",
     "output_type": "stream",
     "text": [
      "/opt/anaconda3/lib/python3.7/site-packages/sklearn/neural_network/multilayer_perceptron.py:566: ConvergenceWarning: Stochastic Optimizer: Maximum iterations (247) reached and the optimization hasn't converged yet.\n",
      "  % self.max_iter, ConvergenceWarning)\n"
     ]
    },
    {
     "name": "stdout",
     "output_type": "stream",
     "text": [
      "0.25034774774774776  Accuracy on training set: 0.993  Accuracy on test set: 0.972\n"
     ]
    },
    {
     "name": "stderr",
     "output_type": "stream",
     "text": [
      "/opt/anaconda3/lib/python3.7/site-packages/sklearn/neural_network/multilayer_perceptron.py:566: ConvergenceWarning: Stochastic Optimizer: Maximum iterations (247) reached and the optimization hasn't converged yet.\n",
      "  % self.max_iter, ConvergenceWarning)\n"
     ]
    },
    {
     "name": "stdout",
     "output_type": "stream",
     "text": [
      "0.26035765765765767  Accuracy on training set: 0.991  Accuracy on test set: 0.972\n"
     ]
    },
    {
     "name": "stderr",
     "output_type": "stream",
     "text": [
      "/opt/anaconda3/lib/python3.7/site-packages/sklearn/neural_network/multilayer_perceptron.py:566: ConvergenceWarning: Stochastic Optimizer: Maximum iterations (247) reached and the optimization hasn't converged yet.\n",
      "  % self.max_iter, ConvergenceWarning)\n"
     ]
    },
    {
     "name": "stdout",
     "output_type": "stream",
     "text": [
      "0.2703675675675676  Accuracy on training set: 0.991  Accuracy on test set: 0.972\n"
     ]
    },
    {
     "name": "stderr",
     "output_type": "stream",
     "text": [
      "/opt/anaconda3/lib/python3.7/site-packages/sklearn/neural_network/multilayer_perceptron.py:566: ConvergenceWarning: Stochastic Optimizer: Maximum iterations (247) reached and the optimization hasn't converged yet.\n",
      "  % self.max_iter, ConvergenceWarning)\n"
     ]
    },
    {
     "name": "stdout",
     "output_type": "stream",
     "text": [
      "0.2803774774774775  Accuracy on training set: 0.991  Accuracy on test set: 0.972\n"
     ]
    },
    {
     "name": "stderr",
     "output_type": "stream",
     "text": [
      "/opt/anaconda3/lib/python3.7/site-packages/sklearn/neural_network/multilayer_perceptron.py:566: ConvergenceWarning: Stochastic Optimizer: Maximum iterations (247) reached and the optimization hasn't converged yet.\n",
      "  % self.max_iter, ConvergenceWarning)\n"
     ]
    },
    {
     "name": "stdout",
     "output_type": "stream",
     "text": [
      "0.2903873873873874  Accuracy on training set: 0.991  Accuracy on test set: 0.972\n"
     ]
    },
    {
     "name": "stderr",
     "output_type": "stream",
     "text": [
      "/opt/anaconda3/lib/python3.7/site-packages/sklearn/neural_network/multilayer_perceptron.py:566: ConvergenceWarning: Stochastic Optimizer: Maximum iterations (247) reached and the optimization hasn't converged yet.\n",
      "  % self.max_iter, ConvergenceWarning)\n"
     ]
    },
    {
     "name": "stdout",
     "output_type": "stream",
     "text": [
      "0.3003972972972973  Accuracy on training set: 0.991  Accuracy on test set: 0.979\n"
     ]
    },
    {
     "name": "stderr",
     "output_type": "stream",
     "text": [
      "/opt/anaconda3/lib/python3.7/site-packages/sklearn/neural_network/multilayer_perceptron.py:566: ConvergenceWarning: Stochastic Optimizer: Maximum iterations (247) reached and the optimization hasn't converged yet.\n",
      "  % self.max_iter, ConvergenceWarning)\n"
     ]
    },
    {
     "name": "stdout",
     "output_type": "stream",
     "text": [
      "0.3104072072072072  Accuracy on training set: 0.991  Accuracy on test set: 0.979\n"
     ]
    },
    {
     "name": "stderr",
     "output_type": "stream",
     "text": [
      "/opt/anaconda3/lib/python3.7/site-packages/sklearn/neural_network/multilayer_perceptron.py:566: ConvergenceWarning: Stochastic Optimizer: Maximum iterations (247) reached and the optimization hasn't converged yet.\n",
      "  % self.max_iter, ConvergenceWarning)\n"
     ]
    },
    {
     "name": "stdout",
     "output_type": "stream",
     "text": [
      "0.3204171171171171  Accuracy on training set: 0.991  Accuracy on test set: 0.979\n"
     ]
    },
    {
     "name": "stderr",
     "output_type": "stream",
     "text": [
      "/opt/anaconda3/lib/python3.7/site-packages/sklearn/neural_network/multilayer_perceptron.py:566: ConvergenceWarning: Stochastic Optimizer: Maximum iterations (247) reached and the optimization hasn't converged yet.\n",
      "  % self.max_iter, ConvergenceWarning)\n"
     ]
    },
    {
     "name": "stdout",
     "output_type": "stream",
     "text": [
      "0.33042702702702703  Accuracy on training set: 0.991  Accuracy on test set: 0.979\n"
     ]
    },
    {
     "name": "stderr",
     "output_type": "stream",
     "text": [
      "/opt/anaconda3/lib/python3.7/site-packages/sklearn/neural_network/multilayer_perceptron.py:566: ConvergenceWarning: Stochastic Optimizer: Maximum iterations (247) reached and the optimization hasn't converged yet.\n",
      "  % self.max_iter, ConvergenceWarning)\n"
     ]
    },
    {
     "name": "stdout",
     "output_type": "stream",
     "text": [
      "0.34043693693693694  Accuracy on training set: 0.991  Accuracy on test set: 0.979\n"
     ]
    },
    {
     "name": "stderr",
     "output_type": "stream",
     "text": [
      "/opt/anaconda3/lib/python3.7/site-packages/sklearn/neural_network/multilayer_perceptron.py:566: ConvergenceWarning: Stochastic Optimizer: Maximum iterations (247) reached and the optimization hasn't converged yet.\n",
      "  % self.max_iter, ConvergenceWarning)\n"
     ]
    },
    {
     "name": "stdout",
     "output_type": "stream",
     "text": [
      "0.35044684684684685  Accuracy on training set: 0.991  Accuracy on test set: 0.979\n"
     ]
    },
    {
     "name": "stderr",
     "output_type": "stream",
     "text": [
      "/opt/anaconda3/lib/python3.7/site-packages/sklearn/neural_network/multilayer_perceptron.py:566: ConvergenceWarning: Stochastic Optimizer: Maximum iterations (247) reached and the optimization hasn't converged yet.\n",
      "  % self.max_iter, ConvergenceWarning)\n"
     ]
    },
    {
     "name": "stdout",
     "output_type": "stream",
     "text": [
      "0.36045675675675676  Accuracy on training set: 0.991  Accuracy on test set: 0.979\n"
     ]
    },
    {
     "name": "stderr",
     "output_type": "stream",
     "text": [
      "/opt/anaconda3/lib/python3.7/site-packages/sklearn/neural_network/multilayer_perceptron.py:566: ConvergenceWarning: Stochastic Optimizer: Maximum iterations (247) reached and the optimization hasn't converged yet.\n",
      "  % self.max_iter, ConvergenceWarning)\n"
     ]
    },
    {
     "name": "stdout",
     "output_type": "stream",
     "text": [
      "0.37046666666666667  Accuracy on training set: 0.991  Accuracy on test set: 0.979\n"
     ]
    },
    {
     "name": "stderr",
     "output_type": "stream",
     "text": [
      "/opt/anaconda3/lib/python3.7/site-packages/sklearn/neural_network/multilayer_perceptron.py:566: ConvergenceWarning: Stochastic Optimizer: Maximum iterations (247) reached and the optimization hasn't converged yet.\n",
      "  % self.max_iter, ConvergenceWarning)\n"
     ]
    },
    {
     "name": "stdout",
     "output_type": "stream",
     "text": [
      "0.3804765765765766  Accuracy on training set: 0.991  Accuracy on test set: 0.979\n"
     ]
    },
    {
     "name": "stderr",
     "output_type": "stream",
     "text": [
      "/opt/anaconda3/lib/python3.7/site-packages/sklearn/neural_network/multilayer_perceptron.py:566: ConvergenceWarning: Stochastic Optimizer: Maximum iterations (247) reached and the optimization hasn't converged yet.\n",
      "  % self.max_iter, ConvergenceWarning)\n"
     ]
    },
    {
     "name": "stdout",
     "output_type": "stream",
     "text": [
      "0.3904864864864865  Accuracy on training set: 0.991  Accuracy on test set: 0.986\n"
     ]
    },
    {
     "name": "stderr",
     "output_type": "stream",
     "text": [
      "/opt/anaconda3/lib/python3.7/site-packages/sklearn/neural_network/multilayer_perceptron.py:566: ConvergenceWarning: Stochastic Optimizer: Maximum iterations (247) reached and the optimization hasn't converged yet.\n",
      "  % self.max_iter, ConvergenceWarning)\n"
     ]
    },
    {
     "name": "stdout",
     "output_type": "stream",
     "text": [
      "0.4004963963963964  Accuracy on training set: 0.991  Accuracy on test set: 0.986\n"
     ]
    },
    {
     "name": "stderr",
     "output_type": "stream",
     "text": [
      "/opt/anaconda3/lib/python3.7/site-packages/sklearn/neural_network/multilayer_perceptron.py:566: ConvergenceWarning: Stochastic Optimizer: Maximum iterations (247) reached and the optimization hasn't converged yet.\n",
      "  % self.max_iter, ConvergenceWarning)\n"
     ]
    },
    {
     "name": "stdout",
     "output_type": "stream",
     "text": [
      "0.4105063063063063  Accuracy on training set: 0.991  Accuracy on test set: 0.986\n"
     ]
    },
    {
     "name": "stderr",
     "output_type": "stream",
     "text": [
      "/opt/anaconda3/lib/python3.7/site-packages/sklearn/neural_network/multilayer_perceptron.py:566: ConvergenceWarning: Stochastic Optimizer: Maximum iterations (247) reached and the optimization hasn't converged yet.\n",
      "  % self.max_iter, ConvergenceWarning)\n"
     ]
    },
    {
     "name": "stdout",
     "output_type": "stream",
     "text": [
      "0.4205162162162162  Accuracy on training set: 0.991  Accuracy on test set: 0.986\n"
     ]
    },
    {
     "name": "stderr",
     "output_type": "stream",
     "text": [
      "/opt/anaconda3/lib/python3.7/site-packages/sklearn/neural_network/multilayer_perceptron.py:566: ConvergenceWarning: Stochastic Optimizer: Maximum iterations (247) reached and the optimization hasn't converged yet.\n",
      "  % self.max_iter, ConvergenceWarning)\n"
     ]
    },
    {
     "name": "stdout",
     "output_type": "stream",
     "text": [
      "0.4305261261261261  Accuracy on training set: 0.991  Accuracy on test set: 0.986\n"
     ]
    },
    {
     "name": "stderr",
     "output_type": "stream",
     "text": [
      "/opt/anaconda3/lib/python3.7/site-packages/sklearn/neural_network/multilayer_perceptron.py:566: ConvergenceWarning: Stochastic Optimizer: Maximum iterations (247) reached and the optimization hasn't converged yet.\n",
      "  % self.max_iter, ConvergenceWarning)\n"
     ]
    },
    {
     "name": "stdout",
     "output_type": "stream",
     "text": [
      "0.440536036036036  Accuracy on training set: 0.991  Accuracy on test set: 0.986\n"
     ]
    },
    {
     "name": "stderr",
     "output_type": "stream",
     "text": [
      "/opt/anaconda3/lib/python3.7/site-packages/sklearn/neural_network/multilayer_perceptron.py:566: ConvergenceWarning: Stochastic Optimizer: Maximum iterations (247) reached and the optimization hasn't converged yet.\n",
      "  % self.max_iter, ConvergenceWarning)\n"
     ]
    },
    {
     "name": "stdout",
     "output_type": "stream",
     "text": [
      "0.45054594594594594  Accuracy on training set: 0.991  Accuracy on test set: 0.986\n"
     ]
    },
    {
     "name": "stderr",
     "output_type": "stream",
     "text": [
      "/opt/anaconda3/lib/python3.7/site-packages/sklearn/neural_network/multilayer_perceptron.py:566: ConvergenceWarning: Stochastic Optimizer: Maximum iterations (247) reached and the optimization hasn't converged yet.\n",
      "  % self.max_iter, ConvergenceWarning)\n"
     ]
    },
    {
     "name": "stdout",
     "output_type": "stream",
     "text": [
      "0.46055585585585584  Accuracy on training set: 0.991  Accuracy on test set: 0.986\n"
     ]
    },
    {
     "name": "stderr",
     "output_type": "stream",
     "text": [
      "/opt/anaconda3/lib/python3.7/site-packages/sklearn/neural_network/multilayer_perceptron.py:566: ConvergenceWarning: Stochastic Optimizer: Maximum iterations (247) reached and the optimization hasn't converged yet.\n",
      "  % self.max_iter, ConvergenceWarning)\n"
     ]
    },
    {
     "name": "stdout",
     "output_type": "stream",
     "text": [
      "0.47056576576576575  Accuracy on training set: 0.991  Accuracy on test set: 0.986\n"
     ]
    },
    {
     "name": "stderr",
     "output_type": "stream",
     "text": [
      "/opt/anaconda3/lib/python3.7/site-packages/sklearn/neural_network/multilayer_perceptron.py:566: ConvergenceWarning: Stochastic Optimizer: Maximum iterations (247) reached and the optimization hasn't converged yet.\n",
      "  % self.max_iter, ConvergenceWarning)\n"
     ]
    },
    {
     "name": "stdout",
     "output_type": "stream",
     "text": [
      "0.4805756756756757  Accuracy on training set: 0.991  Accuracy on test set: 0.986\n"
     ]
    },
    {
     "name": "stderr",
     "output_type": "stream",
     "text": [
      "/opt/anaconda3/lib/python3.7/site-packages/sklearn/neural_network/multilayer_perceptron.py:566: ConvergenceWarning: Stochastic Optimizer: Maximum iterations (247) reached and the optimization hasn't converged yet.\n",
      "  % self.max_iter, ConvergenceWarning)\n"
     ]
    },
    {
     "name": "stdout",
     "output_type": "stream",
     "text": [
      "0.4905855855855856  Accuracy on training set: 0.991  Accuracy on test set: 0.986\n"
     ]
    },
    {
     "name": "stderr",
     "output_type": "stream",
     "text": [
      "/opt/anaconda3/lib/python3.7/site-packages/sklearn/neural_network/multilayer_perceptron.py:566: ConvergenceWarning: Stochastic Optimizer: Maximum iterations (247) reached and the optimization hasn't converged yet.\n",
      "  % self.max_iter, ConvergenceWarning)\n"
     ]
    },
    {
     "name": "stdout",
     "output_type": "stream",
     "text": [
      "0.5005954954954955  Accuracy on training set: 0.991  Accuracy on test set: 0.986\n"
     ]
    },
    {
     "name": "stderr",
     "output_type": "stream",
     "text": [
      "/opt/anaconda3/lib/python3.7/site-packages/sklearn/neural_network/multilayer_perceptron.py:566: ConvergenceWarning: Stochastic Optimizer: Maximum iterations (247) reached and the optimization hasn't converged yet.\n",
      "  % self.max_iter, ConvergenceWarning)\n"
     ]
    },
    {
     "name": "stdout",
     "output_type": "stream",
     "text": [
      "0.5106054054054054  Accuracy on training set: 0.991  Accuracy on test set: 0.986\n"
     ]
    },
    {
     "name": "stderr",
     "output_type": "stream",
     "text": [
      "/opt/anaconda3/lib/python3.7/site-packages/sklearn/neural_network/multilayer_perceptron.py:566: ConvergenceWarning: Stochastic Optimizer: Maximum iterations (247) reached and the optimization hasn't converged yet.\n",
      "  % self.max_iter, ConvergenceWarning)\n"
     ]
    },
    {
     "name": "stdout",
     "output_type": "stream",
     "text": [
      "0.5206153153153154  Accuracy on training set: 0.991  Accuracy on test set: 0.986\n"
     ]
    },
    {
     "name": "stderr",
     "output_type": "stream",
     "text": [
      "/opt/anaconda3/lib/python3.7/site-packages/sklearn/neural_network/multilayer_perceptron.py:566: ConvergenceWarning: Stochastic Optimizer: Maximum iterations (247) reached and the optimization hasn't converged yet.\n",
      "  % self.max_iter, ConvergenceWarning)\n"
     ]
    },
    {
     "name": "stdout",
     "output_type": "stream",
     "text": [
      "0.5306252252252253  Accuracy on training set: 0.991  Accuracy on test set: 0.986\n"
     ]
    },
    {
     "name": "stderr",
     "output_type": "stream",
     "text": [
      "/opt/anaconda3/lib/python3.7/site-packages/sklearn/neural_network/multilayer_perceptron.py:566: ConvergenceWarning: Stochastic Optimizer: Maximum iterations (247) reached and the optimization hasn't converged yet.\n",
      "  % self.max_iter, ConvergenceWarning)\n"
     ]
    },
    {
     "name": "stdout",
     "output_type": "stream",
     "text": [
      "0.5406351351351352  Accuracy on training set: 0.991  Accuracy on test set: 0.986\n"
     ]
    },
    {
     "name": "stderr",
     "output_type": "stream",
     "text": [
      "/opt/anaconda3/lib/python3.7/site-packages/sklearn/neural_network/multilayer_perceptron.py:566: ConvergenceWarning: Stochastic Optimizer: Maximum iterations (247) reached and the optimization hasn't converged yet.\n",
      "  % self.max_iter, ConvergenceWarning)\n"
     ]
    },
    {
     "name": "stdout",
     "output_type": "stream",
     "text": [
      "0.5506450450450451  Accuracy on training set: 0.991  Accuracy on test set: 0.986\n"
     ]
    },
    {
     "name": "stderr",
     "output_type": "stream",
     "text": [
      "/opt/anaconda3/lib/python3.7/site-packages/sklearn/neural_network/multilayer_perceptron.py:566: ConvergenceWarning: Stochastic Optimizer: Maximum iterations (247) reached and the optimization hasn't converged yet.\n",
      "  % self.max_iter, ConvergenceWarning)\n"
     ]
    },
    {
     "name": "stdout",
     "output_type": "stream",
     "text": [
      "0.560654954954955  Accuracy on training set: 0.991  Accuracy on test set: 0.986\n"
     ]
    },
    {
     "name": "stderr",
     "output_type": "stream",
     "text": [
      "/opt/anaconda3/lib/python3.7/site-packages/sklearn/neural_network/multilayer_perceptron.py:566: ConvergenceWarning: Stochastic Optimizer: Maximum iterations (247) reached and the optimization hasn't converged yet.\n",
      "  % self.max_iter, ConvergenceWarning)\n"
     ]
    },
    {
     "name": "stdout",
     "output_type": "stream",
     "text": [
      "0.5706648648648649  Accuracy on training set: 0.991  Accuracy on test set: 0.986\n"
     ]
    },
    {
     "name": "stderr",
     "output_type": "stream",
     "text": [
      "/opt/anaconda3/lib/python3.7/site-packages/sklearn/neural_network/multilayer_perceptron.py:566: ConvergenceWarning: Stochastic Optimizer: Maximum iterations (247) reached and the optimization hasn't converged yet.\n",
      "  % self.max_iter, ConvergenceWarning)\n"
     ]
    },
    {
     "name": "stdout",
     "output_type": "stream",
     "text": [
      "0.5806747747747748  Accuracy on training set: 0.988  Accuracy on test set: 0.986\n"
     ]
    },
    {
     "name": "stderr",
     "output_type": "stream",
     "text": [
      "/opt/anaconda3/lib/python3.7/site-packages/sklearn/neural_network/multilayer_perceptron.py:566: ConvergenceWarning: Stochastic Optimizer: Maximum iterations (247) reached and the optimization hasn't converged yet.\n",
      "  % self.max_iter, ConvergenceWarning)\n"
     ]
    },
    {
     "name": "stdout",
     "output_type": "stream",
     "text": [
      "0.5906846846846847  Accuracy on training set: 0.988  Accuracy on test set: 0.986\n"
     ]
    },
    {
     "name": "stderr",
     "output_type": "stream",
     "text": [
      "/opt/anaconda3/lib/python3.7/site-packages/sklearn/neural_network/multilayer_perceptron.py:566: ConvergenceWarning: Stochastic Optimizer: Maximum iterations (247) reached and the optimization hasn't converged yet.\n",
      "  % self.max_iter, ConvergenceWarning)\n"
     ]
    },
    {
     "name": "stdout",
     "output_type": "stream",
     "text": [
      "0.6006945945945946  Accuracy on training set: 0.988  Accuracy on test set: 0.986\n"
     ]
    },
    {
     "name": "stderr",
     "output_type": "stream",
     "text": [
      "/opt/anaconda3/lib/python3.7/site-packages/sklearn/neural_network/multilayer_perceptron.py:566: ConvergenceWarning: Stochastic Optimizer: Maximum iterations (247) reached and the optimization hasn't converged yet.\n",
      "  % self.max_iter, ConvergenceWarning)\n"
     ]
    },
    {
     "name": "stdout",
     "output_type": "stream",
     "text": [
      "0.6107045045045045  Accuracy on training set: 0.988  Accuracy on test set: 0.986\n"
     ]
    },
    {
     "name": "stderr",
     "output_type": "stream",
     "text": [
      "/opt/anaconda3/lib/python3.7/site-packages/sklearn/neural_network/multilayer_perceptron.py:566: ConvergenceWarning: Stochastic Optimizer: Maximum iterations (247) reached and the optimization hasn't converged yet.\n",
      "  % self.max_iter, ConvergenceWarning)\n"
     ]
    },
    {
     "name": "stdout",
     "output_type": "stream",
     "text": [
      "0.6207144144144144  Accuracy on training set: 0.988  Accuracy on test set: 0.986\n"
     ]
    },
    {
     "name": "stderr",
     "output_type": "stream",
     "text": [
      "/opt/anaconda3/lib/python3.7/site-packages/sklearn/neural_network/multilayer_perceptron.py:566: ConvergenceWarning: Stochastic Optimizer: Maximum iterations (247) reached and the optimization hasn't converged yet.\n",
      "  % self.max_iter, ConvergenceWarning)\n"
     ]
    },
    {
     "name": "stdout",
     "output_type": "stream",
     "text": [
      "0.6307243243243243  Accuracy on training set: 0.988  Accuracy on test set: 0.986\n"
     ]
    },
    {
     "name": "stderr",
     "output_type": "stream",
     "text": [
      "/opt/anaconda3/lib/python3.7/site-packages/sklearn/neural_network/multilayer_perceptron.py:566: ConvergenceWarning: Stochastic Optimizer: Maximum iterations (247) reached and the optimization hasn't converged yet.\n",
      "  % self.max_iter, ConvergenceWarning)\n"
     ]
    },
    {
     "name": "stdout",
     "output_type": "stream",
     "text": [
      "0.6407342342342343  Accuracy on training set: 0.988  Accuracy on test set: 0.986\n"
     ]
    },
    {
     "name": "stderr",
     "output_type": "stream",
     "text": [
      "/opt/anaconda3/lib/python3.7/site-packages/sklearn/neural_network/multilayer_perceptron.py:566: ConvergenceWarning: Stochastic Optimizer: Maximum iterations (247) reached and the optimization hasn't converged yet.\n",
      "  % self.max_iter, ConvergenceWarning)\n"
     ]
    },
    {
     "name": "stdout",
     "output_type": "stream",
     "text": [
      "0.6507441441441442  Accuracy on training set: 0.988  Accuracy on test set: 0.986\n",
      "0.6607540540540541  Accuracy on training set: 0.988  Accuracy on test set: 0.986\n",
      "0.670763963963964  Accuracy on training set: 0.988  Accuracy on test set: 0.986\n",
      "0.6807738738738739  Accuracy on training set: 0.988  Accuracy on test set: 0.986\n",
      "0.6907837837837838  Accuracy on training set: 0.988  Accuracy on test set: 0.986\n",
      "0.7007936936936937  Accuracy on training set: 0.988  Accuracy on test set: 0.986\n",
      "0.7108036036036036  Accuracy on training set: 0.988  Accuracy on test set: 0.986\n",
      "0.7208135135135135  Accuracy on training set: 0.988  Accuracy on test set: 0.986\n",
      "0.7308234234234234  Accuracy on training set: 0.988  Accuracy on test set: 0.986\n",
      "0.7408333333333333  Accuracy on training set: 0.988  Accuracy on test set: 0.986\n",
      "0.7508432432432433  Accuracy on training set: 0.988  Accuracy on test set: 0.986\n",
      "0.7608531531531532  Accuracy on training set: 0.988  Accuracy on test set: 0.986\n",
      "0.7708630630630631  Accuracy on training set: 0.988  Accuracy on test set: 0.986\n",
      "0.780872972972973  Accuracy on training set: 0.988  Accuracy on test set: 0.986\n",
      "0.7908828828828829  Accuracy on training set: 0.988  Accuracy on test set: 0.986\n",
      "0.8008927927927928  Accuracy on training set: 0.988  Accuracy on test set: 0.986\n",
      "0.8109027027027027  Accuracy on training set: 0.988  Accuracy on test set: 0.986\n",
      "0.8209126126126126  Accuracy on training set: 0.988  Accuracy on test set: 0.986\n",
      "0.8309225225225225  Accuracy on training set: 0.988  Accuracy on test set: 0.986\n",
      "0.8409324324324324  Accuracy on training set: 0.988  Accuracy on test set: 0.986\n",
      "0.8509423423423423  Accuracy on training set: 0.988  Accuracy on test set: 0.986\n",
      "0.8609522522522522  Accuracy on training set: 0.988  Accuracy on test set: 0.986\n",
      "0.8709621621621622  Accuracy on training set: 0.988  Accuracy on test set: 0.986\n",
      "0.8809720720720721  Accuracy on training set: 0.988  Accuracy on test set: 0.986\n",
      "0.890981981981982  Accuracy on training set: 0.988  Accuracy on test set: 0.986\n",
      "0.9009918918918919  Accuracy on training set: 0.988  Accuracy on test set: 0.986\n",
      "0.9110018018018018  Accuracy on training set: 0.988  Accuracy on test set: 0.986\n",
      "0.9210117117117117  Accuracy on training set: 0.988  Accuracy on test set: 0.986\n",
      "0.9310216216216216  Accuracy on training set: 0.988  Accuracy on test set: 0.986\n",
      "0.9410315315315315  Accuracy on training set: 0.988  Accuracy on test set: 0.986\n",
      "0.9510414414414414  Accuracy on training set: 0.988  Accuracy on test set: 0.986\n",
      "0.9610513513513514  Accuracy on training set: 0.988  Accuracy on test set: 0.986\n",
      "0.9710612612612614  Accuracy on training set: 0.988  Accuracy on test set: 0.986\n",
      "0.9810711711711713  Accuracy on training set: 0.988  Accuracy on test set: 0.986\n",
      "0.9910810810810812  Accuracy on training set: 0.988  Accuracy on test set: 0.986\n",
      "1.001090990990991  Accuracy on training set: 0.988  Accuracy on test set: 0.986\n",
      "1.0111009009009009  Accuracy on training set: 0.986  Accuracy on test set: 0.986\n",
      "1.021110810810811  Accuracy on training set: 0.986  Accuracy on test set: 0.986\n",
      "1.0311207207207207  Accuracy on training set: 0.988  Accuracy on test set: 0.986\n",
      "1.0411306306306307  Accuracy on training set: 0.988  Accuracy on test set: 0.986\n",
      "1.0511405405405405  Accuracy on training set: 0.988  Accuracy on test set: 0.986\n",
      "1.0611504504504505  Accuracy on training set: 0.988  Accuracy on test set: 0.986\n",
      "1.0711603603603603  Accuracy on training set: 0.988  Accuracy on test set: 0.986\n",
      "1.0811702702702704  Accuracy on training set: 0.988  Accuracy on test set: 0.986\n",
      "1.0911801801801801  Accuracy on training set: 0.988  Accuracy on test set: 0.986\n",
      "1.1011900900900902  Accuracy on training set: 0.988  Accuracy on test set: 0.986\n",
      "1.1112  Accuracy on training set: 0.988  Accuracy on test set: 0.986\n",
      "1.12120990990991  Accuracy on training set: 0.988  Accuracy on test set: 0.986\n",
      "1.1312198198198198  Accuracy on training set: 0.988  Accuracy on test set: 0.979\n",
      "1.1412297297297298  Accuracy on training set: 0.988  Accuracy on test set: 0.979\n",
      "1.1512396396396396  Accuracy on training set: 0.988  Accuracy on test set: 0.986\n",
      "1.1612495495495496  Accuracy on training set: 0.988  Accuracy on test set: 0.979\n",
      "1.1712594594594594  Accuracy on training set: 0.988  Accuracy on test set: 0.986\n",
      "1.1812693693693694  Accuracy on training set: 0.988  Accuracy on test set: 0.986\n",
      "1.1912792792792792  Accuracy on training set: 0.988  Accuracy on test set: 0.979\n",
      "1.2012891891891893  Accuracy on training set: 0.988  Accuracy on test set: 0.979\n",
      "1.211299099099099  Accuracy on training set: 0.988  Accuracy on test set: 0.979\n",
      "1.221309009009009  Accuracy on training set: 0.988  Accuracy on test set: 0.979\n",
      "1.2313189189189189  Accuracy on training set: 0.988  Accuracy on test set: 0.979\n",
      "1.241328828828829  Accuracy on training set: 0.988  Accuracy on test set: 0.979\n",
      "1.2513387387387387  Accuracy on training set: 0.988  Accuracy on test set: 0.979\n",
      "1.2613486486486487  Accuracy on training set: 0.988  Accuracy on test set: 0.979\n",
      "1.2713585585585585  Accuracy on training set: 0.988  Accuracy on test set: 0.979\n",
      "1.2813684684684685  Accuracy on training set: 0.988  Accuracy on test set: 0.979\n",
      "1.2913783783783785  Accuracy on training set: 0.988  Accuracy on test set: 0.979\n",
      "1.3013882882882883  Accuracy on training set: 0.988  Accuracy on test set: 0.979\n",
      "1.3113981981981984  Accuracy on training set: 0.988  Accuracy on test set: 0.979\n",
      "1.3214081081081082  Accuracy on training set: 0.988  Accuracy on test set: 0.986\n",
      "1.3314180180180182  Accuracy on training set: 0.988  Accuracy on test set: 0.986\n",
      "1.341427927927928  Accuracy on training set: 0.988  Accuracy on test set: 0.986\n",
      "1.351437837837838  Accuracy on training set: 0.988  Accuracy on test set: 0.986\n",
      "1.3614477477477478  Accuracy on training set: 0.988  Accuracy on test set: 0.986\n",
      "1.3714576576576578  Accuracy on training set: 0.988  Accuracy on test set: 0.986\n",
      "1.3814675675675676  Accuracy on training set: 0.988  Accuracy on test set: 0.986\n",
      "1.3914774774774776  Accuracy on training set: 0.988  Accuracy on test set: 0.986\n",
      "1.4014873873873874  Accuracy on training set: 0.988  Accuracy on test set: 0.986\n",
      "1.4114972972972974  Accuracy on training set: 0.988  Accuracy on test set: 0.986\n",
      "1.4215072072072072  Accuracy on training set: 0.988  Accuracy on test set: 0.986\n",
      "1.4315171171171173  Accuracy on training set: 0.988  Accuracy on test set: 0.986\n",
      "1.441527027027027  Accuracy on training set: 0.988  Accuracy on test set: 0.986\n",
      "1.451536936936937  Accuracy on training set: 0.988  Accuracy on test set: 0.986\n",
      "1.4615468468468469  Accuracy on training set: 0.988  Accuracy on test set: 0.986\n",
      "1.471556756756757  Accuracy on training set: 0.988  Accuracy on test set: 0.986\n",
      "1.4815666666666667  Accuracy on training set: 0.988  Accuracy on test set: 0.986\n",
      "1.4915765765765767  Accuracy on training set: 0.988  Accuracy on test set: 0.986\n",
      "1.5015864864864865  Accuracy on training set: 0.988  Accuracy on test set: 0.986\n",
      "1.5115963963963965  Accuracy on training set: 0.988  Accuracy on test set: 0.986\n",
      "1.5216063063063063  Accuracy on training set: 0.988  Accuracy on test set: 0.986\n",
      "1.5316162162162164  Accuracy on training set: 0.988  Accuracy on test set: 0.986\n",
      "1.5416261261261262  Accuracy on training set: 0.988  Accuracy on test set: 0.986\n",
      "1.5516360360360362  Accuracy on training set: 0.988  Accuracy on test set: 0.986\n",
      "1.561645945945946  Accuracy on training set: 0.988  Accuracy on test set: 0.986\n",
      "1.571655855855856  Accuracy on training set: 0.984  Accuracy on test set: 0.986\n",
      "1.5816657657657658  Accuracy on training set: 0.984  Accuracy on test set: 0.986\n",
      "1.5916756756756758  Accuracy on training set: 0.984  Accuracy on test set: 0.986\n",
      "1.6016855855855856  Accuracy on training set: 0.984  Accuracy on test set: 0.986\n",
      "1.6116954954954956  Accuracy on training set: 0.984  Accuracy on test set: 0.986\n",
      "1.6217054054054054  Accuracy on training set: 0.984  Accuracy on test set: 0.986\n",
      "1.6317153153153154  Accuracy on training set: 0.984  Accuracy on test set: 0.986\n",
      "1.6417252252252252  Accuracy on training set: 0.984  Accuracy on test set: 0.986\n",
      "1.6517351351351353  Accuracy on training set: 0.984  Accuracy on test set: 0.986\n",
      "1.661745045045045  Accuracy on training set: 0.984  Accuracy on test set: 0.986\n"
     ]
    },
    {
     "name": "stdout",
     "output_type": "stream",
     "text": [
      "1.671754954954955  Accuracy on training set: 0.984  Accuracy on test set: 0.986\n",
      "1.6817648648648649  Accuracy on training set: 0.984  Accuracy on test set: 0.986\n",
      "1.691774774774775  Accuracy on training set: 0.984  Accuracy on test set: 0.986\n",
      "1.7017846846846847  Accuracy on training set: 0.984  Accuracy on test set: 0.986\n",
      "1.7117945945945947  Accuracy on training set: 0.984  Accuracy on test set: 0.986\n",
      "1.7218045045045045  Accuracy on training set: 0.984  Accuracy on test set: 0.986\n",
      "1.7318144144144145  Accuracy on training set: 0.984  Accuracy on test set: 0.986\n",
      "1.7418243243243243  Accuracy on training set: 0.984  Accuracy on test set: 0.986\n",
      "1.7518342342342343  Accuracy on training set: 0.984  Accuracy on test set: 0.986\n",
      "1.7618441441441441  Accuracy on training set: 0.984  Accuracy on test set: 0.986\n",
      "1.7718540540540542  Accuracy on training set: 0.984  Accuracy on test set: 0.986\n",
      "1.781863963963964  Accuracy on training set: 0.984  Accuracy on test set: 0.986\n",
      "1.791873873873874  Accuracy on training set: 0.984  Accuracy on test set: 0.986\n",
      "1.8018837837837838  Accuracy on training set: 0.984  Accuracy on test set: 0.986\n",
      "1.8118936936936938  Accuracy on training set: 0.984  Accuracy on test set: 0.986\n",
      "1.8219036036036036  Accuracy on training set: 0.984  Accuracy on test set: 0.986\n",
      "1.8319135135135136  Accuracy on training set: 0.984  Accuracy on test set: 0.986\n",
      "1.8419234234234234  Accuracy on training set: 0.984  Accuracy on test set: 0.986\n",
      "1.8519333333333334  Accuracy on training set: 0.984  Accuracy on test set: 0.986\n",
      "1.8619432432432432  Accuracy on training set: 0.984  Accuracy on test set: 0.986\n",
      "1.8719531531531532  Accuracy on training set: 0.984  Accuracy on test set: 0.986\n",
      "1.881963063063063  Accuracy on training set: 0.984  Accuracy on test set: 0.986\n",
      "1.891972972972973  Accuracy on training set: 0.984  Accuracy on test set: 0.986\n",
      "1.9019828828828829  Accuracy on training set: 0.984  Accuracy on test set: 0.986\n",
      "1.9119927927927929  Accuracy on training set: 0.984  Accuracy on test set: 0.986\n",
      "1.922002702702703  Accuracy on training set: 0.984  Accuracy on test set: 0.986\n",
      "1.9320126126126127  Accuracy on training set: 0.984  Accuracy on test set: 0.986\n",
      "1.9420225225225227  Accuracy on training set: 0.984  Accuracy on test set: 0.986\n",
      "1.9520324324324325  Accuracy on training set: 0.984  Accuracy on test set: 0.986\n",
      "1.9620423423423425  Accuracy on training set: 0.984  Accuracy on test set: 0.986\n",
      "1.9720522522522523  Accuracy on training set: 0.984  Accuracy on test set: 0.986\n",
      "1.9820621621621624  Accuracy on training set: 0.984  Accuracy on test set: 0.986\n",
      "1.9920720720720722  Accuracy on training set: 0.984  Accuracy on test set: 0.986\n",
      "2.0020819819819824  Accuracy on training set: 0.984  Accuracy on test set: 0.986\n",
      "2.012091891891892  Accuracy on training set: 0.984  Accuracy on test set: 0.986\n",
      "2.022101801801802  Accuracy on training set: 0.984  Accuracy on test set: 0.986\n",
      "2.0321117117117122  Accuracy on training set: 0.984  Accuracy on test set: 0.986\n",
      "2.042121621621622  Accuracy on training set: 0.984  Accuracy on test set: 0.986\n",
      "2.052131531531532  Accuracy on training set: 0.984  Accuracy on test set: 0.986\n",
      "2.0621414414414416  Accuracy on training set: 0.984  Accuracy on test set: 0.986\n",
      "2.072151351351352  Accuracy on training set: 0.984  Accuracy on test set: 0.986\n",
      "2.0821612612612617  Accuracy on training set: 0.984  Accuracy on test set: 0.986\n",
      "2.0921711711711715  Accuracy on training set: 0.984  Accuracy on test set: 0.986\n",
      "2.1021810810810813  Accuracy on training set: 0.984  Accuracy on test set: 0.986\n",
      "2.1121909909909915  Accuracy on training set: 0.984  Accuracy on test set: 0.986\n",
      "2.1222009009009013  Accuracy on training set: 0.984  Accuracy on test set: 0.986\n",
      "2.132210810810811  Accuracy on training set: 0.984  Accuracy on test set: 0.986\n",
      "2.142220720720721  Accuracy on training set: 0.984  Accuracy on test set: 0.986\n",
      "2.152230630630631  Accuracy on training set: 0.984  Accuracy on test set: 0.986\n",
      "2.162240540540541  Accuracy on training set: 0.984  Accuracy on test set: 0.986\n",
      "2.1722504504504507  Accuracy on training set: 0.984  Accuracy on test set: 0.986\n",
      "2.1822603603603605  Accuracy on training set: 0.984  Accuracy on test set: 0.986\n",
      "2.1922702702702708  Accuracy on training set: 0.984  Accuracy on test set: 0.986\n",
      "2.2022801801801806  Accuracy on training set: 0.984  Accuracy on test set: 0.986\n",
      "2.2122900900900904  Accuracy on training set: 0.984  Accuracy on test set: 0.986\n",
      "2.2223  Accuracy on training set: 0.984  Accuracy on test set: 0.986\n",
      "2.2323099099099104  Accuracy on training set: 0.984  Accuracy on test set: 0.986\n",
      "2.24231981981982  Accuracy on training set: 0.984  Accuracy on test set: 0.986\n",
      "2.25232972972973  Accuracy on training set: 0.984  Accuracy on test set: 0.986\n",
      "2.26233963963964  Accuracy on training set: 0.984  Accuracy on test set: 0.986\n",
      "2.27234954954955  Accuracy on training set: 0.984  Accuracy on test set: 0.986\n",
      "2.28235945945946  Accuracy on training set: 0.984  Accuracy on test set: 0.986\n",
      "2.2923693693693696  Accuracy on training set: 0.984  Accuracy on test set: 0.986\n",
      "2.3023792792792794  Accuracy on training set: 0.984  Accuracy on test set: 0.986\n",
      "2.3123891891891897  Accuracy on training set: 0.984  Accuracy on test set: 0.986\n",
      "2.3223990990990995  Accuracy on training set: 0.984  Accuracy on test set: 0.986\n",
      "2.3324090090090093  Accuracy on training set: 0.984  Accuracy on test set: 0.986\n",
      "2.342418918918919  Accuracy on training set: 0.984  Accuracy on test set: 0.986\n",
      "2.3524288288288293  Accuracy on training set: 0.984  Accuracy on test set: 0.986\n",
      "2.362438738738739  Accuracy on training set: 0.984  Accuracy on test set: 0.986\n",
      "2.372448648648649  Accuracy on training set: 0.984  Accuracy on test set: 0.986\n",
      "2.3824585585585587  Accuracy on training set: 0.984  Accuracy on test set: 0.986\n",
      "2.392468468468469  Accuracy on training set: 0.984  Accuracy on test set: 0.986\n",
      "2.4024783783783787  Accuracy on training set: 0.984  Accuracy on test set: 0.986\n",
      "2.4124882882882885  Accuracy on training set: 0.984  Accuracy on test set: 0.986\n",
      "2.4224981981981983  Accuracy on training set: 0.984  Accuracy on test set: 0.986\n",
      "2.4325081081081086  Accuracy on training set: 0.984  Accuracy on test set: 0.986\n",
      "2.4425180180180184  Accuracy on training set: 0.984  Accuracy on test set: 0.986\n",
      "2.452527927927928  Accuracy on training set: 0.984  Accuracy on test set: 0.986\n",
      "2.462537837837838  Accuracy on training set: 0.984  Accuracy on test set: 0.986\n",
      "2.472547747747748  Accuracy on training set: 0.984  Accuracy on test set: 0.986\n",
      "2.482557657657658  Accuracy on training set: 0.984  Accuracy on test set: 0.986\n",
      "2.492567567567568  Accuracy on training set: 0.984  Accuracy on test set: 0.986\n",
      "2.5025774774774776  Accuracy on training set: 0.984  Accuracy on test set: 0.986\n",
      "2.512587387387388  Accuracy on training set: 0.984  Accuracy on test set: 0.986\n",
      "2.5225972972972976  Accuracy on training set: 0.984  Accuracy on test set: 0.986\n",
      "2.5326072072072074  Accuracy on training set: 0.984  Accuracy on test set: 0.986\n",
      "2.5426171171171172  Accuracy on training set: 0.984  Accuracy on test set: 0.986\n",
      "2.5526270270270275  Accuracy on training set: 0.984  Accuracy on test set: 0.986\n",
      "2.5626369369369373  Accuracy on training set: 0.984  Accuracy on test set: 0.986\n",
      "2.572646846846847  Accuracy on training set: 0.984  Accuracy on test set: 0.986\n",
      "2.5826567567567573  Accuracy on training set: 0.984  Accuracy on test set: 0.986\n",
      "2.592666666666667  Accuracy on training set: 0.984  Accuracy on test set: 0.986\n",
      "2.602676576576577  Accuracy on training set: 0.984  Accuracy on test set: 0.986\n",
      "2.6126864864864867  Accuracy on training set: 0.984  Accuracy on test set: 0.986\n",
      "2.622696396396397  Accuracy on training set: 0.984  Accuracy on test set: 0.986\n",
      "2.6327063063063068  Accuracy on training set: 0.984  Accuracy on test set: 0.986\n",
      "2.6427162162162166  Accuracy on training set: 0.984  Accuracy on test set: 0.986\n",
      "2.6527261261261263  Accuracy on training set: 0.984  Accuracy on test set: 0.986\n",
      "2.6627360360360366  Accuracy on training set: 0.984  Accuracy on test set: 0.986\n",
      "2.6727459459459464  Accuracy on training set: 0.984  Accuracy on test set: 0.986\n",
      "2.682755855855856  Accuracy on training set: 0.984  Accuracy on test set: 0.986\n"
     ]
    },
    {
     "name": "stdout",
     "output_type": "stream",
     "text": [
      "2.692765765765766  Accuracy on training set: 0.984  Accuracy on test set: 0.986\n",
      "2.7027756756756762  Accuracy on training set: 0.984  Accuracy on test set: 0.986\n",
      "2.712785585585586  Accuracy on training set: 0.984  Accuracy on test set: 0.986\n",
      "2.722795495495496  Accuracy on training set: 0.984  Accuracy on test set: 0.986\n",
      "2.7328054054054056  Accuracy on training set: 0.984  Accuracy on test set: 0.986\n",
      "2.742815315315316  Accuracy on training set: 0.984  Accuracy on test set: 0.986\n",
      "2.7528252252252257  Accuracy on training set: 0.984  Accuracy on test set: 0.986\n",
      "2.7628351351351355  Accuracy on training set: 0.984  Accuracy on test set: 0.986\n",
      "2.7728450450450453  Accuracy on training set: 0.984  Accuracy on test set: 0.986\n",
      "2.7828549549549555  Accuracy on training set: 0.984  Accuracy on test set: 0.986\n",
      "2.7928648648648653  Accuracy on training set: 0.984  Accuracy on test set: 0.986\n",
      "2.802874774774775  Accuracy on training set: 0.984  Accuracy on test set: 0.986\n",
      "2.812884684684685  Accuracy on training set: 0.984  Accuracy on test set: 0.986\n",
      "2.822894594594595  Accuracy on training set: 0.984  Accuracy on test set: 0.986\n",
      "2.832904504504505  Accuracy on training set: 0.984  Accuracy on test set: 0.986\n",
      "2.8429144144144147  Accuracy on training set: 0.984  Accuracy on test set: 0.986\n",
      "2.8529243243243245  Accuracy on training set: 0.984  Accuracy on test set: 0.986\n",
      "2.8629342342342348  Accuracy on training set: 0.984  Accuracy on test set: 0.986\n",
      "2.8729441441441446  Accuracy on training set: 0.984  Accuracy on test set: 0.986\n",
      "2.8829540540540544  Accuracy on training set: 0.984  Accuracy on test set: 0.986\n",
      "2.892963963963964  Accuracy on training set: 0.984  Accuracy on test set: 0.986\n",
      "2.9029738738738744  Accuracy on training set: 0.984  Accuracy on test set: 0.986\n",
      "2.912983783783784  Accuracy on training set: 0.984  Accuracy on test set: 0.986\n",
      "2.922993693693694  Accuracy on training set: 0.984  Accuracy on test set: 0.986\n",
      "2.933003603603604  Accuracy on training set: 0.984  Accuracy on test set: 0.986\n",
      "2.943013513513514  Accuracy on training set: 0.984  Accuracy on test set: 0.986\n",
      "2.953023423423424  Accuracy on training set: 0.984  Accuracy on test set: 0.986\n",
      "2.9630333333333336  Accuracy on training set: 0.984  Accuracy on test set: 0.986\n",
      "2.9730432432432434  Accuracy on training set: 0.984  Accuracy on test set: 0.986\n",
      "2.9830531531531537  Accuracy on training set: 0.984  Accuracy on test set: 0.986\n",
      "2.9930630630630635  Accuracy on training set: 0.984  Accuracy on test set: 0.986\n",
      "3.0030729729729733  Accuracy on training set: 0.984  Accuracy on test set: 0.986\n",
      "3.013082882882883  Accuracy on training set: 0.984  Accuracy on test set: 0.986\n",
      "3.0230927927927933  Accuracy on training set: 0.984  Accuracy on test set: 0.986\n",
      "3.033102702702703  Accuracy on training set: 0.984  Accuracy on test set: 0.986\n",
      "3.043112612612613  Accuracy on training set: 0.984  Accuracy on test set: 0.986\n",
      "3.0531225225225227  Accuracy on training set: 0.984  Accuracy on test set: 0.986\n",
      "3.063132432432433  Accuracy on training set: 0.984  Accuracy on test set: 0.986\n",
      "3.0731423423423427  Accuracy on training set: 0.984  Accuracy on test set: 0.986\n",
      "3.0831522522522525  Accuracy on training set: 0.984  Accuracy on test set: 0.986\n",
      "3.0931621621621623  Accuracy on training set: 0.984  Accuracy on test set: 0.986\n",
      "3.1031720720720726  Accuracy on training set: 0.984  Accuracy on test set: 0.986\n",
      "3.1131819819819824  Accuracy on training set: 0.984  Accuracy on test set: 0.986\n",
      "3.123191891891892  Accuracy on training set: 0.984  Accuracy on test set: 0.986\n",
      "3.133201801801802  Accuracy on training set: 0.984  Accuracy on test set: 0.986\n",
      "3.143211711711712  Accuracy on training set: 0.984  Accuracy on test set: 0.986\n",
      "3.153221621621622  Accuracy on training set: 0.984  Accuracy on test set: 0.986\n",
      "3.163231531531532  Accuracy on training set: 0.984  Accuracy on test set: 0.986\n",
      "3.1732414414414416  Accuracy on training set: 0.984  Accuracy on test set: 0.986\n",
      "3.183251351351352  Accuracy on training set: 0.984  Accuracy on test set: 0.986\n",
      "3.1932612612612616  Accuracy on training set: 0.984  Accuracy on test set: 0.986\n",
      "3.2032711711711714  Accuracy on training set: 0.984  Accuracy on test set: 0.986\n",
      "3.2132810810810817  Accuracy on training set: 0.984  Accuracy on test set: 0.986\n",
      "3.2232909909909915  Accuracy on training set: 0.984  Accuracy on test set: 0.986\n",
      "3.2333009009009013  Accuracy on training set: 0.984  Accuracy on test set: 0.986\n",
      "3.243310810810811  Accuracy on training set: 0.984  Accuracy on test set: 0.986\n",
      "3.2533207207207213  Accuracy on training set: 0.984  Accuracy on test set: 0.986\n",
      "3.263330630630631  Accuracy on training set: 0.984  Accuracy on test set: 0.979\n",
      "3.273340540540541  Accuracy on training set: 0.984  Accuracy on test set: 0.979\n",
      "3.2833504504504507  Accuracy on training set: 0.984  Accuracy on test set: 0.979\n",
      "3.293360360360361  Accuracy on training set: 0.984  Accuracy on test set: 0.979\n",
      "3.3033702702702707  Accuracy on training set: 0.984  Accuracy on test set: 0.979\n",
      "3.3133801801801805  Accuracy on training set: 0.984  Accuracy on test set: 0.979\n",
      "3.3233900900900903  Accuracy on training set: 0.984  Accuracy on test set: 0.979\n",
      "3.3334000000000006  Accuracy on training set: 0.984  Accuracy on test set: 0.979\n",
      "3.3434099099099104  Accuracy on training set: 0.984  Accuracy on test set: 0.979\n",
      "3.35341981981982  Accuracy on training set: 0.984  Accuracy on test set: 0.979\n",
      "3.36342972972973  Accuracy on training set: 0.984  Accuracy on test set: 0.979\n",
      "3.37343963963964  Accuracy on training set: 0.984  Accuracy on test set: 0.979\n",
      "3.38344954954955  Accuracy on training set: 0.984  Accuracy on test set: 0.979\n",
      "3.39345945945946  Accuracy on training set: 0.984  Accuracy on test set: 0.979\n",
      "3.4034693693693696  Accuracy on training set: 0.984  Accuracy on test set: 0.979\n",
      "3.41347927927928  Accuracy on training set: 0.984  Accuracy on test set: 0.979\n",
      "3.4234891891891897  Accuracy on training set: 0.984  Accuracy on test set: 0.979\n",
      "3.4334990990990994  Accuracy on training set: 0.984  Accuracy on test set: 0.979\n",
      "3.4435090090090092  Accuracy on training set: 0.984  Accuracy on test set: 0.979\n",
      "3.4535189189189195  Accuracy on training set: 0.984  Accuracy on test set: 0.979\n",
      "3.4635288288288293  Accuracy on training set: 0.984  Accuracy on test set: 0.979\n",
      "3.473538738738739  Accuracy on training set: 0.984  Accuracy on test set: 0.979\n",
      "3.483548648648649  Accuracy on training set: 0.984  Accuracy on test set: 0.979\n",
      "3.493558558558559  Accuracy on training set: 0.984  Accuracy on test set: 0.979\n",
      "3.503568468468469  Accuracy on training set: 0.984  Accuracy on test set: 0.979\n",
      "3.5135783783783787  Accuracy on training set: 0.984  Accuracy on test set: 0.979\n",
      "3.5235882882882885  Accuracy on training set: 0.984  Accuracy on test set: 0.979\n",
      "3.5335981981981988  Accuracy on training set: 0.984  Accuracy on test set: 0.979\n",
      "3.5436081081081086  Accuracy on training set: 0.984  Accuracy on test set: 0.979\n",
      "3.5536180180180184  Accuracy on training set: 0.984  Accuracy on test set: 0.979\n",
      "3.563627927927928  Accuracy on training set: 0.984  Accuracy on test set: 0.979\n",
      "3.5736378378378384  Accuracy on training set: 0.984  Accuracy on test set: 0.979\n",
      "3.583647747747748  Accuracy on training set: 0.984  Accuracy on test set: 0.979\n",
      "3.593657657657658  Accuracy on training set: 0.984  Accuracy on test set: 0.979\n",
      "3.603667567567568  Accuracy on training set: 0.984  Accuracy on test set: 0.979\n",
      "3.613677477477478  Accuracy on training set: 0.984  Accuracy on test set: 0.979\n",
      "3.623687387387388  Accuracy on training set: 0.984  Accuracy on test set: 0.979\n",
      "3.6336972972972976  Accuracy on training set: 0.984  Accuracy on test set: 0.979\n",
      "3.6437072072072074  Accuracy on training set: 0.984  Accuracy on test set: 0.979\n",
      "3.6537171171171177  Accuracy on training set: 0.984  Accuracy on test set: 0.979\n",
      "3.6637270270270275  Accuracy on training set: 0.984  Accuracy on test set: 0.979\n",
      "3.6737369369369373  Accuracy on training set: 0.984  Accuracy on test set: 0.979\n",
      "3.683746846846847  Accuracy on training set: 0.984  Accuracy on test set: 0.972\n",
      "3.6937567567567573  Accuracy on training set: 0.984  Accuracy on test set: 0.972\n",
      "3.703766666666667  Accuracy on training set: 0.984  Accuracy on test set: 0.972\n"
     ]
    },
    {
     "name": "stdout",
     "output_type": "stream",
     "text": [
      "3.713776576576577  Accuracy on training set: 0.984  Accuracy on test set: 0.972\n",
      "3.7237864864864867  Accuracy on training set: 0.984  Accuracy on test set: 0.972\n",
      "3.733796396396397  Accuracy on training set: 0.984  Accuracy on test set: 0.972\n",
      "3.7438063063063067  Accuracy on training set: 0.984  Accuracy on test set: 0.972\n",
      "3.7538162162162165  Accuracy on training set: 0.984  Accuracy on test set: 0.972\n",
      "3.7638261261261263  Accuracy on training set: 0.984  Accuracy on test set: 0.972\n",
      "3.7738360360360366  Accuracy on training set: 0.984  Accuracy on test set: 0.972\n",
      "3.7838459459459464  Accuracy on training set: 0.984  Accuracy on test set: 0.972\n",
      "3.793855855855856  Accuracy on training set: 0.984  Accuracy on test set: 0.972\n",
      "3.803865765765766  Accuracy on training set: 0.984  Accuracy on test set: 0.972\n",
      "3.813875675675676  Accuracy on training set: 0.984  Accuracy on test set: 0.972\n",
      "3.823885585585586  Accuracy on training set: 0.984  Accuracy on test set: 0.972\n",
      "3.833895495495496  Accuracy on training set: 0.984  Accuracy on test set: 0.972\n",
      "3.843905405405406  Accuracy on training set: 0.984  Accuracy on test set: 0.972\n",
      "3.853915315315316  Accuracy on training set: 0.984  Accuracy on test set: 0.972\n",
      "3.8639252252252256  Accuracy on training set: 0.984  Accuracy on test set: 0.972\n",
      "3.8739351351351354  Accuracy on training set: 0.984  Accuracy on test set: 0.972\n",
      "3.8839450450450457  Accuracy on training set: 0.984  Accuracy on test set: 0.972\n",
      "3.8939549549549555  Accuracy on training set: 0.984  Accuracy on test set: 0.972\n",
      "3.9039648648648653  Accuracy on training set: 0.984  Accuracy on test set: 0.972\n",
      "3.913974774774775  Accuracy on training set: 0.984  Accuracy on test set: 0.965\n",
      "3.9239846846846853  Accuracy on training set: 0.984  Accuracy on test set: 0.965\n",
      "3.933994594594595  Accuracy on training set: 0.984  Accuracy on test set: 0.965\n",
      "3.944004504504505  Accuracy on training set: 0.984  Accuracy on test set: 0.965\n",
      "3.9540144144144147  Accuracy on training set: 0.984  Accuracy on test set: 0.965\n",
      "3.964024324324325  Accuracy on training set: 0.984  Accuracy on test set: 0.965\n",
      "3.9740342342342347  Accuracy on training set: 0.984  Accuracy on test set: 0.965\n",
      "3.9840441441441445  Accuracy on training set: 0.984  Accuracy on test set: 0.965\n",
      "3.9940540540540543  Accuracy on training set: 0.984  Accuracy on test set: 0.965\n",
      "4.004063963963964  Accuracy on training set: 0.984  Accuracy on test set: 0.965\n",
      "4.0140738738738735  Accuracy on training set: 0.984  Accuracy on test set: 0.965\n",
      "4.024083783783784  Accuracy on training set: 0.984  Accuracy on test set: 0.965\n",
      "4.034093693693694  Accuracy on training set: 0.984  Accuracy on test set: 0.965\n",
      "4.044103603603603  Accuracy on training set: 0.984  Accuracy on test set: 0.965\n",
      "4.054113513513514  Accuracy on training set: 0.984  Accuracy on test set: 0.965\n",
      "4.064123423423424  Accuracy on training set: 0.984  Accuracy on test set: 0.965\n",
      "4.074133333333333  Accuracy on training set: 0.984  Accuracy on test set: 0.965\n",
      "4.084143243243243  Accuracy on training set: 0.984  Accuracy on test set: 0.965\n",
      "4.094153153153153  Accuracy on training set: 0.984  Accuracy on test set: 0.965\n",
      "4.104163063063063  Accuracy on training set: 0.984  Accuracy on test set: 0.965\n",
      "4.114172972972973  Accuracy on training set: 0.984  Accuracy on test set: 0.965\n",
      "4.124182882882883  Accuracy on training set: 0.984  Accuracy on test set: 0.965\n",
      "4.134192792792793  Accuracy on training set: 0.984  Accuracy on test set: 0.965\n",
      "4.144202702702703  Accuracy on training set: 0.984  Accuracy on test set: 0.965\n",
      "4.154212612612612  Accuracy on training set: 0.984  Accuracy on test set: 0.965\n",
      "4.164222522522523  Accuracy on training set: 0.984  Accuracy on test set: 0.965\n",
      "4.174232432432432  Accuracy on training set: 0.984  Accuracy on test set: 0.965\n",
      "4.184242342342342  Accuracy on training set: 0.984  Accuracy on test set: 0.965\n",
      "4.1942522522522525  Accuracy on training set: 0.984  Accuracy on test set: 0.965\n",
      "4.204262162162162  Accuracy on training set: 0.984  Accuracy on test set: 0.965\n",
      "4.214272072072072  Accuracy on training set: 0.984  Accuracy on test set: 0.965\n",
      "4.224281981981982  Accuracy on training set: 0.984  Accuracy on test set: 0.965\n",
      "4.234291891891892  Accuracy on training set: 0.984  Accuracy on test set: 0.965\n",
      "4.244301801801802  Accuracy on training set: 0.984  Accuracy on test set: 0.965\n",
      "4.254311711711711  Accuracy on training set: 0.984  Accuracy on test set: 0.965\n",
      "4.2643216216216215  Accuracy on training set: 0.984  Accuracy on test set: 0.965\n",
      "4.274331531531532  Accuracy on training set: 0.984  Accuracy on test set: 0.965\n",
      "4.284341441441441  Accuracy on training set: 0.984  Accuracy on test set: 0.965\n",
      "4.294351351351351  Accuracy on training set: 0.984  Accuracy on test set: 0.965\n",
      "4.304361261261262  Accuracy on training set: 0.984  Accuracy on test set: 0.965\n",
      "4.314371171171171  Accuracy on training set: 0.984  Accuracy on test set: 0.965\n",
      "4.324381081081081  Accuracy on training set: 0.984  Accuracy on test set: 0.965\n",
      "4.334390990990991  Accuracy on training set: 0.984  Accuracy on test set: 0.965\n",
      "4.344400900900901  Accuracy on training set: 0.984  Accuracy on test set: 0.965\n",
      "4.354410810810811  Accuracy on training set: 0.984  Accuracy on test set: 0.965\n",
      "4.36442072072072  Accuracy on training set: 0.984  Accuracy on test set: 0.965\n",
      "4.374430630630631  Accuracy on training set: 0.984  Accuracy on test set: 0.965\n",
      "4.384440540540541  Accuracy on training set: 0.984  Accuracy on test set: 0.965\n",
      "4.39445045045045  Accuracy on training set: 0.984  Accuracy on test set: 0.965\n",
      "4.4044603603603605  Accuracy on training set: 0.984  Accuracy on test set: 0.965\n",
      "4.41447027027027  Accuracy on training set: 0.984  Accuracy on test set: 0.965\n",
      "4.42448018018018  Accuracy on training set: 0.984  Accuracy on test set: 0.965\n",
      "4.43449009009009  Accuracy on training set: 0.984  Accuracy on test set: 0.965\n",
      "4.4445  Accuracy on training set: 0.984  Accuracy on test set: 0.965\n",
      "4.45450990990991  Accuracy on training set: 0.984  Accuracy on test set: 0.965\n",
      "4.46451981981982  Accuracy on training set: 0.984  Accuracy on test set: 0.965\n",
      "4.4745297297297295  Accuracy on training set: 0.984  Accuracy on test set: 0.965\n",
      "4.48453963963964  Accuracy on training set: 0.984  Accuracy on test set: 0.965\n",
      "4.49454954954955  Accuracy on training set: 0.984  Accuracy on test set: 0.965\n",
      "4.504559459459459  Accuracy on training set: 0.984  Accuracy on test set: 0.965\n",
      "4.51456936936937  Accuracy on training set: 0.984  Accuracy on test set: 0.965\n",
      "4.524579279279279  Accuracy on training set: 0.981  Accuracy on test set: 0.965\n",
      "4.534589189189189  Accuracy on training set: 0.981  Accuracy on test set: 0.965\n",
      "4.544599099099099  Accuracy on training set: 0.981  Accuracy on test set: 0.965\n",
      "4.554609009009009  Accuracy on training set: 0.981  Accuracy on test set: 0.965\n",
      "4.564618918918919  Accuracy on training set: 0.981  Accuracy on test set: 0.965\n",
      "4.574628828828829  Accuracy on training set: 0.979  Accuracy on test set: 0.965\n",
      "4.584638738738739  Accuracy on training set: 0.979  Accuracy on test set: 0.965\n",
      "4.594648648648649  Accuracy on training set: 0.979  Accuracy on test set: 0.958\n",
      "4.604658558558558  Accuracy on training set: 0.979  Accuracy on test set: 0.958\n",
      "4.6146684684684685  Accuracy on training set: 0.979  Accuracy on test set: 0.958\n",
      "4.624678378378379  Accuracy on training set: 0.979  Accuracy on test set: 0.958\n",
      "4.634688288288288  Accuracy on training set: 0.979  Accuracy on test set: 0.958\n",
      "4.644698198198198  Accuracy on training set: 0.979  Accuracy on test set: 0.958\n",
      "4.6547081081081085  Accuracy on training set: 0.979  Accuracy on test set: 0.958\n",
      "4.664718018018018  Accuracy on training set: 0.979  Accuracy on test set: 0.958\n",
      "4.674727927927928  Accuracy on training set: 0.979  Accuracy on test set: 0.958\n",
      "4.6847378378378375  Accuracy on training set: 0.979  Accuracy on test set: 0.958\n",
      "4.694747747747748  Accuracy on training set: 0.979  Accuracy on test set: 0.958\n",
      "4.704757657657658  Accuracy on training set: 0.979  Accuracy on test set: 0.958\n",
      "4.714767567567567  Accuracy on training set: 0.979  Accuracy on test set: 0.958\n",
      "4.724777477477478  Accuracy on training set: 0.979  Accuracy on test set: 0.958\n",
      "4.734787387387388  Accuracy on training set: 0.979  Accuracy on test set: 0.958\n"
     ]
    },
    {
     "name": "stdout",
     "output_type": "stream",
     "text": [
      "4.744797297297297  Accuracy on training set: 0.979  Accuracy on test set: 0.958\n",
      "4.754807207207207  Accuracy on training set: 0.979  Accuracy on test set: 0.958\n",
      "4.764817117117117  Accuracy on training set: 0.979  Accuracy on test set: 0.958\n",
      "4.774827027027027  Accuracy on training set: 0.979  Accuracy on test set: 0.958\n",
      "4.784836936936937  Accuracy on training set: 0.979  Accuracy on test set: 0.958\n",
      "4.794846846846847  Accuracy on training set: 0.979  Accuracy on test set: 0.958\n",
      "4.804856756756757  Accuracy on training set: 0.979  Accuracy on test set: 0.958\n",
      "4.814866666666667  Accuracy on training set: 0.979  Accuracy on test set: 0.958\n",
      "4.824876576576576  Accuracy on training set: 0.979  Accuracy on test set: 0.958\n",
      "4.834886486486487  Accuracy on training set: 0.979  Accuracy on test set: 0.958\n",
      "4.844896396396396  Accuracy on training set: 0.979  Accuracy on test set: 0.958\n",
      "4.854906306306306  Accuracy on training set: 0.979  Accuracy on test set: 0.958\n",
      "4.8649162162162165  Accuracy on training set: 0.979  Accuracy on test set: 0.958\n",
      "4.874926126126126  Accuracy on training set: 0.979  Accuracy on test set: 0.958\n",
      "4.884936036036036  Accuracy on training set: 0.979  Accuracy on test set: 0.958\n",
      "4.894945945945946  Accuracy on training set: 0.979  Accuracy on test set: 0.958\n",
      "4.904955855855856  Accuracy on training set: 0.979  Accuracy on test set: 0.958\n",
      "4.914965765765766  Accuracy on training set: 0.979  Accuracy on test set: 0.958\n",
      "4.924975675675675  Accuracy on training set: 0.979  Accuracy on test set: 0.958\n",
      "4.9349855855855855  Accuracy on training set: 0.979  Accuracy on test set: 0.958\n",
      "4.944995495495496  Accuracy on training set: 0.979  Accuracy on test set: 0.958\n",
      "4.955005405405405  Accuracy on training set: 0.979  Accuracy on test set: 0.958\n",
      "4.965015315315315  Accuracy on training set: 0.979  Accuracy on test set: 0.958\n",
      "4.975025225225226  Accuracy on training set: 0.979  Accuracy on test set: 0.958\n",
      "4.985035135135135  Accuracy on training set: 0.979  Accuracy on test set: 0.958\n",
      "4.995045045045045  Accuracy on training set: 0.979  Accuracy on test set: 0.958\n",
      "5.005054954954955  Accuracy on training set: 0.979  Accuracy on test set: 0.958\n",
      "5.015064864864865  Accuracy on training set: 0.979  Accuracy on test set: 0.958\n",
      "5.025074774774775  Accuracy on training set: 0.979  Accuracy on test set: 0.958\n",
      "5.035084684684684  Accuracy on training set: 0.979  Accuracy on test set: 0.958\n",
      "5.045094594594595  Accuracy on training set: 0.979  Accuracy on test set: 0.958\n",
      "5.055104504504505  Accuracy on training set: 0.979  Accuracy on test set: 0.958\n",
      "5.065114414414414  Accuracy on training set: 0.979  Accuracy on test set: 0.958\n",
      "5.0751243243243245  Accuracy on training set: 0.979  Accuracy on test set: 0.958\n",
      "5.085134234234234  Accuracy on training set: 0.979  Accuracy on test set: 0.958\n",
      "5.095144144144144  Accuracy on training set: 0.979  Accuracy on test set: 0.958\n",
      "5.105154054054054  Accuracy on training set: 0.979  Accuracy on test set: 0.958\n",
      "5.115163963963964  Accuracy on training set: 0.979  Accuracy on test set: 0.958\n",
      "5.125173873873874  Accuracy on training set: 0.979  Accuracy on test set: 0.958\n",
      "5.135183783783784  Accuracy on training set: 0.979  Accuracy on test set: 0.958\n",
      "5.1451936936936935  Accuracy on training set: 0.979  Accuracy on test set: 0.958\n",
      "5.155203603603604  Accuracy on training set: 0.979  Accuracy on test set: 0.958\n",
      "5.165213513513514  Accuracy on training set: 0.979  Accuracy on test set: 0.958\n",
      "5.175223423423423  Accuracy on training set: 0.979  Accuracy on test set: 0.958\n",
      "5.185233333333334  Accuracy on training set: 0.979  Accuracy on test set: 0.958\n",
      "5.195243243243243  Accuracy on training set: 0.979  Accuracy on test set: 0.958\n",
      "5.205253153153153  Accuracy on training set: 0.979  Accuracy on test set: 0.958\n",
      "5.215263063063063  Accuracy on training set: 0.979  Accuracy on test set: 0.958\n",
      "5.225272972972973  Accuracy on training set: 0.979  Accuracy on test set: 0.958\n",
      "5.235282882882883  Accuracy on training set: 0.979  Accuracy on test set: 0.958\n",
      "5.245292792792793  Accuracy on training set: 0.979  Accuracy on test set: 0.958\n",
      "5.255302702702703  Accuracy on training set: 0.979  Accuracy on test set: 0.958\n",
      "5.265312612612613  Accuracy on training set: 0.979  Accuracy on test set: 0.958\n",
      "5.275322522522522  Accuracy on training set: 0.979  Accuracy on test set: 0.958\n",
      "5.2853324324324324  Accuracy on training set: 0.979  Accuracy on test set: 0.958\n",
      "5.295342342342343  Accuracy on training set: 0.979  Accuracy on test set: 0.958\n",
      "5.305352252252252  Accuracy on training set: 0.979  Accuracy on test set: 0.958\n",
      "5.315362162162162  Accuracy on training set: 0.979  Accuracy on test set: 0.958\n",
      "5.3253720720720725  Accuracy on training set: 0.979  Accuracy on test set: 0.958\n",
      "5.335381981981982  Accuracy on training set: 0.979  Accuracy on test set: 0.958\n",
      "5.345391891891892  Accuracy on training set: 0.979  Accuracy on test set: 0.958\n",
      "5.3554018018018015  Accuracy on training set: 0.979  Accuracy on test set: 0.958\n",
      "5.365411711711712  Accuracy on training set: 0.979  Accuracy on test set: 0.958\n",
      "5.375421621621622  Accuracy on training set: 0.979  Accuracy on test set: 0.958\n",
      "5.385431531531531  Accuracy on training set: 0.979  Accuracy on test set: 0.958\n",
      "5.3954414414414416  Accuracy on training set: 0.979  Accuracy on test set: 0.958\n",
      "5.405451351351352  Accuracy on training set: 0.979  Accuracy on test set: 0.958\n",
      "5.415461261261261  Accuracy on training set: 0.979  Accuracy on test set: 0.958\n",
      "5.425471171171171  Accuracy on training set: 0.979  Accuracy on test set: 0.958\n",
      "5.435481081081081  Accuracy on training set: 0.979  Accuracy on test set: 0.958\n",
      "5.445490990990991  Accuracy on training set: 0.979  Accuracy on test set: 0.958\n",
      "5.455500900900901  Accuracy on training set: 0.979  Accuracy on test set: 0.958\n",
      "5.465510810810811  Accuracy on training set: 0.979  Accuracy on test set: 0.958\n",
      "5.475520720720721  Accuracy on training set: 0.979  Accuracy on test set: 0.958\n",
      "5.485530630630631  Accuracy on training set: 0.979  Accuracy on test set: 0.958\n",
      "5.49554054054054  Accuracy on training set: 0.979  Accuracy on test set: 0.958\n",
      "5.505550450450451  Accuracy on training set: 0.979  Accuracy on test set: 0.958\n",
      "5.51556036036036  Accuracy on training set: 0.979  Accuracy on test set: 0.958\n",
      "5.52557027027027  Accuracy on training set: 0.979  Accuracy on test set: 0.958\n",
      "5.5355801801801805  Accuracy on training set: 0.979  Accuracy on test set: 0.958\n",
      "5.54559009009009  Accuracy on training set: 0.979  Accuracy on test set: 0.958\n",
      "5.5556  Accuracy on training set: 0.979  Accuracy on test set: 0.958\n",
      "5.56560990990991  Accuracy on training set: 0.979  Accuracy on test set: 0.958\n",
      "5.57561981981982  Accuracy on training set: 0.979  Accuracy on test set: 0.958\n",
      "5.58562972972973  Accuracy on training set: 0.979  Accuracy on test set: 0.958\n",
      "5.595639639639639  Accuracy on training set: 0.979  Accuracy on test set: 0.958\n",
      "5.6056495495495495  Accuracy on training set: 0.979  Accuracy on test set: 0.958\n",
      "5.61565945945946  Accuracy on training set: 0.979  Accuracy on test set: 0.958\n",
      "5.625669369369369  Accuracy on training set: 0.979  Accuracy on test set: 0.958\n",
      "5.635679279279279  Accuracy on training set: 0.979  Accuracy on test set: 0.958\n",
      "5.64568918918919  Accuracy on training set: 0.979  Accuracy on test set: 0.958\n",
      "5.655699099099099  Accuracy on training set: 0.979  Accuracy on test set: 0.958\n",
      "5.665709009009009  Accuracy on training set: 0.979  Accuracy on test set: 0.958\n",
      "5.6757189189189186  Accuracy on training set: 0.979  Accuracy on test set: 0.958\n",
      "5.685728828828829  Accuracy on training set: 0.979  Accuracy on test set: 0.958\n",
      "5.695738738738739  Accuracy on training set: 0.979  Accuracy on test set: 0.951\n",
      "5.705748648648648  Accuracy on training set: 0.979  Accuracy on test set: 0.951\n",
      "5.715758558558559  Accuracy on training set: 0.979  Accuracy on test set: 0.951\n",
      "5.725768468468469  Accuracy on training set: 0.979  Accuracy on test set: 0.951\n",
      "5.735778378378378  Accuracy on training set: 0.979  Accuracy on test set: 0.951\n",
      "5.7457882882882885  Accuracy on training set: 0.979  Accuracy on test set: 0.951\n",
      "5.755798198198198  Accuracy on training set: 0.979  Accuracy on test set: 0.951\n",
      "5.765808108108108  Accuracy on training set: 0.979  Accuracy on test set: 0.951\n"
     ]
    },
    {
     "name": "stdout",
     "output_type": "stream",
     "text": [
      "5.775818018018018  Accuracy on training set: 0.979  Accuracy on test set: 0.951\n",
      "5.785827927927928  Accuracy on training set: 0.979  Accuracy on test set: 0.951\n",
      "5.795837837837838  Accuracy on training set: 0.979  Accuracy on test set: 0.951\n",
      "5.805847747747748  Accuracy on training set: 0.979  Accuracy on test set: 0.951\n",
      "5.8158576576576575  Accuracy on training set: 0.979  Accuracy on test set: 0.951\n",
      "5.825867567567568  Accuracy on training set: 0.979  Accuracy on test set: 0.951\n",
      "5.835877477477478  Accuracy on training set: 0.979  Accuracy on test set: 0.951\n",
      "5.845887387387387  Accuracy on training set: 0.979  Accuracy on test set: 0.951\n",
      "5.855897297297298  Accuracy on training set: 0.979  Accuracy on test set: 0.951\n",
      "5.865907207207207  Accuracy on training set: 0.979  Accuracy on test set: 0.951\n",
      "5.875917117117117  Accuracy on training set: 0.979  Accuracy on test set: 0.951\n",
      "5.885927027027027  Accuracy on training set: 0.979  Accuracy on test set: 0.951\n",
      "5.895936936936937  Accuracy on training set: 0.979  Accuracy on test set: 0.951\n",
      "5.905946846846847  Accuracy on training set: 0.979  Accuracy on test set: 0.951\n",
      "5.915956756756757  Accuracy on training set: 0.979  Accuracy on test set: 0.951\n",
      "5.925966666666667  Accuracy on training set: 0.979  Accuracy on test set: 0.951\n",
      "5.935976576576577  Accuracy on training set: 0.979  Accuracy on test set: 0.951\n",
      "5.945986486486486  Accuracy on training set: 0.979  Accuracy on test set: 0.951\n",
      "5.955996396396396  Accuracy on training set: 0.979  Accuracy on test set: 0.951\n",
      "5.966006306306307  Accuracy on training set: 0.979  Accuracy on test set: 0.951\n",
      "5.976016216216216  Accuracy on training set: 0.979  Accuracy on test set: 0.951\n",
      "5.986026126126126  Accuracy on training set: 0.979  Accuracy on test set: 0.951\n",
      "5.9960360360360365  Accuracy on training set: 0.979  Accuracy on test set: 0.951\n",
      "6.006045945945946  Accuracy on training set: 0.979  Accuracy on test set: 0.951\n",
      "6.016055855855856  Accuracy on training set: 0.979  Accuracy on test set: 0.951\n",
      "6.0260657657657655  Accuracy on training set: 0.979  Accuracy on test set: 0.951\n",
      "6.036075675675676  Accuracy on training set: 0.979  Accuracy on test set: 0.951\n",
      "6.046085585585586  Accuracy on training set: 0.979  Accuracy on test set: 0.951\n",
      "6.056095495495495  Accuracy on training set: 0.979  Accuracy on test set: 0.951\n",
      "6.0661054054054055  Accuracy on training set: 0.979  Accuracy on test set: 0.951\n",
      "6.076115315315316  Accuracy on training set: 0.979  Accuracy on test set: 0.951\n",
      "6.086125225225225  Accuracy on training set: 0.979  Accuracy on test set: 0.951\n",
      "6.096135135135135  Accuracy on training set: 0.979  Accuracy on test set: 0.951\n",
      "6.106145045045045  Accuracy on training set: 0.979  Accuracy on test set: 0.951\n",
      "6.116154954954955  Accuracy on training set: 0.979  Accuracy on test set: 0.951\n",
      "6.126164864864865  Accuracy on training set: 0.979  Accuracy on test set: 0.951\n",
      "6.136174774774775  Accuracy on training set: 0.979  Accuracy on test set: 0.951\n",
      "6.146184684684685  Accuracy on training set: 0.979  Accuracy on test set: 0.951\n",
      "6.156194594594595  Accuracy on training set: 0.979  Accuracy on test set: 0.951\n",
      "6.166204504504504  Accuracy on training set: 0.979  Accuracy on test set: 0.951\n",
      "6.176214414414415  Accuracy on training set: 0.979  Accuracy on test set: 0.951\n",
      "6.186224324324324  Accuracy on training set: 0.979  Accuracy on test set: 0.951\n",
      "6.196234234234234  Accuracy on training set: 0.979  Accuracy on test set: 0.951\n",
      "6.2062441441441445  Accuracy on training set: 0.979  Accuracy on test set: 0.951\n",
      "6.216254054054054  Accuracy on training set: 0.979  Accuracy on test set: 0.951\n",
      "6.226263963963964  Accuracy on training set: 0.979  Accuracy on test set: 0.951\n",
      "6.236273873873874  Accuracy on training set: 0.979  Accuracy on test set: 0.951\n",
      "6.246283783783784  Accuracy on training set: 0.979  Accuracy on test set: 0.951\n",
      "6.256293693693694  Accuracy on training set: 0.979  Accuracy on test set: 0.951\n",
      "6.266303603603603  Accuracy on training set: 0.979  Accuracy on test set: 0.951\n",
      "6.2763135135135135  Accuracy on training set: 0.979  Accuracy on test set: 0.951\n",
      "6.286323423423424  Accuracy on training set: 0.979  Accuracy on test set: 0.951\n",
      "6.296333333333333  Accuracy on training set: 0.979  Accuracy on test set: 0.951\n",
      "6.306343243243243  Accuracy on training set: 0.979  Accuracy on test set: 0.951\n",
      "6.316353153153154  Accuracy on training set: 0.979  Accuracy on test set: 0.951\n",
      "6.326363063063063  Accuracy on training set: 0.979  Accuracy on test set: 0.951\n",
      "6.336372972972973  Accuracy on training set: 0.979  Accuracy on test set: 0.951\n",
      "6.3463828828828825  Accuracy on training set: 0.979  Accuracy on test set: 0.944\n",
      "6.356392792792793  Accuracy on training set: 0.979  Accuracy on test set: 0.944\n",
      "6.366402702702703  Accuracy on training set: 0.979  Accuracy on test set: 0.944\n",
      "6.376412612612612  Accuracy on training set: 0.979  Accuracy on test set: 0.944\n",
      "6.386422522522523  Accuracy on training set: 0.979  Accuracy on test set: 0.944\n",
      "6.396432432432433  Accuracy on training set: 0.979  Accuracy on test set: 0.944\n",
      "6.406442342342342  Accuracy on training set: 0.979  Accuracy on test set: 0.944\n",
      "6.4164522522522525  Accuracy on training set: 0.979  Accuracy on test set: 0.944\n",
      "6.426462162162163  Accuracy on training set: 0.979  Accuracy on test set: 0.944\n",
      "6.436472072072072  Accuracy on training set: 0.979  Accuracy on test set: 0.944\n",
      "6.446481981981982  Accuracy on training set: 0.979  Accuracy on test set: 0.944\n",
      "6.456491891891892  Accuracy on training set: 0.979  Accuracy on test set: 0.944\n",
      "6.466501801801802  Accuracy on training set: 0.979  Accuracy on test set: 0.944\n",
      "6.476511711711712  Accuracy on training set: 0.979  Accuracy on test set: 0.944\n",
      "6.4865216216216215  Accuracy on training set: 0.979  Accuracy on test set: 0.944\n",
      "6.496531531531532  Accuracy on training set: 0.979  Accuracy on test set: 0.944\n",
      "6.506541441441442  Accuracy on training set: 0.979  Accuracy on test set: 0.944\n",
      "6.516551351351351  Accuracy on training set: 0.979  Accuracy on test set: 0.944\n",
      "6.526561261261262  Accuracy on training set: 0.979  Accuracy on test set: 0.944\n",
      "6.536571171171171  Accuracy on training set: 0.979  Accuracy on test set: 0.944\n",
      "6.546581081081081  Accuracy on training set: 0.979  Accuracy on test set: 0.944\n",
      "6.556590990990991  Accuracy on training set: 0.979  Accuracy on test set: 0.944\n",
      "6.566600900900901  Accuracy on training set: 0.979  Accuracy on test set: 0.944\n",
      "6.576610810810811  Accuracy on training set: 0.979  Accuracy on test set: 0.944\n",
      "6.586620720720721  Accuracy on training set: 0.979  Accuracy on test set: 0.944\n",
      "6.596630630630631  Accuracy on training set: 0.981  Accuracy on test set: 0.944\n",
      "6.606640540540541  Accuracy on training set: 0.981  Accuracy on test set: 0.944\n",
      "6.61665045045045  Accuracy on training set: 0.981  Accuracy on test set: 0.944\n",
      "6.62666036036036  Accuracy on training set: 0.981  Accuracy on test set: 0.944\n",
      "6.636670270270271  Accuracy on training set: 0.981  Accuracy on test set: 0.944\n",
      "6.64668018018018  Accuracy on training set: 0.981  Accuracy on test set: 0.944\n",
      "6.65669009009009  Accuracy on training set: 0.981  Accuracy on test set: 0.944\n",
      "6.6667000000000005  Accuracy on training set: 0.981  Accuracy on test set: 0.944\n",
      "6.67670990990991  Accuracy on training set: 0.981  Accuracy on test set: 0.944\n",
      "6.68671981981982  Accuracy on training set: 0.981  Accuracy on test set: 0.944\n",
      "6.6967297297297295  Accuracy on training set: 0.981  Accuracy on test set: 0.944\n",
      "6.70673963963964  Accuracy on training set: 0.981  Accuracy on test set: 0.944\n",
      "6.71674954954955  Accuracy on training set: 0.981  Accuracy on test set: 0.944\n",
      "6.726759459459459  Accuracy on training set: 0.981  Accuracy on test set: 0.944\n",
      "6.7367693693693695  Accuracy on training set: 0.981  Accuracy on test set: 0.944\n",
      "6.74677927927928  Accuracy on training set: 0.981  Accuracy on test set: 0.944\n",
      "6.756789189189189  Accuracy on training set: 0.981  Accuracy on test set: 0.944\n",
      "6.766799099099099  Accuracy on training set: 0.981  Accuracy on test set: 0.944\n",
      "6.776809009009009  Accuracy on training set: 0.981  Accuracy on test set: 0.944\n",
      "6.786818918918919  Accuracy on training set: 0.981  Accuracy on test set: 0.944\n",
      "6.796828828828829  Accuracy on training set: 0.981  Accuracy on test set: 0.944\n"
     ]
    },
    {
     "name": "stdout",
     "output_type": "stream",
     "text": [
      "6.806838738738739  Accuracy on training set: 0.981  Accuracy on test set: 0.944\n",
      "6.816848648648649  Accuracy on training set: 0.981  Accuracy on test set: 0.944\n",
      "6.826858558558559  Accuracy on training set: 0.981  Accuracy on test set: 0.944\n",
      "6.836868468468468  Accuracy on training set: 0.981  Accuracy on test set: 0.944\n",
      "6.846878378378379  Accuracy on training set: 0.981  Accuracy on test set: 0.944\n",
      "6.856888288288288  Accuracy on training set: 0.981  Accuracy on test set: 0.944\n",
      "6.866898198198198  Accuracy on training set: 0.981  Accuracy on test set: 0.944\n",
      "6.8769081081081085  Accuracy on training set: 0.981  Accuracy on test set: 0.944\n",
      "6.886918018018018  Accuracy on training set: 0.981  Accuracy on test set: 0.944\n",
      "6.896927927927928  Accuracy on training set: 0.981  Accuracy on test set: 0.944\n",
      "6.906937837837838  Accuracy on training set: 0.981  Accuracy on test set: 0.944\n",
      "6.916947747747748  Accuracy on training set: 0.981  Accuracy on test set: 0.944\n",
      "6.926957657657658  Accuracy on training set: 0.981  Accuracy on test set: 0.944\n",
      "6.936967567567567  Accuracy on training set: 0.981  Accuracy on test set: 0.944\n",
      "6.9469774774774775  Accuracy on training set: 0.981  Accuracy on test set: 0.944\n",
      "6.956987387387388  Accuracy on training set: 0.981  Accuracy on test set: 0.944\n",
      "6.966997297297297  Accuracy on training set: 0.981  Accuracy on test set: 0.944\n",
      "6.977007207207207  Accuracy on training set: 0.981  Accuracy on test set: 0.944\n",
      "6.987017117117118  Accuracy on training set: 0.981  Accuracy on test set: 0.944\n",
      "6.997027027027027  Accuracy on training set: 0.981  Accuracy on test set: 0.944\n",
      "7.007036936936937  Accuracy on training set: 0.981  Accuracy on test set: 0.944\n",
      "7.0170468468468465  Accuracy on training set: 0.981  Accuracy on test set: 0.944\n",
      "7.027056756756757  Accuracy on training set: 0.981  Accuracy on test set: 0.944\n",
      "7.037066666666667  Accuracy on training set: 0.981  Accuracy on test set: 0.944\n",
      "7.047076576576576  Accuracy on training set: 0.981  Accuracy on test set: 0.944\n",
      "7.057086486486487  Accuracy on training set: 0.981  Accuracy on test set: 0.944\n",
      "7.067096396396397  Accuracy on training set: 0.981  Accuracy on test set: 0.944\n",
      "7.077106306306306  Accuracy on training set: 0.981  Accuracy on test set: 0.944\n",
      "7.0871162162162165  Accuracy on training set: 0.981  Accuracy on test set: 0.944\n",
      "7.097126126126127  Accuracy on training set: 0.981  Accuracy on test set: 0.944\n",
      "7.107136036036036  Accuracy on training set: 0.981  Accuracy on test set: 0.944\n",
      "7.117145945945946  Accuracy on training set: 0.981  Accuracy on test set: 0.944\n",
      "7.127155855855856  Accuracy on training set: 0.981  Accuracy on test set: 0.944\n",
      "7.137165765765766  Accuracy on training set: 0.981  Accuracy on test set: 0.944\n",
      "7.147175675675676  Accuracy on training set: 0.981  Accuracy on test set: 0.944\n",
      "7.1571855855855855  Accuracy on training set: 0.981  Accuracy on test set: 0.944\n",
      "7.167195495495496  Accuracy on training set: 0.981  Accuracy on test set: 0.944\n",
      "7.177205405405406  Accuracy on training set: 0.981  Accuracy on test set: 0.944\n",
      "7.187215315315315  Accuracy on training set: 0.981  Accuracy on test set: 0.944\n",
      "7.197225225225226  Accuracy on training set: 0.981  Accuracy on test set: 0.944\n",
      "7.207235135135135  Accuracy on training set: 0.981  Accuracy on test set: 0.944\n",
      "7.217245045045045  Accuracy on training set: 0.981  Accuracy on test set: 0.944\n",
      "7.227254954954955  Accuracy on training set: 0.981  Accuracy on test set: 0.944\n",
      "7.237264864864865  Accuracy on training set: 0.981  Accuracy on test set: 0.944\n",
      "7.247274774774775  Accuracy on training set: 0.981  Accuracy on test set: 0.944\n",
      "7.257284684684685  Accuracy on training set: 0.981  Accuracy on test set: 0.944\n",
      "7.267294594594595  Accuracy on training set: 0.981  Accuracy on test set: 0.944\n",
      "7.277304504504505  Accuracy on training set: 0.981  Accuracy on test set: 0.944\n",
      "7.287314414414414  Accuracy on training set: 0.981  Accuracy on test set: 0.944\n",
      "7.297324324324324  Accuracy on training set: 0.981  Accuracy on test set: 0.944\n",
      "7.307334234234235  Accuracy on training set: 0.981  Accuracy on test set: 0.944\n",
      "7.317344144144144  Accuracy on training set: 0.981  Accuracy on test set: 0.944\n",
      "7.327354054054054  Accuracy on training set: 0.981  Accuracy on test set: 0.944\n",
      "7.3373639639639645  Accuracy on training set: 0.981  Accuracy on test set: 0.944\n",
      "7.347373873873874  Accuracy on training set: 0.981  Accuracy on test set: 0.944\n",
      "7.357383783783784  Accuracy on training set: 0.981  Accuracy on test set: 0.944\n",
      "7.3673936936936935  Accuracy on training set: 0.981  Accuracy on test set: 0.944\n",
      "7.377403603603604  Accuracy on training set: 0.981  Accuracy on test set: 0.944\n",
      "7.387413513513514  Accuracy on training set: 0.981  Accuracy on test set: 0.944\n",
      "7.397423423423423  Accuracy on training set: 0.981  Accuracy on test set: 0.944\n",
      "7.4074333333333335  Accuracy on training set: 0.981  Accuracy on test set: 0.944\n",
      "7.417443243243244  Accuracy on training set: 0.981  Accuracy on test set: 0.944\n",
      "7.427453153153153  Accuracy on training set: 0.981  Accuracy on test set: 0.944\n",
      "7.437463063063063  Accuracy on training set: 0.981  Accuracy on test set: 0.944\n",
      "7.447472972972973  Accuracy on training set: 0.981  Accuracy on test set: 0.944\n",
      "7.457482882882883  Accuracy on training set: 0.981  Accuracy on test set: 0.944\n",
      "7.467492792792793  Accuracy on training set: 0.981  Accuracy on test set: 0.944\n",
      "7.477502702702703  Accuracy on training set: 0.981  Accuracy on test set: 0.944\n",
      "7.487512612612613  Accuracy on training set: 0.981  Accuracy on test set: 0.944\n",
      "7.497522522522523  Accuracy on training set: 0.981  Accuracy on test set: 0.944\n",
      "7.507532432432432  Accuracy on training set: 0.979  Accuracy on test set: 0.944\n",
      "7.517542342342343  Accuracy on training set: 0.981  Accuracy on test set: 0.944\n",
      "7.527552252252252  Accuracy on training set: 0.981  Accuracy on test set: 0.944\n",
      "7.537562162162162  Accuracy on training set: 0.981  Accuracy on test set: 0.944\n",
      "7.5475720720720725  Accuracy on training set: 0.981  Accuracy on test set: 0.944\n",
      "7.557581981981982  Accuracy on training set: 0.981  Accuracy on test set: 0.944\n",
      "7.567591891891892  Accuracy on training set: 0.981  Accuracy on test set: 0.944\n",
      "7.577601801801802  Accuracy on training set: 0.981  Accuracy on test set: 0.944\n",
      "7.587611711711712  Accuracy on training set: 0.981  Accuracy on test set: 0.944\n",
      "7.597621621621622  Accuracy on training set: 0.981  Accuracy on test set: 0.944\n",
      "7.607631531531531  Accuracy on training set: 0.981  Accuracy on test set: 0.944\n",
      "7.6176414414414415  Accuracy on training set: 0.981  Accuracy on test set: 0.944\n",
      "7.627651351351352  Accuracy on training set: 0.981  Accuracy on test set: 0.944\n",
      "7.637661261261261  Accuracy on training set: 0.981  Accuracy on test set: 0.944\n",
      "7.647671171171171  Accuracy on training set: 0.981  Accuracy on test set: 0.944\n",
      "7.657681081081082  Accuracy on training set: 0.981  Accuracy on test set: 0.944\n",
      "7.667690990990991  Accuracy on training set: 0.981  Accuracy on test set: 0.944\n",
      "7.677700900900901  Accuracy on training set: 0.981  Accuracy on test set: 0.944\n",
      "7.687710810810811  Accuracy on training set: 0.981  Accuracy on test set: 0.944\n",
      "7.697720720720721  Accuracy on training set: 0.981  Accuracy on test set: 0.944\n",
      "7.707730630630631  Accuracy on training set: 0.981  Accuracy on test set: 0.944\n",
      "7.71774054054054  Accuracy on training set: 0.981  Accuracy on test set: 0.944\n",
      "7.727750450450451  Accuracy on training set: 0.981  Accuracy on test set: 0.944\n",
      "7.737760360360361  Accuracy on training set: 0.981  Accuracy on test set: 0.944\n",
      "7.74777027027027  Accuracy on training set: 0.981  Accuracy on test set: 0.944\n",
      "7.7577801801801805  Accuracy on training set: 0.981  Accuracy on test set: 0.944\n",
      "7.767790090090091  Accuracy on training set: 0.981  Accuracy on test set: 0.944\n",
      "7.7778  Accuracy on training set: 0.981  Accuracy on test set: 0.944\n",
      "7.78780990990991  Accuracy on training set: 0.981  Accuracy on test set: 0.944\n",
      "7.79781981981982  Accuracy on training set: 0.981  Accuracy on test set: 0.944\n",
      "7.80782972972973  Accuracy on training set: 0.981  Accuracy on test set: 0.944\n",
      "7.81783963963964  Accuracy on training set: 0.981  Accuracy on test set: 0.944\n",
      "7.8278495495495495  Accuracy on training set: 0.981  Accuracy on test set: 0.944\n"
     ]
    },
    {
     "name": "stdout",
     "output_type": "stream",
     "text": [
      "7.83785945945946  Accuracy on training set: 0.981  Accuracy on test set: 0.944\n",
      "7.84786936936937  Accuracy on training set: 0.981  Accuracy on test set: 0.944\n",
      "7.857879279279279  Accuracy on training set: 0.981  Accuracy on test set: 0.944\n",
      "7.86788918918919  Accuracy on training set: 0.981  Accuracy on test set: 0.944\n",
      "7.877899099099099  Accuracy on training set: 0.981  Accuracy on test set: 0.944\n",
      "7.887909009009009  Accuracy on training set: 0.981  Accuracy on test set: 0.944\n",
      "7.897918918918919  Accuracy on training set: 0.981  Accuracy on test set: 0.944\n",
      "7.907928828828829  Accuracy on training set: 0.981  Accuracy on test set: 0.944\n",
      "7.917938738738739  Accuracy on training set: 0.981  Accuracy on test set: 0.944\n",
      "7.927948648648649  Accuracy on training set: 0.981  Accuracy on test set: 0.944\n",
      "7.937958558558559  Accuracy on training set: 0.981  Accuracy on test set: 0.944\n",
      "7.947968468468469  Accuracy on training set: 0.981  Accuracy on test set: 0.944\n",
      "7.957978378378378  Accuracy on training set: 0.981  Accuracy on test set: 0.944\n",
      "7.967988288288288  Accuracy on training set: 0.981  Accuracy on test set: 0.944\n",
      "7.977998198198199  Accuracy on training set: 0.981  Accuracy on test set: 0.944\n",
      "7.988008108108108  Accuracy on training set: 0.981  Accuracy on test set: 0.944\n",
      "7.998018018018018  Accuracy on training set: 0.981  Accuracy on test set: 0.944\n",
      "8.008027927927929  Accuracy on training set: 0.981  Accuracy on test set: 0.944\n",
      "8.018037837837838  Accuracy on training set: 0.981  Accuracy on test set: 0.944\n",
      "8.028047747747747  Accuracy on training set: 0.981  Accuracy on test set: 0.944\n",
      "8.038057657657658  Accuracy on training set: 0.981  Accuracy on test set: 0.944\n",
      "8.048067567567568  Accuracy on training set: 0.981  Accuracy on test set: 0.944\n",
      "8.058077477477477  Accuracy on training set: 0.981  Accuracy on test set: 0.944\n",
      "8.068087387387388  Accuracy on training set: 0.981  Accuracy on test set: 0.944\n",
      "8.078097297297298  Accuracy on training set: 0.981  Accuracy on test set: 0.944\n",
      "8.088107207207207  Accuracy on training set: 0.981  Accuracy on test set: 0.944\n",
      "8.098117117117118  Accuracy on training set: 0.981  Accuracy on test set: 0.944\n",
      "8.108127027027027  Accuracy on training set: 0.981  Accuracy on test set: 0.944\n",
      "8.118136936936937  Accuracy on training set: 0.981  Accuracy on test set: 0.944\n",
      "8.128146846846848  Accuracy on training set: 0.981  Accuracy on test set: 0.944\n",
      "8.138156756756757  Accuracy on training set: 0.981  Accuracy on test set: 0.944\n",
      "8.148166666666667  Accuracy on training set: 0.981  Accuracy on test set: 0.944\n",
      "8.158176576576576  Accuracy on training set: 0.981  Accuracy on test set: 0.944\n",
      "8.168186486486487  Accuracy on training set: 0.981  Accuracy on test set: 0.944\n",
      "8.178196396396396  Accuracy on training set: 0.981  Accuracy on test set: 0.944\n",
      "8.188206306306306  Accuracy on training set: 0.981  Accuracy on test set: 0.944\n",
      "8.198216216216217  Accuracy on training set: 0.981  Accuracy on test set: 0.944\n",
      "8.208226126126126  Accuracy on training set: 0.981  Accuracy on test set: 0.944\n",
      "8.218236036036036  Accuracy on training set: 0.981  Accuracy on test set: 0.944\n",
      "8.228245945945947  Accuracy on training set: 0.981  Accuracy on test set: 0.944\n",
      "8.238255855855856  Accuracy on training set: 0.981  Accuracy on test set: 0.944\n",
      "8.248265765765765  Accuracy on training set: 0.981  Accuracy on test set: 0.944\n",
      "8.258275675675677  Accuracy on training set: 0.981  Accuracy on test set: 0.944\n",
      "8.268285585585586  Accuracy on training set: 0.981  Accuracy on test set: 0.944\n",
      "8.278295495495495  Accuracy on training set: 0.981  Accuracy on test set: 0.944\n",
      "8.288305405405406  Accuracy on training set: 0.981  Accuracy on test set: 0.944\n",
      "8.298315315315316  Accuracy on training set: 0.981  Accuracy on test set: 0.944\n",
      "8.308325225225225  Accuracy on training set: 0.981  Accuracy on test set: 0.944\n",
      "8.318335135135134  Accuracy on training set: 0.981  Accuracy on test set: 0.944\n",
      "8.328345045045046  Accuracy on training set: 0.981  Accuracy on test set: 0.944\n",
      "8.338354954954955  Accuracy on training set: 0.981  Accuracy on test set: 0.944\n",
      "8.348364864864864  Accuracy on training set: 0.981  Accuracy on test set: 0.944\n",
      "8.358374774774775  Accuracy on training set: 0.981  Accuracy on test set: 0.944\n",
      "8.368384684684685  Accuracy on training set: 0.981  Accuracy on test set: 0.944\n",
      "8.378394594594594  Accuracy on training set: 0.981  Accuracy on test set: 0.944\n",
      "8.388404504504505  Accuracy on training set: 0.981  Accuracy on test set: 0.944\n",
      "8.398414414414415  Accuracy on training set: 0.981  Accuracy on test set: 0.944\n",
      "8.408424324324324  Accuracy on training set: 0.981  Accuracy on test set: 0.944\n",
      "8.418434234234235  Accuracy on training set: 0.981  Accuracy on test set: 0.944\n",
      "8.428444144144144  Accuracy on training set: 0.981  Accuracy on test set: 0.944\n",
      "8.438454054054054  Accuracy on training set: 0.981  Accuracy on test set: 0.944\n",
      "8.448463963963965  Accuracy on training set: 0.981  Accuracy on test set: 0.944\n",
      "8.458473873873874  Accuracy on training set: 0.981  Accuracy on test set: 0.944\n",
      "8.468483783783784  Accuracy on training set: 0.981  Accuracy on test set: 0.944\n",
      "8.478493693693695  Accuracy on training set: 0.981  Accuracy on test set: 0.944\n",
      "8.488503603603604  Accuracy on training set: 0.981  Accuracy on test set: 0.944\n",
      "8.498513513513513  Accuracy on training set: 0.981  Accuracy on test set: 0.944\n",
      "8.508523423423423  Accuracy on training set: 0.981  Accuracy on test set: 0.944\n",
      "8.518533333333334  Accuracy on training set: 0.981  Accuracy on test set: 0.944\n",
      "8.528543243243243  Accuracy on training set: 0.981  Accuracy on test set: 0.944\n",
      "8.538553153153153  Accuracy on training set: 0.981  Accuracy on test set: 0.944\n",
      "8.548563063063064  Accuracy on training set: 0.981  Accuracy on test set: 0.944\n",
      "8.558572972972973  Accuracy on training set: 0.979  Accuracy on test set: 0.944\n",
      "8.568582882882883  Accuracy on training set: 0.979  Accuracy on test set: 0.944\n",
      "8.578592792792794  Accuracy on training set: 0.979  Accuracy on test set: 0.944\n",
      "8.588602702702703  Accuracy on training set: 0.979  Accuracy on test set: 0.944\n",
      "8.598612612612612  Accuracy on training set: 0.979  Accuracy on test set: 0.944\n",
      "8.608622522522523  Accuracy on training set: 0.979  Accuracy on test set: 0.944\n",
      "8.618632432432433  Accuracy on training set: 0.979  Accuracy on test set: 0.944\n",
      "8.628642342342342  Accuracy on training set: 0.979  Accuracy on test set: 0.944\n",
      "8.638652252252253  Accuracy on training set: 0.979  Accuracy on test set: 0.944\n",
      "8.648662162162163  Accuracy on training set: 0.979  Accuracy on test set: 0.944\n",
      "8.658672072072072  Accuracy on training set: 0.979  Accuracy on test set: 0.944\n",
      "8.668681981981981  Accuracy on training set: 0.979  Accuracy on test set: 0.944\n",
      "8.678691891891892  Accuracy on training set: 0.979  Accuracy on test set: 0.944\n",
      "8.688701801801802  Accuracy on training set: 0.979  Accuracy on test set: 0.944\n",
      "8.698711711711711  Accuracy on training set: 0.979  Accuracy on test set: 0.944\n",
      "8.708721621621622  Accuracy on training set: 0.979  Accuracy on test set: 0.944\n",
      "8.718731531531532  Accuracy on training set: 0.979  Accuracy on test set: 0.944\n",
      "8.728741441441441  Accuracy on training set: 0.979  Accuracy on test set: 0.944\n",
      "8.738751351351352  Accuracy on training set: 0.979  Accuracy on test set: 0.944\n",
      "8.748761261261262  Accuracy on training set: 0.979  Accuracy on test set: 0.944\n",
      "8.75877117117117  Accuracy on training set: 0.979  Accuracy on test set: 0.944\n",
      "8.768781081081082  Accuracy on training set: 0.979  Accuracy on test set: 0.944\n",
      "8.778790990990991  Accuracy on training set: 0.979  Accuracy on test set: 0.944\n",
      "8.7888009009009  Accuracy on training set: 0.979  Accuracy on test set: 0.944\n",
      "8.798810810810812  Accuracy on training set: 0.979  Accuracy on test set: 0.944\n",
      "8.808820720720721  Accuracy on training set: 0.979  Accuracy on test set: 0.944\n",
      "8.81883063063063  Accuracy on training set: 0.979  Accuracy on test set: 0.944\n",
      "8.82884054054054  Accuracy on training set: 0.979  Accuracy on test set: 0.944\n",
      "8.838850450450451  Accuracy on training set: 0.979  Accuracy on test set: 0.944\n",
      "8.84886036036036  Accuracy on training set: 0.979  Accuracy on test set: 0.944\n",
      "8.85887027027027  Accuracy on training set: 0.979  Accuracy on test set: 0.944\n"
     ]
    },
    {
     "name": "stdout",
     "output_type": "stream",
     "text": [
      "8.86888018018018  Accuracy on training set: 0.979  Accuracy on test set: 0.944\n",
      "8.87889009009009  Accuracy on training set: 0.979  Accuracy on test set: 0.944\n",
      "8.8889  Accuracy on training set: 0.979  Accuracy on test set: 0.944\n",
      "8.89890990990991  Accuracy on training set: 0.979  Accuracy on test set: 0.944\n",
      "8.90891981981982  Accuracy on training set: 0.979  Accuracy on test set: 0.944\n",
      "8.91892972972973  Accuracy on training set: 0.979  Accuracy on test set: 0.944\n",
      "8.92893963963964  Accuracy on training set: 0.979  Accuracy on test set: 0.944\n",
      "8.93894954954955  Accuracy on training set: 0.979  Accuracy on test set: 0.944\n",
      "8.94895945945946  Accuracy on training set: 0.979  Accuracy on test set: 0.944\n",
      "8.95896936936937  Accuracy on training set: 0.979  Accuracy on test set: 0.944\n",
      "8.96897927927928  Accuracy on training set: 0.979  Accuracy on test set: 0.944\n",
      "8.978989189189189  Accuracy on training set: 0.979  Accuracy on test set: 0.944\n",
      "8.9889990990991  Accuracy on training set: 0.979  Accuracy on test set: 0.944\n",
      "8.99900900900901  Accuracy on training set: 0.979  Accuracy on test set: 0.944\n",
      "9.009018918918919  Accuracy on training set: 0.979  Accuracy on test set: 0.944\n",
      "9.019028828828828  Accuracy on training set: 0.979  Accuracy on test set: 0.944\n",
      "9.02903873873874  Accuracy on training set: 0.979  Accuracy on test set: 0.944\n",
      "9.039048648648649  Accuracy on training set: 0.979  Accuracy on test set: 0.944\n",
      "9.049058558558558  Accuracy on training set: 0.979  Accuracy on test set: 0.944\n",
      "9.05906846846847  Accuracy on training set: 0.979  Accuracy on test set: 0.944\n",
      "9.069078378378379  Accuracy on training set: 0.979  Accuracy on test set: 0.944\n",
      "9.079088288288288  Accuracy on training set: 0.979  Accuracy on test set: 0.944\n",
      "9.089098198198199  Accuracy on training set: 0.979  Accuracy on test set: 0.944\n",
      "9.099108108108108  Accuracy on training set: 0.979  Accuracy on test set: 0.944\n",
      "9.109118018018018  Accuracy on training set: 0.979  Accuracy on test set: 0.944\n",
      "9.119127927927929  Accuracy on training set: 0.979  Accuracy on test set: 0.944\n",
      "9.129137837837838  Accuracy on training set: 0.979  Accuracy on test set: 0.944\n",
      "9.139147747747748  Accuracy on training set: 0.979  Accuracy on test set: 0.944\n",
      "9.149157657657659  Accuracy on training set: 0.979  Accuracy on test set: 0.944\n",
      "9.159167567567568  Accuracy on training set: 0.979  Accuracy on test set: 0.944\n",
      "9.169177477477477  Accuracy on training set: 0.979  Accuracy on test set: 0.944\n",
      "9.179187387387387  Accuracy on training set: 0.979  Accuracy on test set: 0.944\n",
      "9.189197297297298  Accuracy on training set: 0.979  Accuracy on test set: 0.944\n",
      "9.199207207207207  Accuracy on training set: 0.979  Accuracy on test set: 0.944\n",
      "9.209217117117117  Accuracy on training set: 0.979  Accuracy on test set: 0.944\n",
      "9.219227027027028  Accuracy on training set: 0.979  Accuracy on test set: 0.944\n",
      "9.229236936936937  Accuracy on training set: 0.979  Accuracy on test set: 0.944\n",
      "9.239246846846846  Accuracy on training set: 0.977  Accuracy on test set: 0.944\n",
      "9.249256756756758  Accuracy on training set: 0.977  Accuracy on test set: 0.944\n",
      "9.259266666666667  Accuracy on training set: 0.977  Accuracy on test set: 0.944\n",
      "9.269276576576576  Accuracy on training set: 0.977  Accuracy on test set: 0.944\n",
      "9.279286486486487  Accuracy on training set: 0.977  Accuracy on test set: 0.944\n",
      "9.289296396396397  Accuracy on training set: 0.977  Accuracy on test set: 0.944\n",
      "9.299306306306306  Accuracy on training set: 0.977  Accuracy on test set: 0.944\n",
      "9.309316216216217  Accuracy on training set: 0.977  Accuracy on test set: 0.944\n",
      "9.319326126126127  Accuracy on training set: 0.977  Accuracy on test set: 0.944\n",
      "9.329336036036036  Accuracy on training set: 0.977  Accuracy on test set: 0.944\n",
      "9.339345945945945  Accuracy on training set: 0.977  Accuracy on test set: 0.944\n",
      "9.349355855855856  Accuracy on training set: 0.977  Accuracy on test set: 0.944\n",
      "9.359365765765766  Accuracy on training set: 0.977  Accuracy on test set: 0.944\n",
      "9.369375675675675  Accuracy on training set: 0.977  Accuracy on test set: 0.944\n",
      "9.379385585585586  Accuracy on training set: 0.977  Accuracy on test set: 0.944\n",
      "9.389395495495496  Accuracy on training set: 0.977  Accuracy on test set: 0.944\n",
      "9.399405405405405  Accuracy on training set: 0.977  Accuracy on test set: 0.944\n",
      "9.409415315315316  Accuracy on training set: 0.977  Accuracy on test set: 0.944\n",
      "9.419425225225226  Accuracy on training set: 0.977  Accuracy on test set: 0.944\n",
      "9.429435135135135  Accuracy on training set: 0.977  Accuracy on test set: 0.944\n",
      "9.439445045045046  Accuracy on training set: 0.977  Accuracy on test set: 0.944\n",
      "9.449454954954955  Accuracy on training set: 0.977  Accuracy on test set: 0.944\n",
      "9.459464864864865  Accuracy on training set: 0.977  Accuracy on test set: 0.944\n",
      "9.469474774774776  Accuracy on training set: 0.977  Accuracy on test set: 0.944\n",
      "9.479484684684685  Accuracy on training set: 0.977  Accuracy on test set: 0.944\n",
      "9.489494594594595  Accuracy on training set: 0.977  Accuracy on test set: 0.944\n",
      "9.499504504504504  Accuracy on training set: 0.977  Accuracy on test set: 0.944\n",
      "9.509514414414415  Accuracy on training set: 0.977  Accuracy on test set: 0.944\n",
      "9.519524324324324  Accuracy on training set: 0.977  Accuracy on test set: 0.944\n",
      "9.529534234234234  Accuracy on training set: 0.977  Accuracy on test set: 0.944\n",
      "9.539544144144145  Accuracy on training set: 0.977  Accuracy on test set: 0.944\n",
      "9.549554054054054  Accuracy on training set: 0.977  Accuracy on test set: 0.944\n",
      "9.559563963963964  Accuracy on training set: 0.974  Accuracy on test set: 0.944\n",
      "9.569573873873875  Accuracy on training set: 0.974  Accuracy on test set: 0.944\n",
      "9.579583783783784  Accuracy on training set: 0.974  Accuracy on test set: 0.944\n",
      "9.589593693693693  Accuracy on training set: 0.974  Accuracy on test set: 0.944\n",
      "9.599603603603605  Accuracy on training set: 0.974  Accuracy on test set: 0.944\n",
      "9.609613513513514  Accuracy on training set: 0.974  Accuracy on test set: 0.944\n",
      "9.619623423423423  Accuracy on training set: 0.977  Accuracy on test set: 0.944\n",
      "9.629633333333334  Accuracy on training set: 0.977  Accuracy on test set: 0.944\n",
      "9.639643243243244  Accuracy on training set: 0.977  Accuracy on test set: 0.944\n",
      "9.649653153153153  Accuracy on training set: 0.977  Accuracy on test set: 0.944\n",
      "9.659663063063064  Accuracy on training set: 0.977  Accuracy on test set: 0.944\n",
      "9.669672972972974  Accuracy on training set: 0.977  Accuracy on test set: 0.944\n",
      "9.679682882882883  Accuracy on training set: 0.977  Accuracy on test set: 0.944\n",
      "9.689692792792792  Accuracy on training set: 0.977  Accuracy on test set: 0.944\n",
      "9.699702702702703  Accuracy on training set: 0.977  Accuracy on test set: 0.944\n",
      "9.709712612612613  Accuracy on training set: 0.977  Accuracy on test set: 0.944\n",
      "9.719722522522522  Accuracy on training set: 0.977  Accuracy on test set: 0.944\n",
      "9.729732432432433  Accuracy on training set: 0.977  Accuracy on test set: 0.944\n",
      "9.739742342342343  Accuracy on training set: 0.977  Accuracy on test set: 0.944\n",
      "9.749752252252252  Accuracy on training set: 0.977  Accuracy on test set: 0.944\n",
      "9.759762162162163  Accuracy on training set: 0.977  Accuracy on test set: 0.944\n",
      "9.769772072072072  Accuracy on training set: 0.977  Accuracy on test set: 0.944\n",
      "9.779781981981982  Accuracy on training set: 0.977  Accuracy on test set: 0.944\n",
      "9.789791891891893  Accuracy on training set: 0.977  Accuracy on test set: 0.944\n",
      "9.799801801801802  Accuracy on training set: 0.977  Accuracy on test set: 0.944\n",
      "9.809811711711712  Accuracy on training set: 0.977  Accuracy on test set: 0.944\n",
      "9.819821621621623  Accuracy on training set: 0.977  Accuracy on test set: 0.944\n",
      "9.829831531531532  Accuracy on training set: 0.977  Accuracy on test set: 0.944\n",
      "9.839841441441441  Accuracy on training set: 0.974  Accuracy on test set: 0.944\n",
      "9.84985135135135  Accuracy on training set: 0.974  Accuracy on test set: 0.944\n",
      "9.859861261261262  Accuracy on training set: 0.974  Accuracy on test set: 0.944\n",
      "9.869871171171171  Accuracy on training set: 0.974  Accuracy on test set: 0.944\n",
      "9.87988108108108  Accuracy on training set: 0.974  Accuracy on test set: 0.944\n",
      "9.889890990990992  Accuracy on training set: 0.974  Accuracy on test set: 0.944\n"
     ]
    },
    {
     "name": "stdout",
     "output_type": "stream",
     "text": [
      "9.899900900900901  Accuracy on training set: 0.974  Accuracy on test set: 0.944\n",
      "9.90991081081081  Accuracy on training set: 0.974  Accuracy on test set: 0.944\n",
      "9.919920720720722  Accuracy on training set: 0.974  Accuracy on test set: 0.944\n",
      "9.929930630630631  Accuracy on training set: 0.974  Accuracy on test set: 0.944\n",
      "9.93994054054054  Accuracy on training set: 0.974  Accuracy on test set: 0.944\n",
      "9.949950450450451  Accuracy on training set: 0.974  Accuracy on test set: 0.944\n",
      "9.95996036036036  Accuracy on training set: 0.974  Accuracy on test set: 0.944\n",
      "9.96997027027027  Accuracy on training set: 0.974  Accuracy on test set: 0.944\n",
      "9.979980180180181  Accuracy on training set: 0.974  Accuracy on test set: 0.944\n",
      "9.98999009009009  Accuracy on training set: 0.974  Accuracy on test set: 0.944\n",
      "10.0  Accuracy on training set: 0.974  Accuracy on test set: 0.944\n"
     ]
    }
   ],
   "source": [
    "for i in np.linspace(0.0001, 10, 1000):\n",
    "    mlp = MLPClassifier(max_iter=247, alpha=i, random_state=42)\n",
    "    mlp.fit(X_train_scaled, y_train)\n",
    "    print(i, \" Accuracy on training set: {:.3f}\".format(mlp.score(X_train_scaled, y_train)), \" Accuracy on test set: {:.3f}\".format(mlp.score(X_test_scaled, y_test)))"
   ]
  },
  {
   "cell_type": "markdown",
   "metadata": {},
   "source": [
    "#### QUESTION: What alpha value did you find that produces a MLP Classifier that generalizes well? What do you observe about the accuracy on the training and test set that provides evidence this is a good value for alpha for this problem?\n",
    "Q4: α = 0.65 seems to produce a MLP classifier that learns and generalize well (Training accuracy = 98.8%, Test accuracy = 98.6%). The selection of α is based on the discrepancy between the training and the test sets such that the training and the test accuracy scores are as close as possible without lowering the test accuracy. What I observed is that as α increased, the training accuracy tended to decrease and the test accuracy tended to increase. As α is increased to 0.65 (or to some other larger α values that generate the same result), the complexity of the model decreased. So, the discrepancy is less and the risk of overfitting is lower. "
   ]
  },
  {
   "cell_type": "code",
   "execution_count": null,
   "metadata": {},
   "outputs": [],
   "source": [
    "# OBSERVATION: We did not indicate how many hidden layers to have or how many hidden units\n",
    "# to include in a hidden layer. By default, a MLPClassifier has a single hidden layer\n",
    "# with 100 units in it. We can use a \"hidden_layer_sizes\" argument to adjust this."
   ]
  },
  {
   "cell_type": "code",
   "execution_count": 23,
   "metadata": {},
   "outputs": [
    {
     "name": "stdout",
     "output_type": "stream",
     "text": [
      "Accuracy on training set: 0.897\n",
      "Accuracy on test set: 0.895\n"
     ]
    },
    {
     "name": "stderr",
     "output_type": "stream",
     "text": [
      "/opt/anaconda3/lib/python3.7/site-packages/sklearn/neural_network/multilayer_perceptron.py:566: ConvergenceWarning: Stochastic Optimizer: Maximum iterations (200) reached and the optimization hasn't converged yet.\n",
      "  % self.max_iter, ConvergenceWarning)\n"
     ]
    }
   ],
   "source": [
    "# Return to using the default number of iterations and regularization parameter\n",
    "# create a multilayer perceptron classifier with one hidden layer of just 10 units\n",
    "mlp = MLPClassifier(hidden_layer_sizes=[10], random_state=42)\n",
    "\n",
    "# fit the classifier to the training data\n",
    "mlp.fit(X_train, y_train)\n",
    "\n",
    "# print its accuracy on the training and test set\n",
    "print(\"Accuracy on training set: {:.3f}\".format(mlp.score(X_train, y_train)))\n",
    "print(\"Accuracy on test set: {:.3f}\".format(mlp.score(X_test, y_test)))"
   ]
  },
  {
   "cell_type": "code",
   "execution_count": 22,
   "metadata": {},
   "outputs": [
    {
     "name": "stdout",
     "output_type": "stream",
     "text": [
      "Accuracy on training set: 0.373\n",
      "Accuracy on test set: 0.371\n"
     ]
    },
    {
     "name": "stderr",
     "output_type": "stream",
     "text": [
      "/opt/anaconda3/lib/python3.7/site-packages/sklearn/neural_network/multilayer_perceptron.py:566: ConvergenceWarning: Stochastic Optimizer: Maximum iterations (200) reached and the optimization hasn't converged yet.\n",
      "  % self.max_iter, ConvergenceWarning)\n"
     ]
    }
   ],
   "source": [
    "# create a multilayer perceptron classifier with two hidden layers,\n",
    "# the first with 20 units and the second with 5 units\n",
    "mlp = MLPClassifier(hidden_layer_sizes=[20, 5], random_state=42)\n",
    "\n",
    "# fit the classifier to the training data\n",
    "mlp.fit(X_train, y_train)\n",
    "\n",
    "# print its accuracy on the training and test set\n",
    "print(\"Accuracy on training set: {:.3f}\".format(mlp.score(X_train, y_train)))\n",
    "print(\"Accuracy on test set: {:.3f}\".format(mlp.score(X_test, y_test)))"
   ]
  },
  {
   "cell_type": "code",
   "execution_count": null,
   "metadata": {},
   "outputs": [],
   "source": [
    "# OBSERVATION: Generally, we want as simple as model as possible while still being able to\n",
    "# learn our target function. Often, we start with a neural network with one very large hidden\n",
    "# layer to see if learning is possible. From there, we experiment with reducing the size\n",
    "# of the hidden layer and applying regularlization to make computation efficient and get\n",
    "# good generalization. Additional hidden layers are only added as needed if more complex\n",
    "# models are needed."
   ]
  },
  {
   "cell_type": "code",
   "execution_count": 21,
   "metadata": {
    "scrolled": true
   },
   "outputs": [],
   "source": [
    "# TODO: Experiment to determine How few units can we have in a single-hidden layer MLP\n",
    "# Classifer network while still reaching the same level of performance over the\n",
    "# Wisconsin Breast Cancern dataset?\n",
    "\n",
    "# --------> As few as 32?"
   ]
  },
  {
   "cell_type": "code",
   "execution_count": 18,
   "metadata": {},
   "outputs": [
    {
     "name": "stderr",
     "output_type": "stream",
     "text": [
      "/opt/anaconda3/lib/python3.7/site-packages/sklearn/neural_network/multilayer_perceptron.py:566: ConvergenceWarning: Stochastic Optimizer: Maximum iterations (200) reached and the optimization hasn't converged yet.\n",
      "  % self.max_iter, ConvergenceWarning)\n"
     ]
    },
    {
     "name": "stdout",
     "output_type": "stream",
     "text": [
      "1  Accuracy on training set: 0.373  Accuracy on test set: 0.371\n"
     ]
    },
    {
     "name": "stderr",
     "output_type": "stream",
     "text": [
      "/opt/anaconda3/lib/python3.7/site-packages/sklearn/neural_network/multilayer_perceptron.py:566: ConvergenceWarning: Stochastic Optimizer: Maximum iterations (200) reached and the optimization hasn't converged yet.\n",
      "  % self.max_iter, ConvergenceWarning)\n"
     ]
    },
    {
     "name": "stdout",
     "output_type": "stream",
     "text": [
      "2  Accuracy on training set: 0.373  Accuracy on test set: 0.371\n"
     ]
    },
    {
     "name": "stderr",
     "output_type": "stream",
     "text": [
      "/opt/anaconda3/lib/python3.7/site-packages/sklearn/neural_network/multilayer_perceptron.py:566: ConvergenceWarning: Stochastic Optimizer: Maximum iterations (200) reached and the optimization hasn't converged yet.\n",
      "  % self.max_iter, ConvergenceWarning)\n"
     ]
    },
    {
     "name": "stdout",
     "output_type": "stream",
     "text": [
      "3  Accuracy on training set: 0.627  Accuracy on test set: 0.629\n"
     ]
    },
    {
     "name": "stderr",
     "output_type": "stream",
     "text": [
      "/opt/anaconda3/lib/python3.7/site-packages/sklearn/neural_network/multilayer_perceptron.py:566: ConvergenceWarning: Stochastic Optimizer: Maximum iterations (200) reached and the optimization hasn't converged yet.\n",
      "  % self.max_iter, ConvergenceWarning)\n"
     ]
    },
    {
     "name": "stdout",
     "output_type": "stream",
     "text": [
      "4  Accuracy on training set: 0.404  Accuracy on test set: 0.413\n"
     ]
    },
    {
     "name": "stderr",
     "output_type": "stream",
     "text": [
      "/opt/anaconda3/lib/python3.7/site-packages/sklearn/neural_network/multilayer_perceptron.py:566: ConvergenceWarning: Stochastic Optimizer: Maximum iterations (200) reached and the optimization hasn't converged yet.\n",
      "  % self.max_iter, ConvergenceWarning)\n"
     ]
    },
    {
     "name": "stdout",
     "output_type": "stream",
     "text": [
      "5  Accuracy on training set: 0.338  Accuracy on test set: 0.350\n",
      "6  Accuracy on training set: 0.627  Accuracy on test set: 0.629\n"
     ]
    },
    {
     "name": "stderr",
     "output_type": "stream",
     "text": [
      "/opt/anaconda3/lib/python3.7/site-packages/sklearn/neural_network/multilayer_perceptron.py:566: ConvergenceWarning: Stochastic Optimizer: Maximum iterations (200) reached and the optimization hasn't converged yet.\n",
      "  % self.max_iter, ConvergenceWarning)\n"
     ]
    },
    {
     "name": "stdout",
     "output_type": "stream",
     "text": [
      "7  Accuracy on training set: 0.657  Accuracy on test set: 0.629\n"
     ]
    },
    {
     "name": "stderr",
     "output_type": "stream",
     "text": [
      "/opt/anaconda3/lib/python3.7/site-packages/sklearn/neural_network/multilayer_perceptron.py:566: ConvergenceWarning: Stochastic Optimizer: Maximum iterations (200) reached and the optimization hasn't converged yet.\n",
      "  % self.max_iter, ConvergenceWarning)\n"
     ]
    },
    {
     "name": "stdout",
     "output_type": "stream",
     "text": [
      "8  Accuracy on training set: 0.648  Accuracy on test set: 0.629\n",
      "9  Accuracy on training set: 0.732  Accuracy on test set: 0.713\n"
     ]
    },
    {
     "name": "stderr",
     "output_type": "stream",
     "text": [
      "/opt/anaconda3/lib/python3.7/site-packages/sklearn/neural_network/multilayer_perceptron.py:566: ConvergenceWarning: Stochastic Optimizer: Maximum iterations (200) reached and the optimization hasn't converged yet.\n",
      "  % self.max_iter, ConvergenceWarning)\n"
     ]
    },
    {
     "name": "stdout",
     "output_type": "stream",
     "text": [
      "10  Accuracy on training set: 0.387  Accuracy on test set: 0.441\n"
     ]
    },
    {
     "name": "stderr",
     "output_type": "stream",
     "text": [
      "/opt/anaconda3/lib/python3.7/site-packages/sklearn/neural_network/multilayer_perceptron.py:566: ConvergenceWarning: Stochastic Optimizer: Maximum iterations (200) reached and the optimization hasn't converged yet.\n",
      "  % self.max_iter, ConvergenceWarning)\n"
     ]
    },
    {
     "name": "stdout",
     "output_type": "stream",
     "text": [
      "11  Accuracy on training set: 0.838  Accuracy on test set: 0.769\n"
     ]
    },
    {
     "name": "stderr",
     "output_type": "stream",
     "text": [
      "/opt/anaconda3/lib/python3.7/site-packages/sklearn/neural_network/multilayer_perceptron.py:566: ConvergenceWarning: Stochastic Optimizer: Maximum iterations (200) reached and the optimization hasn't converged yet.\n",
      "  % self.max_iter, ConvergenceWarning)\n"
     ]
    },
    {
     "name": "stdout",
     "output_type": "stream",
     "text": [
      "12  Accuracy on training set: 0.812  Accuracy on test set: 0.818\n",
      "13  Accuracy on training set: 0.376  Accuracy on test set: 0.413\n",
      "14  Accuracy on training set: 0.634  Accuracy on test set: 0.643\n"
     ]
    },
    {
     "name": "stderr",
     "output_type": "stream",
     "text": [
      "/opt/anaconda3/lib/python3.7/site-packages/sklearn/neural_network/multilayer_perceptron.py:566: ConvergenceWarning: Stochastic Optimizer: Maximum iterations (200) reached and the optimization hasn't converged yet.\n",
      "  % self.max_iter, ConvergenceWarning)\n"
     ]
    },
    {
     "name": "stdout",
     "output_type": "stream",
     "text": [
      "15  Accuracy on training set: 0.796  Accuracy on test set: 0.762\n"
     ]
    },
    {
     "name": "stderr",
     "output_type": "stream",
     "text": [
      "/opt/anaconda3/lib/python3.7/site-packages/sklearn/neural_network/multilayer_perceptron.py:566: ConvergenceWarning: Stochastic Optimizer: Maximum iterations (200) reached and the optimization hasn't converged yet.\n",
      "  % self.max_iter, ConvergenceWarning)\n"
     ]
    },
    {
     "name": "stdout",
     "output_type": "stream",
     "text": [
      "16  Accuracy on training set: 0.627  Accuracy on test set: 0.629\n",
      "17  Accuracy on training set: 0.890  Accuracy on test set: 0.860\n"
     ]
    },
    {
     "name": "stderr",
     "output_type": "stream",
     "text": [
      "/opt/anaconda3/lib/python3.7/site-packages/sklearn/neural_network/multilayer_perceptron.py:566: ConvergenceWarning: Stochastic Optimizer: Maximum iterations (200) reached and the optimization hasn't converged yet.\n",
      "  % self.max_iter, ConvergenceWarning)\n"
     ]
    },
    {
     "name": "stdout",
     "output_type": "stream",
     "text": [
      "18  Accuracy on training set: 0.660  Accuracy on test set: 0.615\n"
     ]
    },
    {
     "name": "stderr",
     "output_type": "stream",
     "text": [
      "/opt/anaconda3/lib/python3.7/site-packages/sklearn/neural_network/multilayer_perceptron.py:566: ConvergenceWarning: Stochastic Optimizer: Maximum iterations (200) reached and the optimization hasn't converged yet.\n",
      "  % self.max_iter, ConvergenceWarning)\n"
     ]
    },
    {
     "name": "stdout",
     "output_type": "stream",
     "text": [
      "19  Accuracy on training set: 0.216  Accuracy on test set: 0.266\n",
      "20  Accuracy on training set: 0.650  Accuracy on test set: 0.601\n"
     ]
    },
    {
     "name": "stderr",
     "output_type": "stream",
     "text": [
      "/opt/anaconda3/lib/python3.7/site-packages/sklearn/neural_network/multilayer_perceptron.py:566: ConvergenceWarning: Stochastic Optimizer: Maximum iterations (200) reached and the optimization hasn't converged yet.\n",
      "  % self.max_iter, ConvergenceWarning)\n"
     ]
    },
    {
     "name": "stdout",
     "output_type": "stream",
     "text": [
      "21  Accuracy on training set: 0.568  Accuracy on test set: 0.462\n",
      "22  Accuracy on training set: 0.265  Accuracy on test set: 0.280\n"
     ]
    },
    {
     "name": "stderr",
     "output_type": "stream",
     "text": [
      "/opt/anaconda3/lib/python3.7/site-packages/sklearn/neural_network/multilayer_perceptron.py:566: ConvergenceWarning: Stochastic Optimizer: Maximum iterations (200) reached and the optimization hasn't converged yet.\n",
      "  % self.max_iter, ConvergenceWarning)\n"
     ]
    },
    {
     "name": "stdout",
     "output_type": "stream",
     "text": [
      "23  Accuracy on training set: 0.911  Accuracy on test set: 0.888\n",
      "24  Accuracy on training set: 0.566  Accuracy on test set: 0.566\n",
      "25  Accuracy on training set: 0.805  Accuracy on test set: 0.790\n"
     ]
    },
    {
     "name": "stderr",
     "output_type": "stream",
     "text": [
      "/opt/anaconda3/lib/python3.7/site-packages/sklearn/neural_network/multilayer_perceptron.py:566: ConvergenceWarning: Stochastic Optimizer: Maximum iterations (200) reached and the optimization hasn't converged yet.\n",
      "  % self.max_iter, ConvergenceWarning)\n"
     ]
    },
    {
     "name": "stdout",
     "output_type": "stream",
     "text": [
      "26  Accuracy on training set: 0.535  Accuracy on test set: 0.503\n",
      "27  Accuracy on training set: 0.531  Accuracy on test set: 0.510\n",
      "28  Accuracy on training set: 0.526  Accuracy on test set: 0.538\n"
     ]
    },
    {
     "name": "stderr",
     "output_type": "stream",
     "text": [
      "/opt/anaconda3/lib/python3.7/site-packages/sklearn/neural_network/multilayer_perceptron.py:566: ConvergenceWarning: Stochastic Optimizer: Maximum iterations (200) reached and the optimization hasn't converged yet.\n",
      "  % self.max_iter, ConvergenceWarning)\n"
     ]
    },
    {
     "name": "stdout",
     "output_type": "stream",
     "text": [
      "29  Accuracy on training set: 0.843  Accuracy on test set: 0.818\n",
      "30  Accuracy on training set: 0.793  Accuracy on test set: 0.762\n",
      "31  Accuracy on training set: 0.094  Accuracy on test set: 0.070\n"
     ]
    },
    {
     "name": "stderr",
     "output_type": "stream",
     "text": [
      "/opt/anaconda3/lib/python3.7/site-packages/sklearn/neural_network/multilayer_perceptron.py:566: ConvergenceWarning: Stochastic Optimizer: Maximum iterations (200) reached and the optimization hasn't converged yet.\n",
      "  % self.max_iter, ConvergenceWarning)\n"
     ]
    },
    {
     "name": "stdout",
     "output_type": "stream",
     "text": [
      "32  Accuracy on training set: 0.831  Accuracy on test set: 0.832\n"
     ]
    },
    {
     "name": "stderr",
     "output_type": "stream",
     "text": [
      "/opt/anaconda3/lib/python3.7/site-packages/sklearn/neural_network/multilayer_perceptron.py:566: ConvergenceWarning: Stochastic Optimizer: Maximum iterations (200) reached and the optimization hasn't converged yet.\n",
      "  % self.max_iter, ConvergenceWarning)\n"
     ]
    },
    {
     "name": "stdout",
     "output_type": "stream",
     "text": [
      "33  Accuracy on training set: 0.824  Accuracy on test set: 0.762\n",
      "34  Accuracy on training set: 0.608  Accuracy on test set: 0.601\n"
     ]
    },
    {
     "name": "stderr",
     "output_type": "stream",
     "text": [
      "/opt/anaconda3/lib/python3.7/site-packages/sklearn/neural_network/multilayer_perceptron.py:566: ConvergenceWarning: Stochastic Optimizer: Maximum iterations (200) reached and the optimization hasn't converged yet.\n",
      "  % self.max_iter, ConvergenceWarning)\n"
     ]
    },
    {
     "name": "stdout",
     "output_type": "stream",
     "text": [
      "35  Accuracy on training set: 0.838  Accuracy on test set: 0.860\n"
     ]
    },
    {
     "name": "stderr",
     "output_type": "stream",
     "text": [
      "/opt/anaconda3/lib/python3.7/site-packages/sklearn/neural_network/multilayer_perceptron.py:566: ConvergenceWarning: Stochastic Optimizer: Maximum iterations (200) reached and the optimization hasn't converged yet.\n",
      "  % self.max_iter, ConvergenceWarning)\n"
     ]
    },
    {
     "name": "stdout",
     "output_type": "stream",
     "text": [
      "36  Accuracy on training set: 0.847  Accuracy on test set: 0.811\n",
      "37  Accuracy on training set: 0.735  Accuracy on test set: 0.664\n"
     ]
    },
    {
     "name": "stderr",
     "output_type": "stream",
     "text": [
      "/opt/anaconda3/lib/python3.7/site-packages/sklearn/neural_network/multilayer_perceptron.py:566: ConvergenceWarning: Stochastic Optimizer: Maximum iterations (200) reached and the optimization hasn't converged yet.\n",
      "  % self.max_iter, ConvergenceWarning)\n"
     ]
    },
    {
     "name": "stdout",
     "output_type": "stream",
     "text": [
      "38  Accuracy on training set: 0.829  Accuracy on test set: 0.797\n"
     ]
    },
    {
     "name": "stderr",
     "output_type": "stream",
     "text": [
      "/opt/anaconda3/lib/python3.7/site-packages/sklearn/neural_network/multilayer_perceptron.py:566: ConvergenceWarning: Stochastic Optimizer: Maximum iterations (200) reached and the optimization hasn't converged yet.\n",
      "  % self.max_iter, ConvergenceWarning)\n"
     ]
    },
    {
     "name": "stdout",
     "output_type": "stream",
     "text": [
      "39  Accuracy on training set: 0.873  Accuracy on test set: 0.832\n",
      "40  Accuracy on training set: 0.420  Accuracy on test set: 0.427\n",
      "41  Accuracy on training set: 0.404  Accuracy on test set: 0.385\n",
      "42  Accuracy on training set: 0.793  Accuracy on test set: 0.790\n"
     ]
    },
    {
     "name": "stderr",
     "output_type": "stream",
     "text": [
      "/opt/anaconda3/lib/python3.7/site-packages/sklearn/neural_network/multilayer_perceptron.py:566: ConvergenceWarning: Stochastic Optimizer: Maximum iterations (200) reached and the optimization hasn't converged yet.\n",
      "  % self.max_iter, ConvergenceWarning)\n"
     ]
    },
    {
     "name": "stdout",
     "output_type": "stream",
     "text": [
      "43  Accuracy on training set: 0.871  Accuracy on test set: 0.846\n",
      "44  Accuracy on training set: 0.798  Accuracy on test set: 0.776\n",
      "45  Accuracy on training set: 0.563  Accuracy on test set: 0.594\n"
     ]
    },
    {
     "name": "stderr",
     "output_type": "stream",
     "text": [
      "/opt/anaconda3/lib/python3.7/site-packages/sklearn/neural_network/multilayer_perceptron.py:566: ConvergenceWarning: Stochastic Optimizer: Maximum iterations (200) reached and the optimization hasn't converged yet.\n",
      "  % self.max_iter, ConvergenceWarning)\n"
     ]
    },
    {
     "name": "stdout",
     "output_type": "stream",
     "text": [
      "46  Accuracy on training set: 0.765  Accuracy on test set: 0.748\n",
      "47  Accuracy on training set: 0.624  Accuracy on test set: 0.615\n"
     ]
    },
    {
     "name": "stderr",
     "output_type": "stream",
     "text": [
      "/opt/anaconda3/lib/python3.7/site-packages/sklearn/neural_network/multilayer_perceptron.py:566: ConvergenceWarning: Stochastic Optimizer: Maximum iterations (200) reached and the optimization hasn't converged yet.\n",
      "  % self.max_iter, ConvergenceWarning)\n"
     ]
    },
    {
     "name": "stdout",
     "output_type": "stream",
     "text": [
      "48  Accuracy on training set: 0.704  Accuracy on test set: 0.741\n"
     ]
    },
    {
     "name": "stderr",
     "output_type": "stream",
     "text": [
      "/opt/anaconda3/lib/python3.7/site-packages/sklearn/neural_network/multilayer_perceptron.py:566: ConvergenceWarning: Stochastic Optimizer: Maximum iterations (200) reached and the optimization hasn't converged yet.\n",
      "  % self.max_iter, ConvergenceWarning)\n"
     ]
    },
    {
     "name": "stdout",
     "output_type": "stream",
     "text": [
      "49  Accuracy on training set: 0.850  Accuracy on test set: 0.818\n",
      "50  Accuracy on training set: 0.791  Accuracy on test set: 0.762\n",
      "51  Accuracy on training set: 0.761  Accuracy on test set: 0.797\n",
      "52  Accuracy on training set: 0.840  Accuracy on test set: 0.790\n",
      "53  Accuracy on training set: 0.772  Accuracy on test set: 0.790\n",
      "54  Accuracy on training set: 0.836  Accuracy on test set: 0.797\n",
      "55  Accuracy on training set: 0.378  Accuracy on test set: 0.392\n",
      "56  Accuracy on training set: 0.826  Accuracy on test set: 0.825\n",
      "57  Accuracy on training set: 0.793  Accuracy on test set: 0.783\n",
      "58  Accuracy on training set: 0.556  Accuracy on test set: 0.517\n",
      "59  Accuracy on training set: 0.822  Accuracy on test set: 0.776\n",
      "60  Accuracy on training set: 0.838  Accuracy on test set: 0.797\n",
      "61  Accuracy on training set: 0.702  Accuracy on test set: 0.650\n",
      "62  Accuracy on training set: 0.354  Accuracy on test set: 0.364\n",
      "63  Accuracy on training set: 0.122  Accuracy on test set: 0.182\n",
      "64  Accuracy on training set: 0.817  Accuracy on test set: 0.839\n",
      "65  Accuracy on training set: 0.805  Accuracy on test set: 0.790\n",
      "66  Accuracy on training set: 0.531  Accuracy on test set: 0.510\n",
      "67  Accuracy on training set: 0.854  Accuracy on test set: 0.832\n",
      "68  Accuracy on training set: 0.786  Accuracy on test set: 0.797\n",
      "69  Accuracy on training set: 0.782  Accuracy on test set: 0.741\n",
      "70  Accuracy on training set: 0.843  Accuracy on test set: 0.832\n",
      "71  Accuracy on training set: 0.873  Accuracy on test set: 0.832\n",
      "72  Accuracy on training set: 0.812  Accuracy on test set: 0.797\n",
      "73  Accuracy on training set: 0.808  Accuracy on test set: 0.790\n",
      "74  Accuracy on training set: 0.800  Accuracy on test set: 0.804\n",
      "75  Accuracy on training set: 0.601  Accuracy on test set: 0.594\n",
      "76  Accuracy on training set: 0.897  Accuracy on test set: 0.853\n",
      "77  Accuracy on training set: 0.831  Accuracy on test set: 0.839\n",
      "78  Accuracy on training set: 0.805  Accuracy on test set: 0.755\n",
      "79  Accuracy on training set: 0.744  Accuracy on test set: 0.713\n",
      "80  Accuracy on training set: 0.838  Accuracy on test set: 0.832\n",
      "81  Accuracy on training set: 0.873  Accuracy on test set: 0.860\n",
      "82  Accuracy on training set: 0.822  Accuracy on test set: 0.783\n",
      "83  Accuracy on training set: 0.845  Accuracy on test set: 0.804\n",
      "84  Accuracy on training set: 0.777  Accuracy on test set: 0.755\n"
     ]
    },
    {
     "name": "stderr",
     "output_type": "stream",
     "text": [
      "/opt/anaconda3/lib/python3.7/site-packages/sklearn/neural_network/multilayer_perceptron.py:566: ConvergenceWarning: Stochastic Optimizer: Maximum iterations (200) reached and the optimization hasn't converged yet.\n",
      "  % self.max_iter, ConvergenceWarning)\n"
     ]
    },
    {
     "name": "stdout",
     "output_type": "stream",
     "text": [
      "85  Accuracy on training set: 0.859  Accuracy on test set: 0.839\n",
      "86  Accuracy on training set: 0.822  Accuracy on test set: 0.825\n",
      "87  Accuracy on training set: 0.803  Accuracy on test set: 0.797\n",
      "88  Accuracy on training set: 0.850  Accuracy on test set: 0.811\n",
      "89  Accuracy on training set: 0.434  Accuracy on test set: 0.462\n",
      "90  Accuracy on training set: 0.765  Accuracy on test set: 0.741\n",
      "91  Accuracy on training set: 0.746  Accuracy on test set: 0.720\n",
      "92  Accuracy on training set: 0.862  Accuracy on test set: 0.881\n",
      "93  Accuracy on training set: 0.831  Accuracy on test set: 0.804\n",
      "94  Accuracy on training set: 0.878  Accuracy on test set: 0.832\n",
      "95  Accuracy on training set: 0.678  Accuracy on test set: 0.636\n",
      "96  Accuracy on training set: 0.838  Accuracy on test set: 0.839\n",
      "97  Accuracy on training set: 0.742  Accuracy on test set: 0.755\n",
      "98  Accuracy on training set: 0.838  Accuracy on test set: 0.790\n",
      "99  Accuracy on training set: 0.871  Accuracy on test set: 0.846\n",
      "100  Accuracy on training set: 0.829  Accuracy on test set: 0.839\n"
     ]
    }
   ],
   "source": [
    "for i in range(1, 101):\n",
    "    mlp = MLPClassifier(hidden_layer_sizes=[i], random_state=42)\n",
    "    mlp.fit(X_train, y_train)\n",
    "    print(i, \" Accuracy on training set: {:.3f}\".format(mlp.score(X_train_scaled, y_train)), \" Accuracy on test set: {:.3f}\".format(mlp.score(X_test_scaled, y_test)))"
   ]
  },
  {
   "cell_type": "code",
   "execution_count": 20,
   "metadata": {},
   "outputs": [
    {
     "name": "stdout",
     "output_type": "stream",
     "text": [
      "100  Accuracy on training set: 0.829  Accuracy on test set: 0.839\n"
     ]
    }
   ],
   "source": [
    "mlp = MLPClassifier(random_state=42)\n",
    "mlp.fit(X_train, y_train)\n",
    "print(i, \" Accuracy on training set: {:.3f}\".format(mlp.score(X_train_scaled, y_train)), \" Accuracy on test set: {:.3f}\".format(mlp.score(X_test_scaled, y_test)))"
   ]
  },
  {
   "cell_type": "markdown",
   "metadata": {},
   "source": [
    "Q1: With the training accuracy of about 94%, the multilayer perceptron model seems to learn well and its training accuracy is similar to the kNN model. But its training accuracy is slightly lower than the training accuracy of the linear model. For the kNN model, the training score is 0.93427 and the testing score is 0.92308 for k = 28. For the linear model, the training score is 0.977 and the testing score is 0.972 with c =197.57977. We can see that there is a larger discrepancy between the training set and the testing set for the multilayer perceptron model compared to kNN and linear. This means that there is a greater risk of overfitting in the multilayer perceptron model.\n",
    "\n",
    "Q2: After rescaling the data, we can see that the performance of the training set improved by 0.056 and the performance of the testing set improved by 0.049. Compared to both kNN and linear models, the multilayer perceptron model is training better. Though it is performing the prediction better than the kNN model, its prediction performance is slightly lower than the linear model. Considering the discrepancy between the training set and the testing set, it has not been reduced from rescaling the data.\n",
    "\n",
    "TODO1: Using a for loop, the model was given 200 to 300 iterations. With the max iterations of 247 and above, I was able to eliminate the warning.\n",
    "\n",
    "Q3: The MLP classifier begins to converge with max_iter >= 247. When the max iterations are at 200, the training accuracy is 99.5% and the testing accuracy is 96.5%. When the max iterations are at 247, the training accuracy is 99.8% and the testing accuracy is 96.5%. Only the training accuracy improved by 0.3%. On the other hand, the max iterations of 247 increased the discrepancy between the training set and the testing set by 0.003. Therefore, the risk of overfitting of the model increased as well.\n",
    "\n",
    "TODO2: With the max_iter = 247, the MLP classifier was produced with the alpha incremented from 0.0001 to 10 by factors of 10 units. The min alpha value of 0.65 seemed to produce a classifier that learns and generalizes well.\n",
    "\n",
    "Q4: α = 0.65 seems to produce a MLP classifier that learns and generalize well (Training accuracy = 98.8%, Test accuracy = 98.6%). The selection of α is based on the discrepancy between the training and the test sets such that the training and the test accuracy scores are as close as possible without lowering the test accuracy. What I observed is that as α increased, the training accuracy tended to decrease and the test accuracy tended to increase. As α is increased to 0.65 (or to some other larger α values that generate the same result), the complexity of the model decreased. So, the discrepancy is less and the risk of overfitting is lower.\n",
    "\n",
    "I tried to alter the size of the hidden layer from 1 to 100 and the classifier did not seem to reach the same performance level anymore. Overall, the performance seemed to increase as the size of the hidden layer got larger and the performance seemed to fluctuate a bit with smaller layer sizes. Though the performance did not exceed 0.9 and I am not sure if this is what I am supposed to get from changing the size of the hidden layer. What I do not understand is that if the max units of a hidden layer are 100, I wonder why I would not get the same performance as before when I set the size to be 100 (----> anyone has the answer to this?)."
   ]
  },
  {
   "cell_type": "markdown",
   "metadata": {},
   "source": [
    "### Parameter Testing"
   ]
  },
  {
   "cell_type": "code",
   "execution_count": 17,
   "metadata": {},
   "outputs": [
    {
     "name": "stdout",
     "output_type": "stream",
     "text": [
      "Accuracy on training set: 0.995\n",
      "Accuracy on test set: 0.965\n"
     ]
    },
    {
     "name": "stderr",
     "output_type": "stream",
     "text": [
      "/opt/anaconda3/lib/python3.7/site-packages/sklearn/neural_network/multilayer_perceptron.py:566: ConvergenceWarning: Stochastic Optimizer: Maximum iterations (200) reached and the optimization hasn't converged yet.\n",
      "  % self.max_iter, ConvergenceWarning)\n"
     ]
    }
   ],
   "source": [
    "mlp = MLPClassifier(random_state=42)\n",
    "mlp.fit(X_train_scaled, y_train)\n",
    "\n",
    "print(\"Accuracy on training set: {:.3f}\".format(mlp.score(X_train_scaled, y_train)))\n",
    "print(\"Accuracy on test set: {:.3f}\".format(mlp.score(X_test_scaled, y_test)))"
   ]
  },
  {
   "cell_type": "code",
   "execution_count": 18,
   "metadata": {},
   "outputs": [
    {
     "name": "stdout",
     "output_type": "stream",
     "text": [
      "Accuracy on training set: 0.988\n",
      "Accuracy on test set: 0.965\n"
     ]
    },
    {
     "name": "stderr",
     "output_type": "stream",
     "text": [
      "/opt/anaconda3/lib/python3.7/site-packages/sklearn/neural_network/multilayer_perceptron.py:566: ConvergenceWarning: Stochastic Optimizer: Maximum iterations (200) reached and the optimization hasn't converged yet.\n",
      "  % self.max_iter, ConvergenceWarning)\n"
     ]
    }
   ],
   "source": [
    "mlp = MLPClassifier(activation='logistic', random_state=42)\n",
    "mlp.fit(X_train_scaled, y_train)\n",
    "\n",
    "print(\"Accuracy on training set: {:.3f}\".format(mlp.score(X_train_scaled, y_train)))\n",
    "print(\"Accuracy on test set: {:.3f}\".format(mlp.score(X_test_scaled, y_test)))"
   ]
  },
  {
   "cell_type": "code",
   "execution_count": 22,
   "metadata": {},
   "outputs": [
    {
     "name": "stderr",
     "output_type": "stream",
     "text": [
      "/opt/anaconda3/lib/python3.7/site-packages/sklearn/neural_network/multilayer_perceptron.py:566: ConvergenceWarning: Stochastic Optimizer: Maximum iterations (200) reached and the optimization hasn't converged yet.\n",
      "  % self.max_iter, ConvergenceWarning)\n"
     ]
    },
    {
     "name": "stdout",
     "output_type": "stream",
     "text": [
      "1\n",
      "Accuracy on training set: 0.373\n",
      "Accuracy on test set: 0.371\n"
     ]
    },
    {
     "name": "stderr",
     "output_type": "stream",
     "text": [
      "/opt/anaconda3/lib/python3.7/site-packages/sklearn/neural_network/multilayer_perceptron.py:566: ConvergenceWarning: Stochastic Optimizer: Maximum iterations (200) reached and the optimization hasn't converged yet.\n",
      "  % self.max_iter, ConvergenceWarning)\n"
     ]
    },
    {
     "name": "stdout",
     "output_type": "stream",
     "text": [
      "2\n",
      "Accuracy on training set: 0.979\n",
      "Accuracy on test set: 0.944\n"
     ]
    },
    {
     "name": "stderr",
     "output_type": "stream",
     "text": [
      "/opt/anaconda3/lib/python3.7/site-packages/sklearn/neural_network/multilayer_perceptron.py:566: ConvergenceWarning: Stochastic Optimizer: Maximum iterations (200) reached and the optimization hasn't converged yet.\n",
      "  % self.max_iter, ConvergenceWarning)\n"
     ]
    },
    {
     "name": "stdout",
     "output_type": "stream",
     "text": [
      "3\n",
      "Accuracy on training set: 0.986\n",
      "Accuracy on test set: 0.986\n"
     ]
    },
    {
     "name": "stderr",
     "output_type": "stream",
     "text": [
      "/opt/anaconda3/lib/python3.7/site-packages/sklearn/neural_network/multilayer_perceptron.py:566: ConvergenceWarning: Stochastic Optimizer: Maximum iterations (200) reached and the optimization hasn't converged yet.\n",
      "  % self.max_iter, ConvergenceWarning)\n"
     ]
    },
    {
     "name": "stdout",
     "output_type": "stream",
     "text": [
      "4\n",
      "Accuracy on training set: 0.967\n",
      "Accuracy on test set: 0.951\n"
     ]
    },
    {
     "name": "stderr",
     "output_type": "stream",
     "text": [
      "/opt/anaconda3/lib/python3.7/site-packages/sklearn/neural_network/multilayer_perceptron.py:566: ConvergenceWarning: Stochastic Optimizer: Maximum iterations (200) reached and the optimization hasn't converged yet.\n",
      "  % self.max_iter, ConvergenceWarning)\n"
     ]
    },
    {
     "name": "stdout",
     "output_type": "stream",
     "text": [
      "5\n",
      "Accuracy on training set: 0.981\n",
      "Accuracy on test set: 0.965\n"
     ]
    },
    {
     "name": "stderr",
     "output_type": "stream",
     "text": [
      "/opt/anaconda3/lib/python3.7/site-packages/sklearn/neural_network/multilayer_perceptron.py:566: ConvergenceWarning: Stochastic Optimizer: Maximum iterations (200) reached and the optimization hasn't converged yet.\n",
      "  % self.max_iter, ConvergenceWarning)\n"
     ]
    },
    {
     "name": "stdout",
     "output_type": "stream",
     "text": [
      "6\n",
      "Accuracy on training set: 0.981\n",
      "Accuracy on test set: 0.965\n"
     ]
    },
    {
     "name": "stderr",
     "output_type": "stream",
     "text": [
      "/opt/anaconda3/lib/python3.7/site-packages/sklearn/neural_network/multilayer_perceptron.py:566: ConvergenceWarning: Stochastic Optimizer: Maximum iterations (200) reached and the optimization hasn't converged yet.\n",
      "  % self.max_iter, ConvergenceWarning)\n"
     ]
    },
    {
     "name": "stdout",
     "output_type": "stream",
     "text": [
      "7\n",
      "Accuracy on training set: 0.977\n",
      "Accuracy on test set: 0.958\n"
     ]
    },
    {
     "name": "stderr",
     "output_type": "stream",
     "text": [
      "/opt/anaconda3/lib/python3.7/site-packages/sklearn/neural_network/multilayer_perceptron.py:566: ConvergenceWarning: Stochastic Optimizer: Maximum iterations (200) reached and the optimization hasn't converged yet.\n",
      "  % self.max_iter, ConvergenceWarning)\n"
     ]
    },
    {
     "name": "stdout",
     "output_type": "stream",
     "text": [
      "8\n",
      "Accuracy on training set: 0.988\n",
      "Accuracy on test set: 0.979\n"
     ]
    },
    {
     "name": "stderr",
     "output_type": "stream",
     "text": [
      "/opt/anaconda3/lib/python3.7/site-packages/sklearn/neural_network/multilayer_perceptron.py:566: ConvergenceWarning: Stochastic Optimizer: Maximum iterations (200) reached and the optimization hasn't converged yet.\n",
      "  % self.max_iter, ConvergenceWarning)\n"
     ]
    },
    {
     "name": "stdout",
     "output_type": "stream",
     "text": [
      "9\n",
      "Accuracy on training set: 0.986\n",
      "Accuracy on test set: 0.958\n"
     ]
    },
    {
     "name": "stderr",
     "output_type": "stream",
     "text": [
      "/opt/anaconda3/lib/python3.7/site-packages/sklearn/neural_network/multilayer_perceptron.py:566: ConvergenceWarning: Stochastic Optimizer: Maximum iterations (200) reached and the optimization hasn't converged yet.\n",
      "  % self.max_iter, ConvergenceWarning)\n"
     ]
    },
    {
     "name": "stdout",
     "output_type": "stream",
     "text": [
      "10\n",
      "Accuracy on training set: 0.984\n",
      "Accuracy on test set: 0.965\n"
     ]
    },
    {
     "name": "stderr",
     "output_type": "stream",
     "text": [
      "/opt/anaconda3/lib/python3.7/site-packages/sklearn/neural_network/multilayer_perceptron.py:566: ConvergenceWarning: Stochastic Optimizer: Maximum iterations (200) reached and the optimization hasn't converged yet.\n",
      "  % self.max_iter, ConvergenceWarning)\n"
     ]
    },
    {
     "name": "stdout",
     "output_type": "stream",
     "text": [
      "11\n",
      "Accuracy on training set: 0.986\n",
      "Accuracy on test set: 0.965\n"
     ]
    },
    {
     "name": "stderr",
     "output_type": "stream",
     "text": [
      "/opt/anaconda3/lib/python3.7/site-packages/sklearn/neural_network/multilayer_perceptron.py:566: ConvergenceWarning: Stochastic Optimizer: Maximum iterations (200) reached and the optimization hasn't converged yet.\n",
      "  % self.max_iter, ConvergenceWarning)\n"
     ]
    },
    {
     "name": "stdout",
     "output_type": "stream",
     "text": [
      "12\n",
      "Accuracy on training set: 0.986\n",
      "Accuracy on test set: 0.944\n"
     ]
    },
    {
     "name": "stderr",
     "output_type": "stream",
     "text": [
      "/opt/anaconda3/lib/python3.7/site-packages/sklearn/neural_network/multilayer_perceptron.py:566: ConvergenceWarning: Stochastic Optimizer: Maximum iterations (200) reached and the optimization hasn't converged yet.\n",
      "  % self.max_iter, ConvergenceWarning)\n"
     ]
    },
    {
     "name": "stdout",
     "output_type": "stream",
     "text": [
      "13\n",
      "Accuracy on training set: 0.991\n",
      "Accuracy on test set: 0.972\n"
     ]
    },
    {
     "name": "stderr",
     "output_type": "stream",
     "text": [
      "/opt/anaconda3/lib/python3.7/site-packages/sklearn/neural_network/multilayer_perceptron.py:566: ConvergenceWarning: Stochastic Optimizer: Maximum iterations (200) reached and the optimization hasn't converged yet.\n",
      "  % self.max_iter, ConvergenceWarning)\n"
     ]
    },
    {
     "name": "stdout",
     "output_type": "stream",
     "text": [
      "14\n",
      "Accuracy on training set: 0.991\n",
      "Accuracy on test set: 0.972\n"
     ]
    },
    {
     "name": "stderr",
     "output_type": "stream",
     "text": [
      "/opt/anaconda3/lib/python3.7/site-packages/sklearn/neural_network/multilayer_perceptron.py:566: ConvergenceWarning: Stochastic Optimizer: Maximum iterations (200) reached and the optimization hasn't converged yet.\n",
      "  % self.max_iter, ConvergenceWarning)\n"
     ]
    },
    {
     "name": "stdout",
     "output_type": "stream",
     "text": [
      "15\n",
      "Accuracy on training set: 0.993\n",
      "Accuracy on test set: 0.979\n"
     ]
    },
    {
     "name": "stderr",
     "output_type": "stream",
     "text": [
      "/opt/anaconda3/lib/python3.7/site-packages/sklearn/neural_network/multilayer_perceptron.py:566: ConvergenceWarning: Stochastic Optimizer: Maximum iterations (200) reached and the optimization hasn't converged yet.\n",
      "  % self.max_iter, ConvergenceWarning)\n"
     ]
    },
    {
     "name": "stdout",
     "output_type": "stream",
     "text": [
      "16\n",
      "Accuracy on training set: 0.991\n",
      "Accuracy on test set: 0.958\n"
     ]
    },
    {
     "name": "stderr",
     "output_type": "stream",
     "text": [
      "/opt/anaconda3/lib/python3.7/site-packages/sklearn/neural_network/multilayer_perceptron.py:566: ConvergenceWarning: Stochastic Optimizer: Maximum iterations (200) reached and the optimization hasn't converged yet.\n",
      "  % self.max_iter, ConvergenceWarning)\n"
     ]
    },
    {
     "name": "stdout",
     "output_type": "stream",
     "text": [
      "17\n",
      "Accuracy on training set: 0.991\n",
      "Accuracy on test set: 0.958\n"
     ]
    },
    {
     "name": "stderr",
     "output_type": "stream",
     "text": [
      "/opt/anaconda3/lib/python3.7/site-packages/sklearn/neural_network/multilayer_perceptron.py:566: ConvergenceWarning: Stochastic Optimizer: Maximum iterations (200) reached and the optimization hasn't converged yet.\n",
      "  % self.max_iter, ConvergenceWarning)\n"
     ]
    },
    {
     "name": "stdout",
     "output_type": "stream",
     "text": [
      "18\n",
      "Accuracy on training set: 0.986\n",
      "Accuracy on test set: 0.979\n"
     ]
    },
    {
     "name": "stderr",
     "output_type": "stream",
     "text": [
      "/opt/anaconda3/lib/python3.7/site-packages/sklearn/neural_network/multilayer_perceptron.py:566: ConvergenceWarning: Stochastic Optimizer: Maximum iterations (200) reached and the optimization hasn't converged yet.\n",
      "  % self.max_iter, ConvergenceWarning)\n"
     ]
    },
    {
     "name": "stdout",
     "output_type": "stream",
     "text": [
      "19\n",
      "Accuracy on training set: 0.991\n",
      "Accuracy on test set: 0.965\n"
     ]
    },
    {
     "name": "stderr",
     "output_type": "stream",
     "text": [
      "/opt/anaconda3/lib/python3.7/site-packages/sklearn/neural_network/multilayer_perceptron.py:566: ConvergenceWarning: Stochastic Optimizer: Maximum iterations (200) reached and the optimization hasn't converged yet.\n",
      "  % self.max_iter, ConvergenceWarning)\n"
     ]
    },
    {
     "name": "stdout",
     "output_type": "stream",
     "text": [
      "20\n",
      "Accuracy on training set: 0.986\n",
      "Accuracy on test set: 0.965\n"
     ]
    },
    {
     "name": "stderr",
     "output_type": "stream",
     "text": [
      "/opt/anaconda3/lib/python3.7/site-packages/sklearn/neural_network/multilayer_perceptron.py:566: ConvergenceWarning: Stochastic Optimizer: Maximum iterations (200) reached and the optimization hasn't converged yet.\n",
      "  % self.max_iter, ConvergenceWarning)\n"
     ]
    },
    {
     "name": "stdout",
     "output_type": "stream",
     "text": [
      "21\n",
      "Accuracy on training set: 0.986\n",
      "Accuracy on test set: 0.965\n"
     ]
    },
    {
     "name": "stderr",
     "output_type": "stream",
     "text": [
      "/opt/anaconda3/lib/python3.7/site-packages/sklearn/neural_network/multilayer_perceptron.py:566: ConvergenceWarning: Stochastic Optimizer: Maximum iterations (200) reached and the optimization hasn't converged yet.\n",
      "  % self.max_iter, ConvergenceWarning)\n"
     ]
    },
    {
     "name": "stdout",
     "output_type": "stream",
     "text": [
      "22\n",
      "Accuracy on training set: 0.988\n",
      "Accuracy on test set: 0.972\n"
     ]
    },
    {
     "name": "stderr",
     "output_type": "stream",
     "text": [
      "/opt/anaconda3/lib/python3.7/site-packages/sklearn/neural_network/multilayer_perceptron.py:566: ConvergenceWarning: Stochastic Optimizer: Maximum iterations (200) reached and the optimization hasn't converged yet.\n",
      "  % self.max_iter, ConvergenceWarning)\n"
     ]
    },
    {
     "name": "stdout",
     "output_type": "stream",
     "text": [
      "23\n",
      "Accuracy on training set: 0.991\n",
      "Accuracy on test set: 0.979\n"
     ]
    },
    {
     "name": "stderr",
     "output_type": "stream",
     "text": [
      "/opt/anaconda3/lib/python3.7/site-packages/sklearn/neural_network/multilayer_perceptron.py:566: ConvergenceWarning: Stochastic Optimizer: Maximum iterations (200) reached and the optimization hasn't converged yet.\n",
      "  % self.max_iter, ConvergenceWarning)\n"
     ]
    },
    {
     "name": "stdout",
     "output_type": "stream",
     "text": [
      "24\n",
      "Accuracy on training set: 0.991\n",
      "Accuracy on test set: 0.972\n"
     ]
    },
    {
     "name": "stderr",
     "output_type": "stream",
     "text": [
      "/opt/anaconda3/lib/python3.7/site-packages/sklearn/neural_network/multilayer_perceptron.py:566: ConvergenceWarning: Stochastic Optimizer: Maximum iterations (200) reached and the optimization hasn't converged yet.\n",
      "  % self.max_iter, ConvergenceWarning)\n"
     ]
    },
    {
     "name": "stdout",
     "output_type": "stream",
     "text": [
      "25\n",
      "Accuracy on training set: 0.991\n",
      "Accuracy on test set: 0.958\n"
     ]
    },
    {
     "name": "stderr",
     "output_type": "stream",
     "text": [
      "/opt/anaconda3/lib/python3.7/site-packages/sklearn/neural_network/multilayer_perceptron.py:566: ConvergenceWarning: Stochastic Optimizer: Maximum iterations (200) reached and the optimization hasn't converged yet.\n",
      "  % self.max_iter, ConvergenceWarning)\n"
     ]
    },
    {
     "name": "stdout",
     "output_type": "stream",
     "text": [
      "26\n",
      "Accuracy on training set: 0.991\n",
      "Accuracy on test set: 0.972\n"
     ]
    },
    {
     "name": "stderr",
     "output_type": "stream",
     "text": [
      "/opt/anaconda3/lib/python3.7/site-packages/sklearn/neural_network/multilayer_perceptron.py:566: ConvergenceWarning: Stochastic Optimizer: Maximum iterations (200) reached and the optimization hasn't converged yet.\n",
      "  % self.max_iter, ConvergenceWarning)\n"
     ]
    },
    {
     "name": "stdout",
     "output_type": "stream",
     "text": [
      "27\n",
      "Accuracy on training set: 0.988\n",
      "Accuracy on test set: 0.972\n"
     ]
    },
    {
     "name": "stderr",
     "output_type": "stream",
     "text": [
      "/opt/anaconda3/lib/python3.7/site-packages/sklearn/neural_network/multilayer_perceptron.py:566: ConvergenceWarning: Stochastic Optimizer: Maximum iterations (200) reached and the optimization hasn't converged yet.\n",
      "  % self.max_iter, ConvergenceWarning)\n"
     ]
    },
    {
     "name": "stdout",
     "output_type": "stream",
     "text": [
      "28\n",
      "Accuracy on training set: 0.988\n",
      "Accuracy on test set: 0.972\n",
      "29\n",
      "Accuracy on training set: 0.986\n",
      "Accuracy on test set: 0.979\n"
     ]
    },
    {
     "name": "stderr",
     "output_type": "stream",
     "text": [
      "/opt/anaconda3/lib/python3.7/site-packages/sklearn/neural_network/multilayer_perceptron.py:566: ConvergenceWarning: Stochastic Optimizer: Maximum iterations (200) reached and the optimization hasn't converged yet.\n",
      "  % self.max_iter, ConvergenceWarning)\n"
     ]
    }
   ],
   "source": [
    "for i in range(1, 30):\n",
    "    mlp = MLPClassifier(hidden_layer_sizes=(i,), random_state=42)\n",
    "    mlp.fit(X_train_scaled, y_train)\n",
    "    \n",
    "    print(i)\n",
    "    print(\"Accuracy on training set: {:.3f}\".format(mlp.score(X_train_scaled, y_train)))\n",
    "    print(\"Accuracy on test set: {:.3f}\".format(mlp.score(X_test_scaled, y_test)))"
   ]
  },
  {
   "cell_type": "code",
   "execution_count": 58,
   "metadata": {},
   "outputs": [
    {
     "name": "stdout",
     "output_type": "stream",
     "text": [
      "Accuracy on training set: 1.000\n",
      "Accuracy on test set: 0.965\n"
     ]
    }
   ],
   "source": [
    "mlp = MLPClassifier(learning_rate_init = 0.01, random_state=42)\n",
    "mlp.fit(X_train_scaled, y_train)\n",
    "\n",
    "print(\"Accuracy on training set: {:.3f}\".format(mlp.score(X_train_scaled, y_train)))\n",
    "print(\"Accuracy on test set: {:.3f}\".format(mlp.score(X_test_scaled, y_test)))"
   ]
  },
  {
   "cell_type": "code",
   "execution_count": 60,
   "metadata": {},
   "outputs": [
    {
     "name": "stdout",
     "output_type": "stream",
     "text": [
      "Accuracy on training set: 0.998\n",
      "Accuracy on test set: 0.979\n"
     ]
    }
   ],
   "source": [
    "mlp = MLPClassifier(hidden_layer_sizes=(15,), activation='logistic', learning_rate_init = 0.1, random_state=42)\n",
    "mlp.fit(X_train_scaled, y_train)\n",
    "\n",
    "print(\"Accuracy on training set: {:.3f}\".format(mlp.score(X_train_scaled, y_train)))\n",
    "print(\"Accuracy on test set: {:.3f}\".format(mlp.score(X_test_scaled, y_test)))"
   ]
  },
  {
   "cell_type": "code",
   "execution_count": 39,
   "metadata": {},
   "outputs": [
    {
     "name": "stdout",
     "output_type": "stream",
     "text": [
      "Accuracy on training set: 1.000\n",
      "Accuracy on test set: 0.958\n"
     ]
    }
   ],
   "source": [
    "mlp = MLPClassifier(solver='lbfgs', random_state=42)\n",
    "mlp.fit(X_train_scaled, y_train)\n",
    "\n",
    "print(\"Accuracy on training set: {:.3f}\".format(mlp.score(X_train_scaled, y_train)))\n",
    "print(\"Accuracy on test set: {:.3f}\".format(mlp.score(X_test_scaled, y_test)))"
   ]
  },
  {
   "cell_type": "code",
   "execution_count": 62,
   "metadata": {},
   "outputs": [
    {
     "name": "stdout",
     "output_type": "stream",
     "text": [
      "Accuracy on training set: 1.000\n",
      "Accuracy on test set: 0.972\n"
     ]
    }
   ],
   "source": [
    "mlp = MLPClassifier(solver='lbfgs', hidden_layer_sizes=(20,), random_state=42)\n",
    "mlp.fit(X_train_scaled, y_train)\n",
    "\n",
    "print(\"Accuracy on training set: {:.3f}\".format(mlp.score(X_train_scaled, y_train)))\n",
    "print(\"Accuracy on test set: {:.3f}\".format(mlp.score(X_test_scaled, y_test)))"
   ]
  },
  {
   "cell_type": "markdown",
   "metadata": {},
   "source": [
    "With the random state of 42 and all else in the default setting, changing the activation function to logistic (activation='logistic') increased the training accuracy, but there was a concern of overfitting. With the random state of 42 and all else in the default setting, I found that the hidden layer size of 15 (hidden_layer_sizes=(15,)) generated the greatest training as well as testing accuracy among the size variation between 1-30. With the random state of 42 and all else in the default setting, increasing the initial learning rate to 0.1 (learning_rate_init= 0.01,) increase the training accuracy to 100% (I wonder if this is possible?), but the testing accuracy did not differ much. The same result as increasing the initial learning rate was generated when I changed the solver for weight optimization to lbfgs (solver='lbfgs'). With (solver='lbfgs', hidden_layer_sizes=(20,)), the training accuracy increased to 100% and the testing accuracy also increased to 97.2%."
   ]
  },
  {
   "cell_type": "code",
   "execution_count": null,
   "metadata": {},
   "outputs": [],
   "source": []
  }
 ],
 "metadata": {
  "kernelspec": {
   "display_name": "Python 3",
   "language": "python",
   "name": "python3"
  },
  "language_info": {
   "codemirror_mode": {
    "name": "ipython",
    "version": 3
   },
   "file_extension": ".py",
   "mimetype": "text/x-python",
   "name": "python",
   "nbconvert_exporter": "python",
   "pygments_lexer": "ipython3",
   "version": "3.7.4"
  }
 },
 "nbformat": 4,
 "nbformat_minor": 2
}
