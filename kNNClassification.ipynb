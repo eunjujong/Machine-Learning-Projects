{
 "cells": [
  {
   "cell_type": "code",
   "execution_count": 1,
   "metadata": {},
   "outputs": [],
   "source": [
    "%matplotlib inline\n",
    "import numpy as np\n",
    "import matplotlib.pyplot as plt\n",
    "import pandas as pd\n",
    "from IPython.display import display"
   ]
  },
  {
   "cell_type": "code",
   "execution_count": 2,
   "metadata": {},
   "outputs": [
    {
     "name": "stdout",
     "output_type": "stream",
     "text": [
      "cancer.keys():\n",
      " dict_keys(['data', 'target', 'target_names', 'DESCR', 'feature_names', 'filename'])\n"
     ]
    }
   ],
   "source": [
    "# import Wisconsin Breast Cancer dataset\n",
    "from sklearn.datasets import load_breast_cancer\n",
    "# store dataset in variable \"cancer\"\n",
    "cancer = load_breast_cancer()\n",
    "# display the keys to see they match those of the iris dataset\n",
    "# the keys follow the standard scikit-learn dataset structure\n",
    "print(\"cancer.keys():\\n\", cancer.keys())"
   ]
  },
  {
   "cell_type": "code",
   "execution_count": 3,
   "metadata": {},
   "outputs": [
    {
     "name": "stdout",
     "output_type": "stream",
     "text": [
      "Shape of cancer data: (569, 30)\n"
     ]
    }
   ],
   "source": [
    "# observe the size of the dataset: 569 examples, 30 features each\n",
    "print(\"Shape of cancer data:\", cancer.data.shape)"
   ]
  },
  {
   "cell_type": "code",
   "execution_count": 4,
   "metadata": {},
   "outputs": [
    {
     "name": "stdout",
     "output_type": "stream",
     "text": [
      "Sample counts per class:\n",
      " {'malignant': 212, 'benign': 357}\n"
     ]
    }
   ],
   "source": [
    "# classification task with categories 'maligant' and 'benign'\n",
    "# look at how many of the training examples have each label\n",
    "print(\"Sample counts per class:\\n\",\n",
    "     {n: v for n,v in zip(cancer.target_names, np.bincount(cancer.target))})\n",
    "# cancer.target_names are the names of the labels\n",
    "# np.bincount(cancer.target) counts how many occurences there are of each label\n",
    "# zip pairs up the values in these two lists\n",
    "# for n,v in zip(....) takes these pairs out one by one and assigns the first\n",
    "# element in the pair to n and the second element in the pair to v\n",
    "# {n: v for n,v in zip(...)} prints out each of the n,v pairs inside a set of braces"
   ]
  },
  {
   "cell_type": "code",
   "execution_count": 5,
   "metadata": {},
   "outputs": [
    {
     "name": "stdout",
     "output_type": "stream",
     "text": [
      "Feature names:\n",
      " ['mean radius' 'mean texture' 'mean perimeter' 'mean area'\n",
      " 'mean smoothness' 'mean compactness' 'mean concavity'\n",
      " 'mean concave points' 'mean symmetry' 'mean fractal dimension'\n",
      " 'radius error' 'texture error' 'perimeter error' 'area error'\n",
      " 'smoothness error' 'compactness error' 'concavity error'\n",
      " 'concave points error' 'symmetry error' 'fractal dimension error'\n",
      " 'worst radius' 'worst texture' 'worst perimeter' 'worst area'\n",
      " 'worst smoothness' 'worst compactness' 'worst concavity'\n",
      " 'worst concave points' 'worst symmetry' 'worst fractal dimension']\n"
     ]
    }
   ],
   "source": [
    "# observe the set of features available for learning\n",
    "print(\"Feature names:\\n\", cancer.feature_names)"
   ]
  },
  {
   "cell_type": "code",
   "execution_count": 6,
   "metadata": {},
   "outputs": [],
   "source": [
    "# construct training and test sets from cancer dataset\n",
    "from sklearn.model_selection import train_test_split\n",
    "X_train, X_test, y_train, y_test = train_test_split(cancer.data, cancer.target, stratify=cancer.target, random_state=66)"
   ]
  },
  {
   "cell_type": "code",
   "execution_count": 11,
   "metadata": {},
   "outputs": [],
   "source": [
    "# set up some variables to store information about our accuracy as we try running\n",
    "# k-Nearest-Neighbors with a few different values of k\n",
    "training_accuracy = []    # will store accuracy values on training data for each k value\n",
    "test_accuracy = []        # will store accuracy values on test data for each k value\n",
    "neighbors_settings = range(1,40)    # k values to test algorithm with"
   ]
  },
  {
   "cell_type": "code",
   "execution_count": 12,
   "metadata": {},
   "outputs": [
    {
     "data": {
      "text/plain": [
       "array([[1.387e+01, 2.070e+01, 8.977e+01, ..., 6.845e-02, 2.249e-01,\n",
       "        8.492e-02],\n",
       "       [1.757e+01, 1.505e+01, 1.150e+02, ..., 1.456e-01, 2.756e-01,\n",
       "        7.919e-02],\n",
       "       [1.330e+01, 2.157e+01, 8.524e+01, ..., 5.614e-02, 2.637e-01,\n",
       "        6.658e-02],\n",
       "       ...,\n",
       "       [1.458e+01, 2.153e+01, 9.741e+01, ..., 2.701e-01, 4.264e-01,\n",
       "        1.275e-01],\n",
       "       [1.365e+01, 1.316e+01, 8.788e+01, ..., 8.056e-02, 2.380e-01,\n",
       "        8.718e-02],\n",
       "       [2.073e+01, 3.112e+01, 1.357e+02, ..., 1.659e-01, 2.868e-01,\n",
       "        8.218e-02]])"
      ]
     },
     "execution_count": 12,
     "metadata": {},
     "output_type": "execute_result"
    }
   ],
   "source": [
    "X_train"
   ]
  },
  {
   "cell_type": "code",
   "execution_count": 13,
   "metadata": {},
   "outputs": [
    {
     "name": "stdout",
     "output_type": "stream",
     "text": [
      "Running kNN with k =  1\n",
      "Running kNN with k =  2\n",
      "Running kNN with k =  3\n",
      "Running kNN with k =  4\n",
      "Running kNN with k =  5\n",
      "Running kNN with k =  6\n",
      "Running kNN with k =  7\n",
      "Running kNN with k =  8\n",
      "Running kNN with k =  9\n",
      "Running kNN with k =  10\n",
      "Running kNN with k =  11\n",
      "Running kNN with k =  12\n",
      "Running kNN with k =  13\n",
      "Running kNN with k =  14\n",
      "Running kNN with k =  15\n",
      "Running kNN with k =  16\n",
      "Running kNN with k =  17\n",
      "Running kNN with k =  18\n",
      "Running kNN with k =  19\n",
      "Running kNN with k =  20\n",
      "Running kNN with k =  21\n",
      "Running kNN with k =  22\n",
      "Running kNN with k =  23\n",
      "Running kNN with k =  24\n",
      "Running kNN with k =  25\n",
      "Running kNN with k =  26\n",
      "Running kNN with k =  27\n",
      "Running kNN with k =  28\n",
      "Running kNN with k =  29\n",
      "Running kNN with k =  30\n",
      "Running kNN with k =  31\n",
      "Running kNN with k =  32\n",
      "Running kNN with k =  33\n",
      "Running kNN with k =  34\n",
      "Running kNN with k =  35\n",
      "Running kNN with k =  36\n",
      "Running kNN with k =  37\n",
      "Running kNN with k =  38\n",
      "Running kNN with k =  39\n"
     ]
    }
   ],
   "source": [
    "from sklearn.neighbors import KNeighborsClassifier\n",
    "# the variable n_neighbors will be assigned each value from neighbors_settings in turn\n",
    "for k_value in neighbors_settings:\n",
    "    print(\"Running kNN with k = \", k_value)\n",
    "    # build a kNN model with this value of k\n",
    "    clf = KNeighborsClassifier(n_neighbors=k_value)\n",
    "    # fit the model to the training data\n",
    "    clf.fit(X_train, y_train)\n",
    "    # record the training set accuracy for this model\n",
    "    training_accuracy.append(clf.score(X_train, y_train))\n",
    "    # record the test set accuracy for this model\n",
    "    test_accuracy.append(clf.score(X_test, y_test))"
   ]
  },
  {
   "cell_type": "code",
   "execution_count": 14,
   "metadata": {},
   "outputs": [
    {
     "data": {
      "text/plain": [
       "<matplotlib.legend.Legend at 0x1a1bbcd210>"
      ]
     },
     "execution_count": 14,
     "metadata": {},
     "output_type": "execute_result"
    },
    {
     "data": {
      "image/png": "[encoded data removed]",
      "text/plain": [
       "<Figure size 432x288 with 1 Axes>"
      ]
     },
     "metadata": {
      "needs_background": "light"
     },
     "output_type": "display_data"
    }
   ],
   "source": [
    "# plot the training and test accuracies\n",
    "plt.plot(neighbors_settings, training_accuracy, label=\"training accuracy\")\n",
    "plt.plot(neighbors_settings, test_accuracy, label=\"test accuracy\")\n",
    "plt.ylabel(\"Accuracy\")\n",
    "plt.xlabel(\"k_value\")\n",
    "plt.legend()"
   ]
  },
  {
   "cell_type": "markdown",
   "metadata": {},
   "source": [
    "#### QUESTION: Why does kNN perform perfectly against its training set when k=1 and then start to perform worse against its training set when k increases?\n",
    "\n",
    "If k=1, the variable will simply be assigned with the value of the single nearest neighbor. The classifier with k=1 will come out with no errors because there is a single closest neighbor to the variable, so the classifier with k=1 will remember the correct label. Though, k=1 does not guarantee the stability of the prediction because it potentially ignores other possible nearest neighbors surrounding for k > 1."
   ]
  },
  {
   "cell_type": "markdown",
   "metadata": {},
   "source": [
    "#### QUESTION: If our system \"learned\" by just guessing the most frequent label, in this case always guessing the tumor is benign, how accurate would that classifier be?\n",
    "\n",
    "(The accuracy of this classifier may depend on the ratio between the benign tumor and the malignant tumor. There is a possibility of discrimination towards the more frequent patter causing overfitting of the more frequent label.)\n",
    "\n",
    "kNN performs perfectly against its training set when k = 1 because the training data used to develop the model is the data used for the test. So, when testing kNN on k = 1, the closest neighbor selected is always accurate. \n",
    "The accuracy is worse as k increases because more neighbors are evaluated, impacting the assignment accuracy."
   ]
  },
  {
   "cell_type": "code",
   "execution_count": 12,
   "metadata": {},
   "outputs": [
    {
     "name": "stdout",
     "output_type": "stream",
     "text": [
      "Confusion matrix:\n",
      "[[48  5]\n",
      " [ 4 86]]\n"
     ]
    }
   ],
   "source": [
    "from sklearn.metrics import confusion_matrix\n",
    "clf = KNeighborsClassifier(n_neighbors=6)\n",
    "clf.fit(X_train, y_train)\n",
    "y_pred = clf.predict(X_test)\n",
    "confusion = confusion_matrix(y_test, y_pred)\n",
    "print(\"Confusion matrix:\\n{}\".format(confusion))"
   ]
  },
  {
   "cell_type": "code",
   "execution_count": 55,
   "metadata": {},
   "outputs": [],
   "source": [
    "# TODO: Let k range through larger values, at least 20 and higher if\n",
    "# you can do so with reasonable runtime. Continue to plot the training\n",
    "# versus test accuracy. What do you observe about the effect of\n",
    "# letting k get larger?\n",
    "\n",
    "# With sligh changes, both the training accuracy as well as the testing accuracy seem to diminish over larger k values."
   ]
  },
  {
   "cell_type": "code",
   "execution_count": 54,
   "metadata": {},
   "outputs": [
    {
     "name": "stdout",
     "output_type": "stream",
     "text": [
      "k =  1 \n",
      " R^2 predicted =  0.9020979020979021  R^2 actual =  1.0\n",
      "[[47  6]\n",
      " [ 8 82]]\n",
      "k =  2 \n",
      " R^2 predicted =  0.8881118881118881  R^2 actual =  0.9765258215962441\n",
      "[[48  5]\n",
      " [11 79]]\n",
      "k =  3 \n",
      " R^2 predicted =  0.9230769230769231  R^2 actual =  0.9577464788732394\n",
      "[[47  6]\n",
      " [ 5 85]]\n",
      "k =  4 \n",
      " R^2 predicted =  0.9230769230769231  R^2 actual =  0.9553990610328639\n",
      "[[48  5]\n",
      " [ 6 84]]\n",
      "k =  5 \n",
      " R^2 predicted =  0.9230769230769231  R^2 actual =  0.9483568075117371\n",
      "[[46  7]\n",
      " [ 4 86]]\n",
      "k =  6 \n",
      " R^2 predicted =  0.9370629370629371  R^2 actual =  0.9460093896713615\n",
      "[[48  5]\n",
      " [ 4 86]]\n",
      "k =  7 \n",
      " R^2 predicted =  0.9300699300699301  R^2 actual =  0.9436619718309859\n",
      "[[47  6]\n",
      " [ 4 86]]\n",
      "k =  8 \n",
      " R^2 predicted =  0.9300699300699301  R^2 actual =  0.9413145539906104\n",
      "[[47  6]\n",
      " [ 4 86]]\n",
      "k =  9 \n",
      " R^2 predicted =  0.916083916083916  R^2 actual =  0.9342723004694836\n",
      "[[45  8]\n",
      " [ 4 86]]\n",
      "k =  10 \n",
      " R^2 predicted =  0.916083916083916  R^2 actual =  0.9389671361502347\n",
      "[[45  8]\n",
      " [ 4 86]]\n",
      "k =  11 \n",
      " R^2 predicted =  0.916083916083916  R^2 actual =  0.9342723004694836\n",
      "[[45  8]\n",
      " [ 4 86]]\n",
      "k =  12 \n",
      " R^2 predicted =  0.916083916083916  R^2 actual =  0.9342723004694836\n",
      "[[45  8]\n",
      " [ 4 86]]\n",
      "k =  13 \n",
      " R^2 predicted =  0.916083916083916  R^2 actual =  0.9413145539906104\n",
      "[[45  8]\n",
      " [ 4 86]]\n",
      "k =  14 \n",
      " R^2 predicted =  0.916083916083916  R^2 actual =  0.9413145539906104\n",
      "[[45  8]\n",
      " [ 4 86]]\n",
      "k =  15 \n",
      " R^2 predicted =  0.9230769230769231  R^2 actual =  0.9366197183098591\n",
      "[[45  8]\n",
      " [ 3 87]]\n",
      "k =  16 \n",
      " R^2 predicted =  0.9230769230769231  R^2 actual =  0.9389671361502347\n",
      "[[45  8]\n",
      " [ 3 87]]\n",
      "k =  17 \n",
      " R^2 predicted =  0.9230769230769231  R^2 actual =  0.9413145539906104\n",
      "[[45  8]\n",
      " [ 3 87]]\n",
      "k =  18 \n",
      " R^2 predicted =  0.9230769230769231  R^2 actual =  0.9413145539906104\n",
      "[[45  8]\n",
      " [ 3 87]]\n",
      "k =  19 \n",
      " R^2 predicted =  0.9230769230769231  R^2 actual =  0.9389671361502347\n",
      "[[45  8]\n",
      " [ 3 87]]\n",
      "k =  20 \n",
      " R^2 predicted =  0.9230769230769231  R^2 actual =  0.9389671361502347\n",
      "[[45  8]\n",
      " [ 3 87]]\n",
      "k =  21 \n",
      " R^2 predicted =  0.9230769230769231  R^2 actual =  0.9366197183098591\n",
      "[[45  8]\n",
      " [ 3 87]]\n",
      "k =  22 \n",
      " R^2 predicted =  0.9230769230769231  R^2 actual =  0.9389671361502347\n",
      "[[45  8]\n",
      " [ 3 87]]\n",
      "k =  23 \n",
      " R^2 predicted =  0.9230769230769231  R^2 actual =  0.9366197183098591\n",
      "[[45  8]\n",
      " [ 3 87]]\n",
      "k =  24 \n",
      " R^2 predicted =  0.9230769230769231  R^2 actual =  0.9413145539906104\n",
      "[[45  8]\n",
      " [ 3 87]]\n",
      "k =  25 \n",
      " R^2 predicted =  0.9230769230769231  R^2 actual =  0.9366197183098591\n",
      "[[45  8]\n",
      " [ 3 87]]\n",
      "k =  26 \n",
      " R^2 predicted =  0.9230769230769231  R^2 actual =  0.9366197183098591\n",
      "[[45  8]\n",
      " [ 3 87]]\n",
      "k =  27 \n",
      " R^2 predicted =  0.9230769230769231  R^2 actual =  0.9366197183098591\n",
      "[[45  8]\n",
      " [ 3 87]]\n",
      "k =  28 \n",
      " R^2 predicted =  0.9230769230769231  R^2 actual =  0.9342723004694836\n",
      "[[45  8]\n",
      " [ 3 87]]\n",
      "k =  29 \n",
      " R^2 predicted =  0.9230769230769231  R^2 actual =  0.931924882629108\n",
      "[[45  8]\n",
      " [ 3 87]]\n",
      "k =  30 \n",
      " R^2 predicted =  0.9230769230769231  R^2 actual =  0.9295774647887324\n",
      "[[45  8]\n",
      " [ 3 87]]\n",
      "k =  31 \n",
      " R^2 predicted =  0.9230769230769231  R^2 actual =  0.9272300469483568\n",
      "[[45  8]\n",
      " [ 3 87]]\n",
      "k =  32 \n",
      " R^2 predicted =  0.916083916083916  R^2 actual =  0.9272300469483568\n",
      "[[45  8]\n",
      " [ 4 86]]\n",
      "k =  33 \n",
      " R^2 predicted =  0.916083916083916  R^2 actual =  0.9295774647887324\n",
      "[[45  8]\n",
      " [ 4 86]]\n",
      "k =  34 \n",
      " R^2 predicted =  0.916083916083916  R^2 actual =  0.9272300469483568\n",
      "[[45  8]\n",
      " [ 4 86]]\n",
      "k =  35 \n",
      " R^2 predicted =  0.916083916083916  R^2 actual =  0.9272300469483568\n",
      "[[45  8]\n",
      " [ 4 86]]\n",
      "k =  36 \n",
      " R^2 predicted =  0.9090909090909091  R^2 actual =  0.9248826291079812\n",
      "[[45  8]\n",
      " [ 5 85]]\n",
      "k =  37 \n",
      " R^2 predicted =  0.916083916083916  R^2 actual =  0.9248826291079812\n",
      "[[45  8]\n",
      " [ 4 86]]\n",
      "k =  38 \n",
      " R^2 predicted =  0.9090909090909091  R^2 actual =  0.9248826291079812\n",
      "[[45  8]\n",
      " [ 5 85]]\n",
      "k =  39 \n",
      " R^2 predicted =  0.916083916083916  R^2 actual =  0.9248826291079812\n",
      "[[45  8]\n",
      " [ 4 86]]\n"
     ]
    }
   ],
   "source": [
    "neighbors_settings = range(1,40)\n",
    "for k in neighbors_settings:\n",
    "    clf = KNeighborsClassifier(n_neighbors=k)\n",
    "    clf.fit(X_train, y_train)\n",
    "    actual = clf.score(X_train, y_train)\n",
    "    predicted = clf.score(X_test, y_test)\n",
    "    print(\"k = \", k, \"\\n R^2 predicted = \", predicted, \" R^2 actual = \", actual)\n",
    "    y_pred = clf.predict(X_test)\n",
    "    confusion = confusion_matrix(y_test, y_pred)\n",
    "    print(format(confusion))"
   ]
  },
  {
   "cell_type": "code",
   "execution_count": 56,
   "metadata": {},
   "outputs": [],
   "source": [
    "# TODO: Pick the value of k that is at least 20 for which kNN seems to\n",
    "# perform the best. Get the confusion matrix for a kNN classifier trained\n",
    "# with that value of k. How does it differ from the confusion matrix for\n",
    "# our kNN classifier trained with k=6?\n",
    "\n",
    "#Any value of 20 =< k =< 31.\n",
    "# With 20 =< k =< 31, the error in which true values are predicted to be false are larger \n",
    "# compared to k = 6. Larger k than 6 potentially lowers the accuracy of the prediction of the classifier. "
   ]
  },
  {
   "cell_type": "code",
   "execution_count": null,
   "metadata": {},
   "outputs": [],
   "source": []
  },
  {
   "cell_type": "code",
   "execution_count": null,
   "metadata": {},
   "outputs": [],
   "source": []
  }
 ],
 "metadata": {
  "kernelspec": {
   "display_name": "Python 3",
   "language": "python",
   "name": "python3"
  },
  "language_info": {
   "codemirror_mode": {
    "name": "ipython",
    "version": 3
   },
   "file_extension": ".py",
   "mimetype": "text/x-python",
   "name": "python",
   "nbconvert_exporter": "python",
   "pygments_lexer": "ipython3",
   "version": "3.7.4"
  }
 },
 "nbformat": 4,
 "nbformat_minor": 2
}
