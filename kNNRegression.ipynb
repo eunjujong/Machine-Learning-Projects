{
 "cells": [
  {
   "cell_type": "code",
   "execution_count": 1,
   "metadata": {},
   "outputs": [],
   "source": [
    "%matplotlib inline\n",
    "import numpy as np\n",
    "import matplotlib.pyplot as plt\n",
    "import pandas as pd\n",
    "from IPython.display import display"
   ]
  },
  {
   "cell_type": "code",
   "execution_count": 2,
   "metadata": {},
   "outputs": [
    {
     "name": "stdout",
     "output_type": "stream",
     "text": [
      "Data shape:  (506, 13)\n"
     ]
    }
   ],
   "source": [
    "# load Boston Housing dataset - goal, predict median home value (circa 1970)\n",
    "from sklearn.datasets import load_boston\n",
    "boston = load_boston()\n",
    "print(\"Data shape: \", boston.data.shape)\n",
    "# result is a dataset of 506 examples, 13 features"
   ]
  },
  {
   "cell_type": "code",
   "execution_count": 3,
   "metadata": {},
   "outputs": [],
   "source": [
    "# generate the training and test sets\n",
    "from sklearn.model_selection import train_test_split\n",
    "X_train, X_test, y_train, y_test = train_test_split(boston.data, boston.target, random_state=0)"
   ]
  },
  {
   "cell_type": "code",
   "execution_count": 4,
   "metadata": {},
   "outputs": [],
   "source": [
    "# import KNeighborsRegressor to model regression task with kNN\n",
    "from sklearn.neighbors import KNeighborsRegressor"
   ]
  },
  {
   "cell_type": "code",
   "execution_count": 20,
   "metadata": {},
   "outputs": [],
   "source": [
    "# configure the kNN regression model to the value k=6\n",
    "reg = KNeighborsRegressor(n_neighbors=6)"
   ]
  },
  {
   "cell_type": "code",
   "execution_count": 21,
   "metadata": {},
   "outputs": [
    {
     "data": {
      "text/plain": [
       "KNeighborsRegressor(algorithm='auto', leaf_size=30, metric='minkowski',\n",
       "                    metric_params=None, n_jobs=None, n_neighbors=6, p=2,\n",
       "                    weights='uniform')"
      ]
     },
     "execution_count": 21,
     "metadata": {},
     "output_type": "execute_result"
    }
   ],
   "source": [
    "# train the model on the training data\n",
    "reg.fit(X_train, y_train)"
   ]
  },
  {
   "cell_type": "code",
   "execution_count": 22,
   "metadata": {},
   "outputs": [
    {
     "data": {
      "text/plain": [
       "0.4370686880475182"
      ]
     },
     "execution_count": 22,
     "metadata": {},
     "output_type": "execute_result"
    }
   ],
   "source": [
    "# score the model on the test data\n",
    "# for a regression task, score is not accuracy - cannot count number of correct answers\n",
    "# score is the R-squared value: 1 is perfect, 0 is a model that predits the mean of the training data\n",
    "reg.score(X_test, y_test)"
   ]
  },
  {
   "cell_type": "code",
   "execution_count": 27,
   "metadata": {},
   "outputs": [
    {
     "name": "stdout",
     "output_type": "stream",
     "text": [
      "k =  1  R^2 predicted =  0.2540875231617269 | R^2 actual =  1.0\n",
      "k =  2  R^2 predicted =  0.4557139084619136 | R^2 actual =  0.8420764806932823\n",
      "k =  3  R^2 predicted =  0.509785478689029 | R^2 actual =  0.7821234879909064\n",
      "k =  4  R^2 predicted =  0.4830601188487641 | R^2 actual =  0.7413432905288454\n",
      "k =  5  R^2 predicted =  0.4616380924610112 | R^2 actual =  0.7066272660046313\n",
      "k =  6  R^2 predicted =  0.4370686880475182 | R^2 actual =  0.6831109281198444\n",
      "k =  7  R^2 predicted =  0.4085507925107838 | R^2 actual =  0.6701464216669832\n",
      "k =  8  R^2 predicted =  0.3889774776769923 | R^2 actual =  0.6502311656281334\n",
      "k =  9  R^2 predicted =  0.3993903690069977 | R^2 actual =  0.6241516980037503\n",
      "k =  10  R^2 predicted =  0.3855915510707094 | R^2 actual =  0.5986323475860136\n",
      "k =  11  R^2 predicted =  0.39886935629788645 | R^2 actual =  0.5840310379863999\n",
      "k =  12  R^2 predicted =  0.37817980027376796 | R^2 actual =  0.5733004857089838\n",
      "k =  13  R^2 predicted =  0.3715612949757161 | R^2 actual =  0.5590178945421306\n",
      "k =  14  R^2 predicted =  0.3567970285557236 | R^2 actual =  0.554686206795598\n",
      "k =  15  R^2 predicted =  0.3305186334170186 | R^2 actual =  0.541000937679154\n",
      "k =  16  R^2 predicted =  0.323173932782448 | R^2 actual =  0.5325140521842455\n",
      "k =  17  R^2 predicted =  0.31038332398335267 | R^2 actual =  0.518987761254818\n",
      "k =  18  R^2 predicted =  0.2930120617739156 | R^2 actual =  0.5123142075239298\n",
      "k =  19  R^2 predicted =  0.2868586373832085 | R^2 actual =  0.4988781254435971\n",
      "k =  20  R^2 predicted =  0.2788863045516792 | R^2 actual =  0.4903724162586154\n",
      "k =  21  R^2 predicted =  0.28339298219744447 | R^2 actual =  0.4846345861051419\n",
      "k =  22  R^2 predicted =  0.2801209644347029 | R^2 actual =  0.47825775142514604\n",
      "k =  23  R^2 predicted =  0.2705513673010921 | R^2 actual =  0.4706474900942784\n",
      "k =  24  R^2 predicted =  0.25893334928841827 | R^2 actual =  0.4650706058298956\n",
      "k =  25  R^2 predicted =  0.2441622747450295 | R^2 actual =  0.45576677394796683\n",
      "k =  26  R^2 predicted =  0.23744206655827782 | R^2 actual =  0.44479318206070706\n",
      "k =  27  R^2 predicted =  0.23460370109990514 | R^2 actual =  0.4390967030728836\n",
      "k =  28  R^2 predicted =  0.23361855418136734 | R^2 actual =  0.43317861636176735\n",
      "k =  29  R^2 predicted =  0.22737956696429626 | R^2 actual =  0.4266696103840665\n",
      "k =  30  R^2 predicted =  0.21733552993153057 | R^2 actual =  0.4230223451579824\n",
      "k =  31  R^2 predicted =  0.2163413562395556 | R^2 actual =  0.41994275307072715\n",
      "k =  32  R^2 predicted =  0.20666035319655918 | R^2 actual =  0.4143552374906303\n",
      "k =  33  R^2 predicted =  0.19873341295666713 | R^2 actual =  0.4079311443943924\n",
      "k =  34  R^2 predicted =  0.19175608695852342 | R^2 actual =  0.40206485436000416\n",
      "k =  35  R^2 predicted =  0.18691477618455732 | R^2 actual =  0.3948629109749745\n",
      "k =  36  R^2 predicted =  0.17814357360260158 | R^2 actual =  0.39017730855998567\n",
      "k =  37  R^2 predicted =  0.17079060897436116 | R^2 actual =  0.3858325850339287\n",
      "k =  38  R^2 predicted =  0.17137596809708644 | R^2 actual =  0.3816485524092641\n",
      "k =  39  R^2 predicted =  0.1619172459977899 | R^2 actual =  0.37907718575791294\n"
     ]
    }
   ],
   "source": [
    "neighbors_settings = range(1,40)\n",
    "for k in neighbors_settings:\n",
    "    reg = KNeighborsRegressor(n_neighbors = k)\n",
    "    reg.fit(X_train, y_train)\n",
    "    r_sqr_pred = reg.score(X_test, y_test)\n",
    "    r_sqr_actual = reg.score(X_train, y_train)\n",
    "    print(\"k = \", k, \" R^2 predicted = \", r_sqr_pred, \"| R^2 actual = \", r_sqr_actual)"
   ]
  },
  {
   "cell_type": "code",
   "execution_count": 26,
   "metadata": {},
   "outputs": [],
   "source": [
    "# TODO: Borrowing from kNNClassification, test our kNN regressor out for several values of k\n",
    "# using a loop and some lists to keep track of our training and test scores\n",
    "# plot the training and test scores and observe what patterns we see as k ranges from 1\n",
    "# up through larger values.\n",
    "\n",
    "# QUESTION: Does a k=1 still result in perfect performance on the training set? Why or why not?\n",
    "\n",
    "# Yes. I assume that the explanation for the regressor will be identical to the explanation for the classifier. \n",
    "\n",
    "# QUESTION: What seems to be the best k value for learning a regressor over this data?\n",
    "\n",
    "# The best k value for learning a regressor is evident to be k = 3 because the performance of the prediction is highest with 0.509785478689029 at k = 3. "
   ]
  },
  {
   "cell_type": "code",
   "execution_count": null,
   "metadata": {},
   "outputs": [],
   "source": []
  }
 ],
 "metadata": {
  "kernelspec": {
   "display_name": "Python 3",
   "language": "python",
   "name": "python3"
  },
  "language_info": {
   "codemirror_mode": {
    "name": "ipython",
    "version": 3
   },
   "file_extension": ".py",
   "mimetype": "text/x-python",
   "name": "python",
   "nbconvert_exporter": "python",
   "pygments_lexer": "ipython3",
   "version": "3.7.4"
  }
 },
 "nbformat": 4,
 "nbformat_minor": 2
}
